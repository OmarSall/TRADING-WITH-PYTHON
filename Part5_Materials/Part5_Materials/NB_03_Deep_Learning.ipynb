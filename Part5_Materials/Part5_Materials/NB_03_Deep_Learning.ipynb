{
 "cells": [
  {
   "cell_type": "markdown",
   "metadata": {},
   "source": [
    "# Case Study A-Z: A Machine Learning powered Strategy (DNN)"
   ]
  },
  {
   "cell_type": "markdown",
   "metadata": {},
   "source": [
    "_Disclaimer: <br>\n",
    "The following illustrative example is for general information and educational purposes only. <br>\n",
    "It is neither investment advice nor a recommendation to trade, invest or take whatsoever actions.<br>\n",
    "The below code should only be used in combination with an Oanda/FXCM Practice/Demo Account and NOT with a Live Trading Account._"
   ]
  },
  {
   "cell_type": "markdown",
   "metadata": {},
   "source": [
    "## Getting and Preparing the Data"
   ]
  },
  {
   "cell_type": "code",
   "execution_count": 1,
   "metadata": {},
   "outputs": [],
   "source": [
    "import tensorflow"
   ]
  },
  {
   "cell_type": "code",
   "execution_count": 2,
   "metadata": {},
   "outputs": [],
   "source": [
    "import keras"
   ]
  },
  {
   "cell_type": "code",
   "execution_count": 3,
   "metadata": {},
   "outputs": [],
   "source": [
    "import pandas as pd\n",
    "import numpy as np\n",
    "import matplotlib.pyplot as plt\n",
    "plt.style.use(\"seaborn\")\n",
    "pd.set_option('display.float_format', lambda x: '%.5f' % x)"
   ]
  },
  {
   "cell_type": "code",
   "execution_count": 4,
   "metadata": {},
   "outputs": [],
   "source": [
    "data = pd.read_csv(\"DNN_data.csv\", parse_dates = [\"time\"], index_col = \"time\")"
   ]
  },
  {
   "cell_type": "code",
   "execution_count": 5,
   "metadata": {},
   "outputs": [
    {
     "data": {
      "text/html": [
       "<div>\n",
       "<style scoped>\n",
       "    .dataframe tbody tr th:only-of-type {\n",
       "        vertical-align: middle;\n",
       "    }\n",
       "\n",
       "    .dataframe tbody tr th {\n",
       "        vertical-align: top;\n",
       "    }\n",
       "\n",
       "    .dataframe thead th {\n",
       "        text-align: right;\n",
       "    }\n",
       "</style>\n",
       "<table border=\"1\" class=\"dataframe\">\n",
       "  <thead>\n",
       "    <tr style=\"text-align: right;\">\n",
       "      <th></th>\n",
       "      <th>EUR_USD</th>\n",
       "    </tr>\n",
       "    <tr>\n",
       "      <th>time</th>\n",
       "      <th></th>\n",
       "    </tr>\n",
       "  </thead>\n",
       "  <tbody>\n",
       "    <tr>\n",
       "      <th>2017-01-02 23:20:00</th>\n",
       "      <td>1.04574</td>\n",
       "    </tr>\n",
       "    <tr>\n",
       "      <th>2017-01-02 23:40:00</th>\n",
       "      <td>1.04608</td>\n",
       "    </tr>\n",
       "    <tr>\n",
       "      <th>2017-01-03 00:00:00</th>\n",
       "      <td>1.04575</td>\n",
       "    </tr>\n",
       "    <tr>\n",
       "      <th>2017-01-03 00:20:00</th>\n",
       "      <td>1.04672</td>\n",
       "    </tr>\n",
       "    <tr>\n",
       "      <th>2017-01-03 00:40:00</th>\n",
       "      <td>1.04696</td>\n",
       "    </tr>\n",
       "    <tr>\n",
       "      <th>...</th>\n",
       "      <td>...</td>\n",
       "    </tr>\n",
       "    <tr>\n",
       "      <th>2019-12-30 23:00:00</th>\n",
       "      <td>1.12012</td>\n",
       "    </tr>\n",
       "    <tr>\n",
       "      <th>2019-12-30 23:20:00</th>\n",
       "      <td>1.12030</td>\n",
       "    </tr>\n",
       "    <tr>\n",
       "      <th>2019-12-30 23:40:00</th>\n",
       "      <td>1.12018</td>\n",
       "    </tr>\n",
       "    <tr>\n",
       "      <th>2019-12-31 00:00:00</th>\n",
       "      <td>1.12013</td>\n",
       "    </tr>\n",
       "    <tr>\n",
       "      <th>2019-12-31 00:20:00</th>\n",
       "      <td>1.12030</td>\n",
       "    </tr>\n",
       "  </tbody>\n",
       "</table>\n",
       "<p>55785 rows × 1 columns</p>\n",
       "</div>"
      ],
      "text/plain": [
       "                     EUR_USD\n",
       "time                        \n",
       "2017-01-02 23:20:00  1.04574\n",
       "2017-01-02 23:40:00  1.04608\n",
       "2017-01-03 00:00:00  1.04575\n",
       "2017-01-03 00:20:00  1.04672\n",
       "2017-01-03 00:40:00  1.04696\n",
       "...                      ...\n",
       "2019-12-30 23:00:00  1.12012\n",
       "2019-12-30 23:20:00  1.12030\n",
       "2019-12-30 23:40:00  1.12018\n",
       "2019-12-31 00:00:00  1.12013\n",
       "2019-12-31 00:20:00  1.12030\n",
       "\n",
       "[55785 rows x 1 columns]"
      ]
     },
     "execution_count": 5,
     "metadata": {},
     "output_type": "execute_result"
    }
   ],
   "source": [
    "data "
   ]
  },
  {
   "cell_type": "code",
   "execution_count": 6,
   "metadata": {},
   "outputs": [
    {
     "name": "stdout",
     "output_type": "stream",
     "text": [
      "<class 'pandas.core.frame.DataFrame'>\n",
      "DatetimeIndex: 55785 entries, 2017-01-02 23:20:00 to 2019-12-31 00:20:00\n",
      "Data columns (total 1 columns):\n",
      " #   Column   Non-Null Count  Dtype  \n",
      "---  ------   --------------  -----  \n",
      " 0   EUR_USD  55785 non-null  float64\n",
      "dtypes: float64(1)\n",
      "memory usage: 871.6 KB\n"
     ]
    }
   ],
   "source": [
    "data.info()"
   ]
  },
  {
   "cell_type": "code",
   "execution_count": 7,
   "metadata": {},
   "outputs": [
    {
     "data": {
      "text/plain": [
       "'EUR_USD'"
      ]
     },
     "execution_count": 7,
     "metadata": {},
     "output_type": "execute_result"
    }
   ],
   "source": [
    "symbol = data.columns[0]\n",
    "symbol"
   ]
  },
  {
   "cell_type": "code",
   "execution_count": 8,
   "metadata": {},
   "outputs": [
    {
     "data": {
      "image/png": "[encoded data removed]",
      "text/plain": [
       "<Figure size 864x576 with 1 Axes>"
      ]
     },
     "metadata": {},
     "output_type": "display_data"
    }
   ],
   "source": [
    "data.plot(figsize = (12, 8))\n",
    "plt.show()"
   ]
  },
  {
   "cell_type": "code",
   "execution_count": 9,
   "metadata": {},
   "outputs": [],
   "source": [
    "data[\"returns\"] = np.log(data[symbol] / data[symbol].shift())"
   ]
  },
  {
   "cell_type": "code",
   "execution_count": 10,
   "metadata": {},
   "outputs": [
    {
     "data": {
      "text/html": [
       "<div>\n",
       "<style scoped>\n",
       "    .dataframe tbody tr th:only-of-type {\n",
       "        vertical-align: middle;\n",
       "    }\n",
       "\n",
       "    .dataframe tbody tr th {\n",
       "        vertical-align: top;\n",
       "    }\n",
       "\n",
       "    .dataframe thead th {\n",
       "        text-align: right;\n",
       "    }\n",
       "</style>\n",
       "<table border=\"1\" class=\"dataframe\">\n",
       "  <thead>\n",
       "    <tr style=\"text-align: right;\">\n",
       "      <th></th>\n",
       "      <th>EUR_USD</th>\n",
       "      <th>returns</th>\n",
       "    </tr>\n",
       "    <tr>\n",
       "      <th>time</th>\n",
       "      <th></th>\n",
       "      <th></th>\n",
       "    </tr>\n",
       "  </thead>\n",
       "  <tbody>\n",
       "    <tr>\n",
       "      <th>2017-01-02 23:20:00</th>\n",
       "      <td>1.04574</td>\n",
       "      <td>NaN</td>\n",
       "    </tr>\n",
       "    <tr>\n",
       "      <th>2017-01-02 23:40:00</th>\n",
       "      <td>1.04608</td>\n",
       "      <td>0.00033</td>\n",
       "    </tr>\n",
       "    <tr>\n",
       "      <th>2017-01-03 00:00:00</th>\n",
       "      <td>1.04575</td>\n",
       "      <td>-0.00032</td>\n",
       "    </tr>\n",
       "    <tr>\n",
       "      <th>2017-01-03 00:20:00</th>\n",
       "      <td>1.04672</td>\n",
       "      <td>0.00093</td>\n",
       "    </tr>\n",
       "    <tr>\n",
       "      <th>2017-01-03 00:40:00</th>\n",
       "      <td>1.04696</td>\n",
       "      <td>0.00023</td>\n",
       "    </tr>\n",
       "    <tr>\n",
       "      <th>...</th>\n",
       "      <td>...</td>\n",
       "      <td>...</td>\n",
       "    </tr>\n",
       "    <tr>\n",
       "      <th>2019-12-30 23:00:00</th>\n",
       "      <td>1.12012</td>\n",
       "      <td>0.00008</td>\n",
       "    </tr>\n",
       "    <tr>\n",
       "      <th>2019-12-30 23:20:00</th>\n",
       "      <td>1.12030</td>\n",
       "      <td>0.00016</td>\n",
       "    </tr>\n",
       "    <tr>\n",
       "      <th>2019-12-30 23:40:00</th>\n",
       "      <td>1.12018</td>\n",
       "      <td>-0.00011</td>\n",
       "    </tr>\n",
       "    <tr>\n",
       "      <th>2019-12-31 00:00:00</th>\n",
       "      <td>1.12013</td>\n",
       "      <td>-0.00004</td>\n",
       "    </tr>\n",
       "    <tr>\n",
       "      <th>2019-12-31 00:20:00</th>\n",
       "      <td>1.12030</td>\n",
       "      <td>0.00015</td>\n",
       "    </tr>\n",
       "  </tbody>\n",
       "</table>\n",
       "<p>55785 rows × 2 columns</p>\n",
       "</div>"
      ],
      "text/plain": [
       "                     EUR_USD  returns\n",
       "time                                 \n",
       "2017-01-02 23:20:00  1.04574      NaN\n",
       "2017-01-02 23:40:00  1.04608  0.00033\n",
       "2017-01-03 00:00:00  1.04575 -0.00032\n",
       "2017-01-03 00:20:00  1.04672  0.00093\n",
       "2017-01-03 00:40:00  1.04696  0.00023\n",
       "...                      ...      ...\n",
       "2019-12-30 23:00:00  1.12012  0.00008\n",
       "2019-12-30 23:20:00  1.12030  0.00016\n",
       "2019-12-30 23:40:00  1.12018 -0.00011\n",
       "2019-12-31 00:00:00  1.12013 -0.00004\n",
       "2019-12-31 00:20:00  1.12030  0.00015\n",
       "\n",
       "[55785 rows x 2 columns]"
      ]
     },
     "execution_count": 10,
     "metadata": {},
     "output_type": "execute_result"
    }
   ],
   "source": [
    "data"
   ]
  },
  {
   "cell_type": "code",
   "execution_count": null,
   "metadata": {},
   "outputs": [],
   "source": []
  },
  {
   "cell_type": "markdown",
   "metadata": {},
   "source": [
    "## Adding Label/Features"
   ]
  },
  {
   "cell_type": "code",
   "execution_count": 11,
   "metadata": {},
   "outputs": [],
   "source": [
    "window = 50"
   ]
  },
  {
   "cell_type": "code",
   "execution_count": 12,
   "metadata": {},
   "outputs": [],
   "source": [
    "df = data.copy()\n",
    "df[\"dir\"] = np.where(df[\"returns\"] > 0, 1, 0)\n",
    "df[\"sma\"] = df[symbol].rolling(window).mean() - df[symbol].rolling(150).mean()\n",
    "df[\"boll\"] = (df[symbol] - df[symbol].rolling(window).mean()) / df[symbol].rolling(window).std()\n",
    "df[\"min\"] = df[symbol].rolling(window).min() / df[symbol] - 1\n",
    "df[\"max\"] = df[symbol].rolling(window).max() / df[symbol] - 1\n",
    "df[\"mom\"] = df[\"returns\"].rolling(3).mean()\n",
    "df[\"vol\"] = df[\"returns\"].rolling(window).std()\n",
    "df.dropna(inplace = True)"
   ]
  },
  {
   "cell_type": "code",
   "execution_count": 13,
   "metadata": {},
   "outputs": [
    {
     "data": {
      "text/html": [
       "<div>\n",
       "<style scoped>\n",
       "    .dataframe tbody tr th:only-of-type {\n",
       "        vertical-align: middle;\n",
       "    }\n",
       "\n",
       "    .dataframe tbody tr th {\n",
       "        vertical-align: top;\n",
       "    }\n",
       "\n",
       "    .dataframe thead th {\n",
       "        text-align: right;\n",
       "    }\n",
       "</style>\n",
       "<table border=\"1\" class=\"dataframe\">\n",
       "  <thead>\n",
       "    <tr style=\"text-align: right;\">\n",
       "      <th></th>\n",
       "      <th>EUR_USD</th>\n",
       "      <th>returns</th>\n",
       "      <th>dir</th>\n",
       "      <th>sma</th>\n",
       "      <th>boll</th>\n",
       "      <th>min</th>\n",
       "      <th>max</th>\n",
       "      <th>mom</th>\n",
       "      <th>vol</th>\n",
       "    </tr>\n",
       "    <tr>\n",
       "      <th>time</th>\n",
       "      <th></th>\n",
       "      <th></th>\n",
       "      <th></th>\n",
       "      <th></th>\n",
       "      <th></th>\n",
       "      <th></th>\n",
       "      <th></th>\n",
       "      <th></th>\n",
       "      <th></th>\n",
       "    </tr>\n",
       "  </thead>\n",
       "  <tbody>\n",
       "    <tr>\n",
       "      <th>2017-01-05 01:00:00</th>\n",
       "      <td>1.05406</td>\n",
       "      <td>0.00173</td>\n",
       "      <td>1</td>\n",
       "      <td>0.00275</td>\n",
       "      <td>2.77761</td>\n",
       "      <td>-0.01095</td>\n",
       "      <td>0.00000</td>\n",
       "      <td>0.00138</td>\n",
       "      <td>0.00080</td>\n",
       "    </tr>\n",
       "    <tr>\n",
       "      <th>2017-01-05 01:20:00</th>\n",
       "      <td>1.05226</td>\n",
       "      <td>-0.00171</td>\n",
       "      <td>0</td>\n",
       "      <td>0.00290</td>\n",
       "      <td>2.00028</td>\n",
       "      <td>-0.00905</td>\n",
       "      <td>0.00171</td>\n",
       "      <td>-0.00010</td>\n",
       "      <td>0.00084</td>\n",
       "    </tr>\n",
       "    <tr>\n",
       "      <th>2017-01-05 01:40:00</th>\n",
       "      <td>1.05138</td>\n",
       "      <td>-0.00084</td>\n",
       "      <td>0</td>\n",
       "      <td>0.00302</td>\n",
       "      <td>1.60440</td>\n",
       "      <td>-0.00822</td>\n",
       "      <td>0.00255</td>\n",
       "      <td>-0.00027</td>\n",
       "      <td>0.00085</td>\n",
       "    </tr>\n",
       "    <tr>\n",
       "      <th>2017-01-05 02:00:00</th>\n",
       "      <td>1.05196</td>\n",
       "      <td>0.00055</td>\n",
       "      <td>1</td>\n",
       "      <td>0.00314</td>\n",
       "      <td>1.71886</td>\n",
       "      <td>-0.00876</td>\n",
       "      <td>0.00200</td>\n",
       "      <td>-0.00066</td>\n",
       "      <td>0.00085</td>\n",
       "    </tr>\n",
       "    <tr>\n",
       "      <th>2017-01-05 02:20:00</th>\n",
       "      <td>1.05230</td>\n",
       "      <td>0.00032</td>\n",
       "      <td>1</td>\n",
       "      <td>0.00327</td>\n",
       "      <td>1.74272</td>\n",
       "      <td>-0.00908</td>\n",
       "      <td>0.00167</td>\n",
       "      <td>0.00001</td>\n",
       "      <td>0.00085</td>\n",
       "    </tr>\n",
       "    <tr>\n",
       "      <th>...</th>\n",
       "      <td>...</td>\n",
       "      <td>...</td>\n",
       "      <td>...</td>\n",
       "      <td>...</td>\n",
       "      <td>...</td>\n",
       "      <td>...</td>\n",
       "      <td>...</td>\n",
       "      <td>...</td>\n",
       "      <td>...</td>\n",
       "    </tr>\n",
       "    <tr>\n",
       "      <th>2019-12-30 23:00:00</th>\n",
       "      <td>1.12012</td>\n",
       "      <td>0.00008</td>\n",
       "      <td>1</td>\n",
       "      <td>0.00316</td>\n",
       "      <td>0.11606</td>\n",
       "      <td>-0.00136</td>\n",
       "      <td>0.00145</td>\n",
       "      <td>0.00006</td>\n",
       "      <td>0.00041</td>\n",
       "    </tr>\n",
       "    <tr>\n",
       "      <th>2019-12-30 23:20:00</th>\n",
       "      <td>1.12030</td>\n",
       "      <td>0.00016</td>\n",
       "      <td>1</td>\n",
       "      <td>0.00312</td>\n",
       "      <td>0.33557</td>\n",
       "      <td>-0.00152</td>\n",
       "      <td>0.00129</td>\n",
       "      <td>-0.00003</td>\n",
       "      <td>0.00040</td>\n",
       "    </tr>\n",
       "    <tr>\n",
       "      <th>2019-12-30 23:40:00</th>\n",
       "      <td>1.12018</td>\n",
       "      <td>-0.00011</td>\n",
       "      <td>0</td>\n",
       "      <td>0.00306</td>\n",
       "      <td>0.15542</td>\n",
       "      <td>-0.00141</td>\n",
       "      <td>0.00139</td>\n",
       "      <td>0.00004</td>\n",
       "      <td>0.00039</td>\n",
       "    </tr>\n",
       "    <tr>\n",
       "      <th>2019-12-31 00:00:00</th>\n",
       "      <td>1.12013</td>\n",
       "      <td>-0.00004</td>\n",
       "      <td>0</td>\n",
       "      <td>0.00299</td>\n",
       "      <td>0.09029</td>\n",
       "      <td>-0.00137</td>\n",
       "      <td>0.00144</td>\n",
       "      <td>0.00000</td>\n",
       "      <td>0.00039</td>\n",
       "    </tr>\n",
       "    <tr>\n",
       "      <th>2019-12-31 00:20:00</th>\n",
       "      <td>1.12030</td>\n",
       "      <td>0.00015</td>\n",
       "      <td>1</td>\n",
       "      <td>0.00291</td>\n",
       "      <td>0.32769</td>\n",
       "      <td>-0.00152</td>\n",
       "      <td>0.00129</td>\n",
       "      <td>-0.00000</td>\n",
       "      <td>0.00039</td>\n",
       "    </tr>\n",
       "  </tbody>\n",
       "</table>\n",
       "<p>55636 rows × 9 columns</p>\n",
       "</div>"
      ],
      "text/plain": [
       "                     EUR_USD  returns  dir     sma    boll      min     max  \\\n",
       "time                                                                          \n",
       "2017-01-05 01:00:00  1.05406  0.00173    1 0.00275 2.77761 -0.01095 0.00000   \n",
       "2017-01-05 01:20:00  1.05226 -0.00171    0 0.00290 2.00028 -0.00905 0.00171   \n",
       "2017-01-05 01:40:00  1.05138 -0.00084    0 0.00302 1.60440 -0.00822 0.00255   \n",
       "2017-01-05 02:00:00  1.05196  0.00055    1 0.00314 1.71886 -0.00876 0.00200   \n",
       "2017-01-05 02:20:00  1.05230  0.00032    1 0.00327 1.74272 -0.00908 0.00167   \n",
       "...                      ...      ...  ...     ...     ...      ...     ...   \n",
       "2019-12-30 23:00:00  1.12012  0.00008    1 0.00316 0.11606 -0.00136 0.00145   \n",
       "2019-12-30 23:20:00  1.12030  0.00016    1 0.00312 0.33557 -0.00152 0.00129   \n",
       "2019-12-30 23:40:00  1.12018 -0.00011    0 0.00306 0.15542 -0.00141 0.00139   \n",
       "2019-12-31 00:00:00  1.12013 -0.00004    0 0.00299 0.09029 -0.00137 0.00144   \n",
       "2019-12-31 00:20:00  1.12030  0.00015    1 0.00291 0.32769 -0.00152 0.00129   \n",
       "\n",
       "                         mom     vol  \n",
       "time                                  \n",
       "2017-01-05 01:00:00  0.00138 0.00080  \n",
       "2017-01-05 01:20:00 -0.00010 0.00084  \n",
       "2017-01-05 01:40:00 -0.00027 0.00085  \n",
       "2017-01-05 02:00:00 -0.00066 0.00085  \n",
       "2017-01-05 02:20:00  0.00001 0.00085  \n",
       "...                      ...     ...  \n",
       "2019-12-30 23:00:00  0.00006 0.00041  \n",
       "2019-12-30 23:20:00 -0.00003 0.00040  \n",
       "2019-12-30 23:40:00  0.00004 0.00039  \n",
       "2019-12-31 00:00:00  0.00000 0.00039  \n",
       "2019-12-31 00:20:00 -0.00000 0.00039  \n",
       "\n",
       "[55636 rows x 9 columns]"
      ]
     },
     "execution_count": 13,
     "metadata": {},
     "output_type": "execute_result"
    }
   ],
   "source": [
    "df"
   ]
  },
  {
   "cell_type": "code",
   "execution_count": null,
   "metadata": {},
   "outputs": [],
   "source": []
  },
  {
   "cell_type": "markdown",
   "metadata": {},
   "source": [
    "## Adding Feature lags"
   ]
  },
  {
   "cell_type": "code",
   "execution_count": 14,
   "metadata": {},
   "outputs": [],
   "source": [
    "lags = 5"
   ]
  },
  {
   "cell_type": "code",
   "execution_count": 15,
   "metadata": {},
   "outputs": [],
   "source": [
    "cols = []\n",
    "features = [\"dir\", \"sma\", \"boll\", \"min\", \"max\", \"mom\", \"vol\"]"
   ]
  },
  {
   "cell_type": "code",
   "execution_count": 16,
   "metadata": {},
   "outputs": [],
   "source": [
    "for f in features:\n",
    "        for lag in range(1, lags + 1):\n",
    "            col = \"{}_lag_{}\".format(f, lag)\n",
    "            df[col] = df[f].shift(lag)\n",
    "            cols.append(col)\n",
    "df.dropna(inplace = True)"
   ]
  },
  {
   "cell_type": "code",
   "execution_count": 17,
   "metadata": {},
   "outputs": [
    {
     "data": {
      "text/html": [
       "<div>\n",
       "<style scoped>\n",
       "    .dataframe tbody tr th:only-of-type {\n",
       "        vertical-align: middle;\n",
       "    }\n",
       "\n",
       "    .dataframe tbody tr th {\n",
       "        vertical-align: top;\n",
       "    }\n",
       "\n",
       "    .dataframe thead th {\n",
       "        text-align: right;\n",
       "    }\n",
       "</style>\n",
       "<table border=\"1\" class=\"dataframe\">\n",
       "  <thead>\n",
       "    <tr style=\"text-align: right;\">\n",
       "      <th></th>\n",
       "      <th>EUR_USD</th>\n",
       "      <th>returns</th>\n",
       "      <th>dir</th>\n",
       "      <th>sma</th>\n",
       "      <th>boll</th>\n",
       "      <th>min</th>\n",
       "      <th>max</th>\n",
       "      <th>mom</th>\n",
       "      <th>vol</th>\n",
       "      <th>dir_lag_1</th>\n",
       "      <th>...</th>\n",
       "      <th>mom_lag_1</th>\n",
       "      <th>mom_lag_2</th>\n",
       "      <th>mom_lag_3</th>\n",
       "      <th>mom_lag_4</th>\n",
       "      <th>mom_lag_5</th>\n",
       "      <th>vol_lag_1</th>\n",
       "      <th>vol_lag_2</th>\n",
       "      <th>vol_lag_3</th>\n",
       "      <th>vol_lag_4</th>\n",
       "      <th>vol_lag_5</th>\n",
       "    </tr>\n",
       "    <tr>\n",
       "      <th>time</th>\n",
       "      <th></th>\n",
       "      <th></th>\n",
       "      <th></th>\n",
       "      <th></th>\n",
       "      <th></th>\n",
       "      <th></th>\n",
       "      <th></th>\n",
       "      <th></th>\n",
       "      <th></th>\n",
       "      <th></th>\n",
       "      <th></th>\n",
       "      <th></th>\n",
       "      <th></th>\n",
       "      <th></th>\n",
       "      <th></th>\n",
       "      <th></th>\n",
       "      <th></th>\n",
       "      <th></th>\n",
       "      <th></th>\n",
       "      <th></th>\n",
       "      <th></th>\n",
       "    </tr>\n",
       "  </thead>\n",
       "  <tbody>\n",
       "    <tr>\n",
       "      <th>2017-01-05 02:40:00</th>\n",
       "      <td>1.05124</td>\n",
       "      <td>-0.00101</td>\n",
       "      <td>0</td>\n",
       "      <td>0.00339</td>\n",
       "      <td>1.32277</td>\n",
       "      <td>-0.00809</td>\n",
       "      <td>0.00268</td>\n",
       "      <td>-0.00004</td>\n",
       "      <td>0.00086</td>\n",
       "      <td>1.00000</td>\n",
       "      <td>...</td>\n",
       "      <td>0.00001</td>\n",
       "      <td>-0.00066</td>\n",
       "      <td>-0.00027</td>\n",
       "      <td>-0.00010</td>\n",
       "      <td>0.00138</td>\n",
       "      <td>0.00085</td>\n",
       "      <td>0.00085</td>\n",
       "      <td>0.00085</td>\n",
       "      <td>0.00084</td>\n",
       "      <td>0.00080</td>\n",
       "    </tr>\n",
       "    <tr>\n",
       "      <th>2017-01-05 03:00:00</th>\n",
       "      <td>1.05150</td>\n",
       "      <td>0.00025</td>\n",
       "      <td>1</td>\n",
       "      <td>0.00351</td>\n",
       "      <td>1.35516</td>\n",
       "      <td>-0.00833</td>\n",
       "      <td>0.00243</td>\n",
       "      <td>-0.00015</td>\n",
       "      <td>0.00086</td>\n",
       "      <td>0.00000</td>\n",
       "      <td>...</td>\n",
       "      <td>-0.00004</td>\n",
       "      <td>0.00001</td>\n",
       "      <td>-0.00066</td>\n",
       "      <td>-0.00027</td>\n",
       "      <td>-0.00010</td>\n",
       "      <td>0.00086</td>\n",
       "      <td>0.00085</td>\n",
       "      <td>0.00085</td>\n",
       "      <td>0.00085</td>\n",
       "      <td>0.00084</td>\n",
       "    </tr>\n",
       "    <tr>\n",
       "      <th>2017-01-05 03:20:00</th>\n",
       "      <td>1.05230</td>\n",
       "      <td>0.00076</td>\n",
       "      <td>1</td>\n",
       "      <td>0.00365</td>\n",
       "      <td>1.55709</td>\n",
       "      <td>-0.00908</td>\n",
       "      <td>0.00167</td>\n",
       "      <td>-0.00000</td>\n",
       "      <td>0.00086</td>\n",
       "      <td>1.00000</td>\n",
       "      <td>...</td>\n",
       "      <td>-0.00015</td>\n",
       "      <td>-0.00004</td>\n",
       "      <td>0.00001</td>\n",
       "      <td>-0.00066</td>\n",
       "      <td>-0.00027</td>\n",
       "      <td>0.00086</td>\n",
       "      <td>0.00086</td>\n",
       "      <td>0.00085</td>\n",
       "      <td>0.00085</td>\n",
       "      <td>0.00085</td>\n",
       "    </tr>\n",
       "    <tr>\n",
       "      <th>2017-01-05 03:40:00</th>\n",
       "      <td>1.05192</td>\n",
       "      <td>-0.00036</td>\n",
       "      <td>0</td>\n",
       "      <td>0.00380</td>\n",
       "      <td>1.37543</td>\n",
       "      <td>-0.00873</td>\n",
       "      <td>0.00203</td>\n",
       "      <td>0.00022</td>\n",
       "      <td>0.00086</td>\n",
       "      <td>1.00000</td>\n",
       "      <td>...</td>\n",
       "      <td>-0.00000</td>\n",
       "      <td>-0.00015</td>\n",
       "      <td>-0.00004</td>\n",
       "      <td>0.00001</td>\n",
       "      <td>-0.00066</td>\n",
       "      <td>0.00086</td>\n",
       "      <td>0.00086</td>\n",
       "      <td>0.00086</td>\n",
       "      <td>0.00085</td>\n",
       "      <td>0.00085</td>\n",
       "    </tr>\n",
       "    <tr>\n",
       "      <th>2017-01-05 04:00:00</th>\n",
       "      <td>1.05204</td>\n",
       "      <td>0.00011</td>\n",
       "      <td>1</td>\n",
       "      <td>0.00392</td>\n",
       "      <td>1.35764</td>\n",
       "      <td>-0.00884</td>\n",
       "      <td>0.00192</td>\n",
       "      <td>0.00017</td>\n",
       "      <td>0.00085</td>\n",
       "      <td>0.00000</td>\n",
       "      <td>...</td>\n",
       "      <td>0.00022</td>\n",
       "      <td>-0.00000</td>\n",
       "      <td>-0.00015</td>\n",
       "      <td>-0.00004</td>\n",
       "      <td>0.00001</td>\n",
       "      <td>0.00086</td>\n",
       "      <td>0.00086</td>\n",
       "      <td>0.00086</td>\n",
       "      <td>0.00086</td>\n",
       "      <td>0.00085</td>\n",
       "    </tr>\n",
       "    <tr>\n",
       "      <th>...</th>\n",
       "      <td>...</td>\n",
       "      <td>...</td>\n",
       "      <td>...</td>\n",
       "      <td>...</td>\n",
       "      <td>...</td>\n",
       "      <td>...</td>\n",
       "      <td>...</td>\n",
       "      <td>...</td>\n",
       "      <td>...</td>\n",
       "      <td>...</td>\n",
       "      <td>...</td>\n",
       "      <td>...</td>\n",
       "      <td>...</td>\n",
       "      <td>...</td>\n",
       "      <td>...</td>\n",
       "      <td>...</td>\n",
       "      <td>...</td>\n",
       "      <td>...</td>\n",
       "      <td>...</td>\n",
       "      <td>...</td>\n",
       "      <td>...</td>\n",
       "    </tr>\n",
       "    <tr>\n",
       "      <th>2019-12-30 23:00:00</th>\n",
       "      <td>1.12012</td>\n",
       "      <td>0.00008</td>\n",
       "      <td>1</td>\n",
       "      <td>0.00316</td>\n",
       "      <td>0.11606</td>\n",
       "      <td>-0.00136</td>\n",
       "      <td>0.00145</td>\n",
       "      <td>0.00006</td>\n",
       "      <td>0.00041</td>\n",
       "      <td>0.00000</td>\n",
       "      <td>...</td>\n",
       "      <td>-0.00007</td>\n",
       "      <td>0.00007</td>\n",
       "      <td>0.00002</td>\n",
       "      <td>0.00010</td>\n",
       "      <td>0.00010</td>\n",
       "      <td>0.00041</td>\n",
       "      <td>0.00041</td>\n",
       "      <td>0.00040</td>\n",
       "      <td>0.00040</td>\n",
       "      <td>0.00040</td>\n",
       "    </tr>\n",
       "    <tr>\n",
       "      <th>2019-12-30 23:20:00</th>\n",
       "      <td>1.12030</td>\n",
       "      <td>0.00016</td>\n",
       "      <td>1</td>\n",
       "      <td>0.00312</td>\n",
       "      <td>0.33557</td>\n",
       "      <td>-0.00152</td>\n",
       "      <td>0.00129</td>\n",
       "      <td>-0.00003</td>\n",
       "      <td>0.00040</td>\n",
       "      <td>1.00000</td>\n",
       "      <td>...</td>\n",
       "      <td>0.00006</td>\n",
       "      <td>-0.00007</td>\n",
       "      <td>0.00007</td>\n",
       "      <td>0.00002</td>\n",
       "      <td>0.00010</td>\n",
       "      <td>0.00041</td>\n",
       "      <td>0.00041</td>\n",
       "      <td>0.00041</td>\n",
       "      <td>0.00040</td>\n",
       "      <td>0.00040</td>\n",
       "    </tr>\n",
       "    <tr>\n",
       "      <th>2019-12-30 23:40:00</th>\n",
       "      <td>1.12018</td>\n",
       "      <td>-0.00011</td>\n",
       "      <td>0</td>\n",
       "      <td>0.00306</td>\n",
       "      <td>0.15542</td>\n",
       "      <td>-0.00141</td>\n",
       "      <td>0.00139</td>\n",
       "      <td>0.00004</td>\n",
       "      <td>0.00039</td>\n",
       "      <td>1.00000</td>\n",
       "      <td>...</td>\n",
       "      <td>-0.00003</td>\n",
       "      <td>0.00006</td>\n",
       "      <td>-0.00007</td>\n",
       "      <td>0.00007</td>\n",
       "      <td>0.00002</td>\n",
       "      <td>0.00040</td>\n",
       "      <td>0.00041</td>\n",
       "      <td>0.00041</td>\n",
       "      <td>0.00041</td>\n",
       "      <td>0.00040</td>\n",
       "    </tr>\n",
       "    <tr>\n",
       "      <th>2019-12-31 00:00:00</th>\n",
       "      <td>1.12013</td>\n",
       "      <td>-0.00004</td>\n",
       "      <td>0</td>\n",
       "      <td>0.00299</td>\n",
       "      <td>0.09029</td>\n",
       "      <td>-0.00137</td>\n",
       "      <td>0.00144</td>\n",
       "      <td>0.00000</td>\n",
       "      <td>0.00039</td>\n",
       "      <td>0.00000</td>\n",
       "      <td>...</td>\n",
       "      <td>0.00004</td>\n",
       "      <td>-0.00003</td>\n",
       "      <td>0.00006</td>\n",
       "      <td>-0.00007</td>\n",
       "      <td>0.00007</td>\n",
       "      <td>0.00039</td>\n",
       "      <td>0.00040</td>\n",
       "      <td>0.00041</td>\n",
       "      <td>0.00041</td>\n",
       "      <td>0.00041</td>\n",
       "    </tr>\n",
       "    <tr>\n",
       "      <th>2019-12-31 00:20:00</th>\n",
       "      <td>1.12030</td>\n",
       "      <td>0.00015</td>\n",
       "      <td>1</td>\n",
       "      <td>0.00291</td>\n",
       "      <td>0.32769</td>\n",
       "      <td>-0.00152</td>\n",
       "      <td>0.00129</td>\n",
       "      <td>-0.00000</td>\n",
       "      <td>0.00039</td>\n",
       "      <td>0.00000</td>\n",
       "      <td>...</td>\n",
       "      <td>0.00000</td>\n",
       "      <td>0.00004</td>\n",
       "      <td>-0.00003</td>\n",
       "      <td>0.00006</td>\n",
       "      <td>-0.00007</td>\n",
       "      <td>0.00039</td>\n",
       "      <td>0.00039</td>\n",
       "      <td>0.00040</td>\n",
       "      <td>0.00041</td>\n",
       "      <td>0.00041</td>\n",
       "    </tr>\n",
       "  </tbody>\n",
       "</table>\n",
       "<p>55631 rows × 44 columns</p>\n",
       "</div>"
      ],
      "text/plain": [
       "                     EUR_USD  returns  dir     sma    boll      min     max  \\\n",
       "time                                                                          \n",
       "2017-01-05 02:40:00  1.05124 -0.00101    0 0.00339 1.32277 -0.00809 0.00268   \n",
       "2017-01-05 03:00:00  1.05150  0.00025    1 0.00351 1.35516 -0.00833 0.00243   \n",
       "2017-01-05 03:20:00  1.05230  0.00076    1 0.00365 1.55709 -0.00908 0.00167   \n",
       "2017-01-05 03:40:00  1.05192 -0.00036    0 0.00380 1.37543 -0.00873 0.00203   \n",
       "2017-01-05 04:00:00  1.05204  0.00011    1 0.00392 1.35764 -0.00884 0.00192   \n",
       "...                      ...      ...  ...     ...     ...      ...     ...   \n",
       "2019-12-30 23:00:00  1.12012  0.00008    1 0.00316 0.11606 -0.00136 0.00145   \n",
       "2019-12-30 23:20:00  1.12030  0.00016    1 0.00312 0.33557 -0.00152 0.00129   \n",
       "2019-12-30 23:40:00  1.12018 -0.00011    0 0.00306 0.15542 -0.00141 0.00139   \n",
       "2019-12-31 00:00:00  1.12013 -0.00004    0 0.00299 0.09029 -0.00137 0.00144   \n",
       "2019-12-31 00:20:00  1.12030  0.00015    1 0.00291 0.32769 -0.00152 0.00129   \n",
       "\n",
       "                         mom     vol  dir_lag_1  ...  mom_lag_1  mom_lag_2  \\\n",
       "time                                             ...                         \n",
       "2017-01-05 02:40:00 -0.00004 0.00086    1.00000  ...    0.00001   -0.00066   \n",
       "2017-01-05 03:00:00 -0.00015 0.00086    0.00000  ...   -0.00004    0.00001   \n",
       "2017-01-05 03:20:00 -0.00000 0.00086    1.00000  ...   -0.00015   -0.00004   \n",
       "2017-01-05 03:40:00  0.00022 0.00086    1.00000  ...   -0.00000   -0.00015   \n",
       "2017-01-05 04:00:00  0.00017 0.00085    0.00000  ...    0.00022   -0.00000   \n",
       "...                      ...     ...        ...  ...        ...        ...   \n",
       "2019-12-30 23:00:00  0.00006 0.00041    0.00000  ...   -0.00007    0.00007   \n",
       "2019-12-30 23:20:00 -0.00003 0.00040    1.00000  ...    0.00006   -0.00007   \n",
       "2019-12-30 23:40:00  0.00004 0.00039    1.00000  ...   -0.00003    0.00006   \n",
       "2019-12-31 00:00:00  0.00000 0.00039    0.00000  ...    0.00004   -0.00003   \n",
       "2019-12-31 00:20:00 -0.00000 0.00039    0.00000  ...    0.00000    0.00004   \n",
       "\n",
       "                     mom_lag_3  mom_lag_4  mom_lag_5  vol_lag_1  vol_lag_2  \\\n",
       "time                                                                         \n",
       "2017-01-05 02:40:00   -0.00027   -0.00010    0.00138    0.00085    0.00085   \n",
       "2017-01-05 03:00:00   -0.00066   -0.00027   -0.00010    0.00086    0.00085   \n",
       "2017-01-05 03:20:00    0.00001   -0.00066   -0.00027    0.00086    0.00086   \n",
       "2017-01-05 03:40:00   -0.00004    0.00001   -0.00066    0.00086    0.00086   \n",
       "2017-01-05 04:00:00   -0.00015   -0.00004    0.00001    0.00086    0.00086   \n",
       "...                        ...        ...        ...        ...        ...   \n",
       "2019-12-30 23:00:00    0.00002    0.00010    0.00010    0.00041    0.00041   \n",
       "2019-12-30 23:20:00    0.00007    0.00002    0.00010    0.00041    0.00041   \n",
       "2019-12-30 23:40:00   -0.00007    0.00007    0.00002    0.00040    0.00041   \n",
       "2019-12-31 00:00:00    0.00006   -0.00007    0.00007    0.00039    0.00040   \n",
       "2019-12-31 00:20:00   -0.00003    0.00006   -0.00007    0.00039    0.00039   \n",
       "\n",
       "                     vol_lag_3  vol_lag_4  vol_lag_5  \n",
       "time                                                  \n",
       "2017-01-05 02:40:00    0.00085    0.00084    0.00080  \n",
       "2017-01-05 03:00:00    0.00085    0.00085    0.00084  \n",
       "2017-01-05 03:20:00    0.00085    0.00085    0.00085  \n",
       "2017-01-05 03:40:00    0.00086    0.00085    0.00085  \n",
       "2017-01-05 04:00:00    0.00086    0.00086    0.00085  \n",
       "...                        ...        ...        ...  \n",
       "2019-12-30 23:00:00    0.00040    0.00040    0.00040  \n",
       "2019-12-30 23:20:00    0.00041    0.00040    0.00040  \n",
       "2019-12-30 23:40:00    0.00041    0.00041    0.00040  \n",
       "2019-12-31 00:00:00    0.00041    0.00041    0.00041  \n",
       "2019-12-31 00:20:00    0.00040    0.00041    0.00041  \n",
       "\n",
       "[55631 rows x 44 columns]"
      ]
     },
     "execution_count": 17,
     "metadata": {},
     "output_type": "execute_result"
    }
   ],
   "source": [
    "df"
   ]
  },
  {
   "cell_type": "code",
   "execution_count": 18,
   "metadata": {},
   "outputs": [
    {
     "name": "stdout",
     "output_type": "stream",
     "text": [
      "<class 'pandas.core.frame.DataFrame'>\n",
      "DatetimeIndex: 55631 entries, 2017-01-05 02:40:00 to 2019-12-31 00:20:00\n",
      "Data columns (total 44 columns):\n",
      " #   Column      Non-Null Count  Dtype  \n",
      "---  ------      --------------  -----  \n",
      " 0   EUR_USD     55631 non-null  float64\n",
      " 1   returns     55631 non-null  float64\n",
      " 2   dir         55631 non-null  int32  \n",
      " 3   sma         55631 non-null  float64\n",
      " 4   boll        55631 non-null  float64\n",
      " 5   min         55631 non-null  float64\n",
      " 6   max         55631 non-null  float64\n",
      " 7   mom         55631 non-null  float64\n",
      " 8   vol         55631 non-null  float64\n",
      " 9   dir_lag_1   55631 non-null  float64\n",
      " 10  dir_lag_2   55631 non-null  float64\n",
      " 11  dir_lag_3   55631 non-null  float64\n",
      " 12  dir_lag_4   55631 non-null  float64\n",
      " 13  dir_lag_5   55631 non-null  float64\n",
      " 14  sma_lag_1   55631 non-null  float64\n",
      " 15  sma_lag_2   55631 non-null  float64\n",
      " 16  sma_lag_3   55631 non-null  float64\n",
      " 17  sma_lag_4   55631 non-null  float64\n",
      " 18  sma_lag_5   55631 non-null  float64\n",
      " 19  boll_lag_1  55631 non-null  float64\n",
      " 20  boll_lag_2  55631 non-null  float64\n",
      " 21  boll_lag_3  55631 non-null  float64\n",
      " 22  boll_lag_4  55631 non-null  float64\n",
      " 23  boll_lag_5  55631 non-null  float64\n",
      " 24  min_lag_1   55631 non-null  float64\n",
      " 25  min_lag_2   55631 non-null  float64\n",
      " 26  min_lag_3   55631 non-null  float64\n",
      " 27  min_lag_4   55631 non-null  float64\n",
      " 28  min_lag_5   55631 non-null  float64\n",
      " 29  max_lag_1   55631 non-null  float64\n",
      " 30  max_lag_2   55631 non-null  float64\n",
      " 31  max_lag_3   55631 non-null  float64\n",
      " 32  max_lag_4   55631 non-null  float64\n",
      " 33  max_lag_5   55631 non-null  float64\n",
      " 34  mom_lag_1   55631 non-null  float64\n",
      " 35  mom_lag_2   55631 non-null  float64\n",
      " 36  mom_lag_3   55631 non-null  float64\n",
      " 37  mom_lag_4   55631 non-null  float64\n",
      " 38  mom_lag_5   55631 non-null  float64\n",
      " 39  vol_lag_1   55631 non-null  float64\n",
      " 40  vol_lag_2   55631 non-null  float64\n",
      " 41  vol_lag_3   55631 non-null  float64\n",
      " 42  vol_lag_4   55631 non-null  float64\n",
      " 43  vol_lag_5   55631 non-null  float64\n",
      "dtypes: float64(43), int32(1)\n",
      "memory usage: 18.9 MB\n"
     ]
    }
   ],
   "source": [
    "df.info()"
   ]
  },
  {
   "cell_type": "code",
   "execution_count": 19,
   "metadata": {},
   "outputs": [
    {
     "data": {
      "text/plain": [
       "35"
      ]
     },
     "execution_count": 19,
     "metadata": {},
     "output_type": "execute_result"
    }
   ],
   "source": [
    "len(cols)"
   ]
  },
  {
   "cell_type": "code",
   "execution_count": null,
   "metadata": {},
   "outputs": [],
   "source": []
  },
  {
   "cell_type": "markdown",
   "metadata": {},
   "source": [
    "## Splitting into Train and Test Set"
   ]
  },
  {
   "cell_type": "code",
   "execution_count": 20,
   "metadata": {},
   "outputs": [
    {
     "data": {
      "text/plain": [
       "55631"
      ]
     },
     "execution_count": 20,
     "metadata": {},
     "output_type": "execute_result"
    }
   ],
   "source": [
    "len(df)"
   ]
  },
  {
   "cell_type": "code",
   "execution_count": 21,
   "metadata": {},
   "outputs": [
    {
     "data": {
      "text/plain": [
       "36716"
      ]
     },
     "execution_count": 21,
     "metadata": {},
     "output_type": "execute_result"
    }
   ],
   "source": [
    "split = int(len(df)*0.66)\n",
    "split"
   ]
  },
  {
   "cell_type": "code",
   "execution_count": 22,
   "metadata": {},
   "outputs": [
    {
     "data": {
      "text/html": [
       "<div>\n",
       "<style scoped>\n",
       "    .dataframe tbody tr th:only-of-type {\n",
       "        vertical-align: middle;\n",
       "    }\n",
       "\n",
       "    .dataframe tbody tr th {\n",
       "        vertical-align: top;\n",
       "    }\n",
       "\n",
       "    .dataframe thead th {\n",
       "        text-align: right;\n",
       "    }\n",
       "</style>\n",
       "<table border=\"1\" class=\"dataframe\">\n",
       "  <thead>\n",
       "    <tr style=\"text-align: right;\">\n",
       "      <th></th>\n",
       "      <th>EUR_USD</th>\n",
       "      <th>returns</th>\n",
       "      <th>dir</th>\n",
       "      <th>sma</th>\n",
       "      <th>boll</th>\n",
       "      <th>min</th>\n",
       "      <th>max</th>\n",
       "      <th>mom</th>\n",
       "      <th>vol</th>\n",
       "      <th>dir_lag_1</th>\n",
       "      <th>...</th>\n",
       "      <th>mom_lag_1</th>\n",
       "      <th>mom_lag_2</th>\n",
       "      <th>mom_lag_3</th>\n",
       "      <th>mom_lag_4</th>\n",
       "      <th>mom_lag_5</th>\n",
       "      <th>vol_lag_1</th>\n",
       "      <th>vol_lag_2</th>\n",
       "      <th>vol_lag_3</th>\n",
       "      <th>vol_lag_4</th>\n",
       "      <th>vol_lag_5</th>\n",
       "    </tr>\n",
       "    <tr>\n",
       "      <th>time</th>\n",
       "      <th></th>\n",
       "      <th></th>\n",
       "      <th></th>\n",
       "      <th></th>\n",
       "      <th></th>\n",
       "      <th></th>\n",
       "      <th></th>\n",
       "      <th></th>\n",
       "      <th></th>\n",
       "      <th></th>\n",
       "      <th></th>\n",
       "      <th></th>\n",
       "      <th></th>\n",
       "      <th></th>\n",
       "      <th></th>\n",
       "      <th></th>\n",
       "      <th></th>\n",
       "      <th></th>\n",
       "      <th></th>\n",
       "      <th></th>\n",
       "      <th></th>\n",
       "    </tr>\n",
       "  </thead>\n",
       "  <tbody>\n",
       "    <tr>\n",
       "      <th>2017-01-05 02:40:00</th>\n",
       "      <td>1.05124</td>\n",
       "      <td>-0.00101</td>\n",
       "      <td>0</td>\n",
       "      <td>0.00339</td>\n",
       "      <td>1.32277</td>\n",
       "      <td>-0.00809</td>\n",
       "      <td>0.00268</td>\n",
       "      <td>-0.00004</td>\n",
       "      <td>0.00086</td>\n",
       "      <td>1.00000</td>\n",
       "      <td>...</td>\n",
       "      <td>0.00001</td>\n",
       "      <td>-0.00066</td>\n",
       "      <td>-0.00027</td>\n",
       "      <td>-0.00010</td>\n",
       "      <td>0.00138</td>\n",
       "      <td>0.00085</td>\n",
       "      <td>0.00085</td>\n",
       "      <td>0.00085</td>\n",
       "      <td>0.00084</td>\n",
       "      <td>0.00080</td>\n",
       "    </tr>\n",
       "    <tr>\n",
       "      <th>2017-01-05 03:00:00</th>\n",
       "      <td>1.05150</td>\n",
       "      <td>0.00025</td>\n",
       "      <td>1</td>\n",
       "      <td>0.00351</td>\n",
       "      <td>1.35516</td>\n",
       "      <td>-0.00833</td>\n",
       "      <td>0.00243</td>\n",
       "      <td>-0.00015</td>\n",
       "      <td>0.00086</td>\n",
       "      <td>0.00000</td>\n",
       "      <td>...</td>\n",
       "      <td>-0.00004</td>\n",
       "      <td>0.00001</td>\n",
       "      <td>-0.00066</td>\n",
       "      <td>-0.00027</td>\n",
       "      <td>-0.00010</td>\n",
       "      <td>0.00086</td>\n",
       "      <td>0.00085</td>\n",
       "      <td>0.00085</td>\n",
       "      <td>0.00085</td>\n",
       "      <td>0.00084</td>\n",
       "    </tr>\n",
       "    <tr>\n",
       "      <th>2017-01-05 03:20:00</th>\n",
       "      <td>1.05230</td>\n",
       "      <td>0.00076</td>\n",
       "      <td>1</td>\n",
       "      <td>0.00365</td>\n",
       "      <td>1.55709</td>\n",
       "      <td>-0.00908</td>\n",
       "      <td>0.00167</td>\n",
       "      <td>-0.00000</td>\n",
       "      <td>0.00086</td>\n",
       "      <td>1.00000</td>\n",
       "      <td>...</td>\n",
       "      <td>-0.00015</td>\n",
       "      <td>-0.00004</td>\n",
       "      <td>0.00001</td>\n",
       "      <td>-0.00066</td>\n",
       "      <td>-0.00027</td>\n",
       "      <td>0.00086</td>\n",
       "      <td>0.00086</td>\n",
       "      <td>0.00085</td>\n",
       "      <td>0.00085</td>\n",
       "      <td>0.00085</td>\n",
       "    </tr>\n",
       "    <tr>\n",
       "      <th>2017-01-05 03:40:00</th>\n",
       "      <td>1.05192</td>\n",
       "      <td>-0.00036</td>\n",
       "      <td>0</td>\n",
       "      <td>0.00380</td>\n",
       "      <td>1.37543</td>\n",
       "      <td>-0.00873</td>\n",
       "      <td>0.00203</td>\n",
       "      <td>0.00022</td>\n",
       "      <td>0.00086</td>\n",
       "      <td>1.00000</td>\n",
       "      <td>...</td>\n",
       "      <td>-0.00000</td>\n",
       "      <td>-0.00015</td>\n",
       "      <td>-0.00004</td>\n",
       "      <td>0.00001</td>\n",
       "      <td>-0.00066</td>\n",
       "      <td>0.00086</td>\n",
       "      <td>0.00086</td>\n",
       "      <td>0.00086</td>\n",
       "      <td>0.00085</td>\n",
       "      <td>0.00085</td>\n",
       "    </tr>\n",
       "    <tr>\n",
       "      <th>2017-01-05 04:00:00</th>\n",
       "      <td>1.05204</td>\n",
       "      <td>0.00011</td>\n",
       "      <td>1</td>\n",
       "      <td>0.00392</td>\n",
       "      <td>1.35764</td>\n",
       "      <td>-0.00884</td>\n",
       "      <td>0.00192</td>\n",
       "      <td>0.00017</td>\n",
       "      <td>0.00085</td>\n",
       "      <td>0.00000</td>\n",
       "      <td>...</td>\n",
       "      <td>0.00022</td>\n",
       "      <td>-0.00000</td>\n",
       "      <td>-0.00015</td>\n",
       "      <td>-0.00004</td>\n",
       "      <td>0.00001</td>\n",
       "      <td>0.00086</td>\n",
       "      <td>0.00086</td>\n",
       "      <td>0.00086</td>\n",
       "      <td>0.00086</td>\n",
       "      <td>0.00085</td>\n",
       "    </tr>\n",
       "    <tr>\n",
       "      <th>...</th>\n",
       "      <td>...</td>\n",
       "      <td>...</td>\n",
       "      <td>...</td>\n",
       "      <td>...</td>\n",
       "      <td>...</td>\n",
       "      <td>...</td>\n",
       "      <td>...</td>\n",
       "      <td>...</td>\n",
       "      <td>...</td>\n",
       "      <td>...</td>\n",
       "      <td>...</td>\n",
       "      <td>...</td>\n",
       "      <td>...</td>\n",
       "      <td>...</td>\n",
       "      <td>...</td>\n",
       "      <td>...</td>\n",
       "      <td>...</td>\n",
       "      <td>...</td>\n",
       "      <td>...</td>\n",
       "      <td>...</td>\n",
       "      <td>...</td>\n",
       "    </tr>\n",
       "    <tr>\n",
       "      <th>2018-12-23 23:40:00</th>\n",
       "      <td>1.13718</td>\n",
       "      <td>0.00006</td>\n",
       "      <td>1</td>\n",
       "      <td>-0.00202</td>\n",
       "      <td>-0.94581</td>\n",
       "      <td>-0.00113</td>\n",
       "      <td>0.00890</td>\n",
       "      <td>0.00020</td>\n",
       "      <td>0.00078</td>\n",
       "      <td>1.00000</td>\n",
       "      <td>...</td>\n",
       "      <td>0.00025</td>\n",
       "      <td>-0.00009</td>\n",
       "      <td>0.00013</td>\n",
       "      <td>0.00009</td>\n",
       "      <td>0.00038</td>\n",
       "      <td>0.00078</td>\n",
       "      <td>0.00078</td>\n",
       "      <td>0.00078</td>\n",
       "      <td>0.00078</td>\n",
       "      <td>0.00078</td>\n",
       "    </tr>\n",
       "    <tr>\n",
       "      <th>2018-12-24 00:00:00</th>\n",
       "      <td>1.13724</td>\n",
       "      <td>0.00005</td>\n",
       "      <td>1</td>\n",
       "      <td>-0.00219</td>\n",
       "      <td>-0.89554</td>\n",
       "      <td>-0.00119</td>\n",
       "      <td>0.00885</td>\n",
       "      <td>0.00011</td>\n",
       "      <td>0.00078</td>\n",
       "      <td>1.00000</td>\n",
       "      <td>...</td>\n",
       "      <td>0.00020</td>\n",
       "      <td>0.00025</td>\n",
       "      <td>-0.00009</td>\n",
       "      <td>0.00013</td>\n",
       "      <td>0.00009</td>\n",
       "      <td>0.00078</td>\n",
       "      <td>0.00078</td>\n",
       "      <td>0.00078</td>\n",
       "      <td>0.00078</td>\n",
       "      <td>0.00078</td>\n",
       "    </tr>\n",
       "    <tr>\n",
       "      <th>2018-12-24 00:20:00</th>\n",
       "      <td>1.13755</td>\n",
       "      <td>0.00027</td>\n",
       "      <td>1</td>\n",
       "      <td>-0.00237</td>\n",
       "      <td>-0.77108</td>\n",
       "      <td>-0.00146</td>\n",
       "      <td>0.00857</td>\n",
       "      <td>0.00013</td>\n",
       "      <td>0.00077</td>\n",
       "      <td>1.00000</td>\n",
       "      <td>...</td>\n",
       "      <td>0.00011</td>\n",
       "      <td>0.00020</td>\n",
       "      <td>0.00025</td>\n",
       "      <td>-0.00009</td>\n",
       "      <td>0.00013</td>\n",
       "      <td>0.00078</td>\n",
       "      <td>0.00078</td>\n",
       "      <td>0.00078</td>\n",
       "      <td>0.00078</td>\n",
       "      <td>0.00078</td>\n",
       "    </tr>\n",
       "    <tr>\n",
       "      <th>2018-12-24 00:40:00</th>\n",
       "      <td>1.13769</td>\n",
       "      <td>0.00012</td>\n",
       "      <td>1</td>\n",
       "      <td>-0.00256</td>\n",
       "      <td>-0.70082</td>\n",
       "      <td>-0.00158</td>\n",
       "      <td>0.00845</td>\n",
       "      <td>0.00015</td>\n",
       "      <td>0.00077</td>\n",
       "      <td>1.00000</td>\n",
       "      <td>...</td>\n",
       "      <td>0.00013</td>\n",
       "      <td>0.00011</td>\n",
       "      <td>0.00020</td>\n",
       "      <td>0.00025</td>\n",
       "      <td>-0.00009</td>\n",
       "      <td>0.00077</td>\n",
       "      <td>0.00078</td>\n",
       "      <td>0.00078</td>\n",
       "      <td>0.00078</td>\n",
       "      <td>0.00078</td>\n",
       "    </tr>\n",
       "    <tr>\n",
       "      <th>2018-12-24 01:00:00</th>\n",
       "      <td>1.13784</td>\n",
       "      <td>0.00013</td>\n",
       "      <td>1</td>\n",
       "      <td>-0.00274</td>\n",
       "      <td>-0.62785</td>\n",
       "      <td>-0.00171</td>\n",
       "      <td>0.00722</td>\n",
       "      <td>0.00018</td>\n",
       "      <td>0.00077</td>\n",
       "      <td>1.00000</td>\n",
       "      <td>...</td>\n",
       "      <td>0.00015</td>\n",
       "      <td>0.00013</td>\n",
       "      <td>0.00011</td>\n",
       "      <td>0.00020</td>\n",
       "      <td>0.00025</td>\n",
       "      <td>0.00077</td>\n",
       "      <td>0.00077</td>\n",
       "      <td>0.00078</td>\n",
       "      <td>0.00078</td>\n",
       "      <td>0.00078</td>\n",
       "    </tr>\n",
       "  </tbody>\n",
       "</table>\n",
       "<p>36716 rows × 44 columns</p>\n",
       "</div>"
      ],
      "text/plain": [
       "                     EUR_USD  returns  dir      sma     boll      min     max  \\\n",
       "time                                                                            \n",
       "2017-01-05 02:40:00  1.05124 -0.00101    0  0.00339  1.32277 -0.00809 0.00268   \n",
       "2017-01-05 03:00:00  1.05150  0.00025    1  0.00351  1.35516 -0.00833 0.00243   \n",
       "2017-01-05 03:20:00  1.05230  0.00076    1  0.00365  1.55709 -0.00908 0.00167   \n",
       "2017-01-05 03:40:00  1.05192 -0.00036    0  0.00380  1.37543 -0.00873 0.00203   \n",
       "2017-01-05 04:00:00  1.05204  0.00011    1  0.00392  1.35764 -0.00884 0.00192   \n",
       "...                      ...      ...  ...      ...      ...      ...     ...   \n",
       "2018-12-23 23:40:00  1.13718  0.00006    1 -0.00202 -0.94581 -0.00113 0.00890   \n",
       "2018-12-24 00:00:00  1.13724  0.00005    1 -0.00219 -0.89554 -0.00119 0.00885   \n",
       "2018-12-24 00:20:00  1.13755  0.00027    1 -0.00237 -0.77108 -0.00146 0.00857   \n",
       "2018-12-24 00:40:00  1.13769  0.00012    1 -0.00256 -0.70082 -0.00158 0.00845   \n",
       "2018-12-24 01:00:00  1.13784  0.00013    1 -0.00274 -0.62785 -0.00171 0.00722   \n",
       "\n",
       "                         mom     vol  dir_lag_1  ...  mom_lag_1  mom_lag_2  \\\n",
       "time                                             ...                         \n",
       "2017-01-05 02:40:00 -0.00004 0.00086    1.00000  ...    0.00001   -0.00066   \n",
       "2017-01-05 03:00:00 -0.00015 0.00086    0.00000  ...   -0.00004    0.00001   \n",
       "2017-01-05 03:20:00 -0.00000 0.00086    1.00000  ...   -0.00015   -0.00004   \n",
       "2017-01-05 03:40:00  0.00022 0.00086    1.00000  ...   -0.00000   -0.00015   \n",
       "2017-01-05 04:00:00  0.00017 0.00085    0.00000  ...    0.00022   -0.00000   \n",
       "...                      ...     ...        ...  ...        ...        ...   \n",
       "2018-12-23 23:40:00  0.00020 0.00078    1.00000  ...    0.00025   -0.00009   \n",
       "2018-12-24 00:00:00  0.00011 0.00078    1.00000  ...    0.00020    0.00025   \n",
       "2018-12-24 00:20:00  0.00013 0.00077    1.00000  ...    0.00011    0.00020   \n",
       "2018-12-24 00:40:00  0.00015 0.00077    1.00000  ...    0.00013    0.00011   \n",
       "2018-12-24 01:00:00  0.00018 0.00077    1.00000  ...    0.00015    0.00013   \n",
       "\n",
       "                     mom_lag_3  mom_lag_4  mom_lag_5  vol_lag_1  vol_lag_2  \\\n",
       "time                                                                         \n",
       "2017-01-05 02:40:00   -0.00027   -0.00010    0.00138    0.00085    0.00085   \n",
       "2017-01-05 03:00:00   -0.00066   -0.00027   -0.00010    0.00086    0.00085   \n",
       "2017-01-05 03:20:00    0.00001   -0.00066   -0.00027    0.00086    0.00086   \n",
       "2017-01-05 03:40:00   -0.00004    0.00001   -0.00066    0.00086    0.00086   \n",
       "2017-01-05 04:00:00   -0.00015   -0.00004    0.00001    0.00086    0.00086   \n",
       "...                        ...        ...        ...        ...        ...   \n",
       "2018-12-23 23:40:00    0.00013    0.00009    0.00038    0.00078    0.00078   \n",
       "2018-12-24 00:00:00   -0.00009    0.00013    0.00009    0.00078    0.00078   \n",
       "2018-12-24 00:20:00    0.00025   -0.00009    0.00013    0.00078    0.00078   \n",
       "2018-12-24 00:40:00    0.00020    0.00025   -0.00009    0.00077    0.00078   \n",
       "2018-12-24 01:00:00    0.00011    0.00020    0.00025    0.00077    0.00077   \n",
       "\n",
       "                     vol_lag_3  vol_lag_4  vol_lag_5  \n",
       "time                                                  \n",
       "2017-01-05 02:40:00    0.00085    0.00084    0.00080  \n",
       "2017-01-05 03:00:00    0.00085    0.00085    0.00084  \n",
       "2017-01-05 03:20:00    0.00085    0.00085    0.00085  \n",
       "2017-01-05 03:40:00    0.00086    0.00085    0.00085  \n",
       "2017-01-05 04:00:00    0.00086    0.00086    0.00085  \n",
       "...                        ...        ...        ...  \n",
       "2018-12-23 23:40:00    0.00078    0.00078    0.00078  \n",
       "2018-12-24 00:00:00    0.00078    0.00078    0.00078  \n",
       "2018-12-24 00:20:00    0.00078    0.00078    0.00078  \n",
       "2018-12-24 00:40:00    0.00078    0.00078    0.00078  \n",
       "2018-12-24 01:00:00    0.00078    0.00078    0.00078  \n",
       "\n",
       "[36716 rows x 44 columns]"
      ]
     },
     "execution_count": 22,
     "metadata": {},
     "output_type": "execute_result"
    }
   ],
   "source": [
    "train = df.iloc[:split].copy()\n",
    "train"
   ]
  },
  {
   "cell_type": "code",
   "execution_count": 23,
   "metadata": {},
   "outputs": [
    {
     "data": {
      "text/html": [
       "<div>\n",
       "<style scoped>\n",
       "    .dataframe tbody tr th:only-of-type {\n",
       "        vertical-align: middle;\n",
       "    }\n",
       "\n",
       "    .dataframe tbody tr th {\n",
       "        vertical-align: top;\n",
       "    }\n",
       "\n",
       "    .dataframe thead th {\n",
       "        text-align: right;\n",
       "    }\n",
       "</style>\n",
       "<table border=\"1\" class=\"dataframe\">\n",
       "  <thead>\n",
       "    <tr style=\"text-align: right;\">\n",
       "      <th></th>\n",
       "      <th>EUR_USD</th>\n",
       "      <th>returns</th>\n",
       "      <th>dir</th>\n",
       "      <th>sma</th>\n",
       "      <th>boll</th>\n",
       "      <th>min</th>\n",
       "      <th>max</th>\n",
       "      <th>mom</th>\n",
       "      <th>vol</th>\n",
       "      <th>dir_lag_1</th>\n",
       "      <th>...</th>\n",
       "      <th>mom_lag_1</th>\n",
       "      <th>mom_lag_2</th>\n",
       "      <th>mom_lag_3</th>\n",
       "      <th>mom_lag_4</th>\n",
       "      <th>mom_lag_5</th>\n",
       "      <th>vol_lag_1</th>\n",
       "      <th>vol_lag_2</th>\n",
       "      <th>vol_lag_3</th>\n",
       "      <th>vol_lag_4</th>\n",
       "      <th>vol_lag_5</th>\n",
       "    </tr>\n",
       "    <tr>\n",
       "      <th>time</th>\n",
       "      <th></th>\n",
       "      <th></th>\n",
       "      <th></th>\n",
       "      <th></th>\n",
       "      <th></th>\n",
       "      <th></th>\n",
       "      <th></th>\n",
       "      <th></th>\n",
       "      <th></th>\n",
       "      <th></th>\n",
       "      <th></th>\n",
       "      <th></th>\n",
       "      <th></th>\n",
       "      <th></th>\n",
       "      <th></th>\n",
       "      <th></th>\n",
       "      <th></th>\n",
       "      <th></th>\n",
       "      <th></th>\n",
       "      <th></th>\n",
       "      <th></th>\n",
       "    </tr>\n",
       "  </thead>\n",
       "  <tbody>\n",
       "    <tr>\n",
       "      <th>2018-12-24 01:20:00</th>\n",
       "      <td>1.13780</td>\n",
       "      <td>-0.00004</td>\n",
       "      <td>0</td>\n",
       "      <td>-0.00290</td>\n",
       "      <td>-0.61860</td>\n",
       "      <td>-0.00168</td>\n",
       "      <td>0.00582</td>\n",
       "      <td>0.00007</td>\n",
       "      <td>0.00076</td>\n",
       "      <td>1.00000</td>\n",
       "      <td>...</td>\n",
       "      <td>0.00018</td>\n",
       "      <td>0.00015</td>\n",
       "      <td>0.00013</td>\n",
       "      <td>0.00011</td>\n",
       "      <td>0.00020</td>\n",
       "      <td>0.00077</td>\n",
       "      <td>0.00077</td>\n",
       "      <td>0.00077</td>\n",
       "      <td>0.00078</td>\n",
       "      <td>0.00078</td>\n",
       "    </tr>\n",
       "    <tr>\n",
       "      <th>2018-12-24 01:40:00</th>\n",
       "      <td>1.13770</td>\n",
       "      <td>-0.00009</td>\n",
       "      <td>0</td>\n",
       "      <td>-0.00303</td>\n",
       "      <td>-0.62974</td>\n",
       "      <td>-0.00159</td>\n",
       "      <td>0.00466</td>\n",
       "      <td>0.00000</td>\n",
       "      <td>0.00073</td>\n",
       "      <td>0.00000</td>\n",
       "      <td>...</td>\n",
       "      <td>0.00007</td>\n",
       "      <td>0.00018</td>\n",
       "      <td>0.00015</td>\n",
       "      <td>0.00013</td>\n",
       "      <td>0.00011</td>\n",
       "      <td>0.00076</td>\n",
       "      <td>0.00077</td>\n",
       "      <td>0.00077</td>\n",
       "      <td>0.00077</td>\n",
       "      <td>0.00078</td>\n",
       "    </tr>\n",
       "    <tr>\n",
       "      <th>2018-12-24 02:00:00</th>\n",
       "      <td>1.13806</td>\n",
       "      <td>0.00032</td>\n",
       "      <td>1</td>\n",
       "      <td>-0.00313</td>\n",
       "      <td>-0.45011</td>\n",
       "      <td>-0.00191</td>\n",
       "      <td>0.00418</td>\n",
       "      <td>0.00006</td>\n",
       "      <td>0.00072</td>\n",
       "      <td>0.00000</td>\n",
       "      <td>...</td>\n",
       "      <td>0.00000</td>\n",
       "      <td>0.00007</td>\n",
       "      <td>0.00018</td>\n",
       "      <td>0.00015</td>\n",
       "      <td>0.00013</td>\n",
       "      <td>0.00073</td>\n",
       "      <td>0.00076</td>\n",
       "      <td>0.00077</td>\n",
       "      <td>0.00077</td>\n",
       "      <td>0.00077</td>\n",
       "    </tr>\n",
       "    <tr>\n",
       "      <th>2018-12-24 02:20:00</th>\n",
       "      <td>1.13791</td>\n",
       "      <td>-0.00013</td>\n",
       "      <td>0</td>\n",
       "      <td>-0.00322</td>\n",
       "      <td>-0.48362</td>\n",
       "      <td>-0.00178</td>\n",
       "      <td>0.00431</td>\n",
       "      <td>0.00003</td>\n",
       "      <td>0.00072</td>\n",
       "      <td>1.00000</td>\n",
       "      <td>...</td>\n",
       "      <td>0.00006</td>\n",
       "      <td>0.00000</td>\n",
       "      <td>0.00007</td>\n",
       "      <td>0.00018</td>\n",
       "      <td>0.00015</td>\n",
       "      <td>0.00072</td>\n",
       "      <td>0.00073</td>\n",
       "      <td>0.00076</td>\n",
       "      <td>0.00077</td>\n",
       "      <td>0.00077</td>\n",
       "    </tr>\n",
       "    <tr>\n",
       "      <th>2018-12-24 02:40:00</th>\n",
       "      <td>1.13865</td>\n",
       "      <td>0.00065</td>\n",
       "      <td>1</td>\n",
       "      <td>-0.00331</td>\n",
       "      <td>-0.12870</td>\n",
       "      <td>-0.00242</td>\n",
       "      <td>0.00340</td>\n",
       "      <td>0.00028</td>\n",
       "      <td>0.00072</td>\n",
       "      <td>0.00000</td>\n",
       "      <td>...</td>\n",
       "      <td>0.00003</td>\n",
       "      <td>0.00006</td>\n",
       "      <td>0.00000</td>\n",
       "      <td>0.00007</td>\n",
       "      <td>0.00018</td>\n",
       "      <td>0.00072</td>\n",
       "      <td>0.00072</td>\n",
       "      <td>0.00073</td>\n",
       "      <td>0.00076</td>\n",
       "      <td>0.00077</td>\n",
       "    </tr>\n",
       "    <tr>\n",
       "      <th>...</th>\n",
       "      <td>...</td>\n",
       "      <td>...</td>\n",
       "      <td>...</td>\n",
       "      <td>...</td>\n",
       "      <td>...</td>\n",
       "      <td>...</td>\n",
       "      <td>...</td>\n",
       "      <td>...</td>\n",
       "      <td>...</td>\n",
       "      <td>...</td>\n",
       "      <td>...</td>\n",
       "      <td>...</td>\n",
       "      <td>...</td>\n",
       "      <td>...</td>\n",
       "      <td>...</td>\n",
       "      <td>...</td>\n",
       "      <td>...</td>\n",
       "      <td>...</td>\n",
       "      <td>...</td>\n",
       "      <td>...</td>\n",
       "      <td>...</td>\n",
       "    </tr>\n",
       "    <tr>\n",
       "      <th>2019-12-30 23:00:00</th>\n",
       "      <td>1.12012</td>\n",
       "      <td>0.00008</td>\n",
       "      <td>1</td>\n",
       "      <td>0.00316</td>\n",
       "      <td>0.11606</td>\n",
       "      <td>-0.00136</td>\n",
       "      <td>0.00145</td>\n",
       "      <td>0.00006</td>\n",
       "      <td>0.00041</td>\n",
       "      <td>0.00000</td>\n",
       "      <td>...</td>\n",
       "      <td>-0.00007</td>\n",
       "      <td>0.00007</td>\n",
       "      <td>0.00002</td>\n",
       "      <td>0.00010</td>\n",
       "      <td>0.00010</td>\n",
       "      <td>0.00041</td>\n",
       "      <td>0.00041</td>\n",
       "      <td>0.00040</td>\n",
       "      <td>0.00040</td>\n",
       "      <td>0.00040</td>\n",
       "    </tr>\n",
       "    <tr>\n",
       "      <th>2019-12-30 23:20:00</th>\n",
       "      <td>1.12030</td>\n",
       "      <td>0.00016</td>\n",
       "      <td>1</td>\n",
       "      <td>0.00312</td>\n",
       "      <td>0.33557</td>\n",
       "      <td>-0.00152</td>\n",
       "      <td>0.00129</td>\n",
       "      <td>-0.00003</td>\n",
       "      <td>0.00040</td>\n",
       "      <td>1.00000</td>\n",
       "      <td>...</td>\n",
       "      <td>0.00006</td>\n",
       "      <td>-0.00007</td>\n",
       "      <td>0.00007</td>\n",
       "      <td>0.00002</td>\n",
       "      <td>0.00010</td>\n",
       "      <td>0.00041</td>\n",
       "      <td>0.00041</td>\n",
       "      <td>0.00041</td>\n",
       "      <td>0.00040</td>\n",
       "      <td>0.00040</td>\n",
       "    </tr>\n",
       "    <tr>\n",
       "      <th>2019-12-30 23:40:00</th>\n",
       "      <td>1.12018</td>\n",
       "      <td>-0.00011</td>\n",
       "      <td>0</td>\n",
       "      <td>0.00306</td>\n",
       "      <td>0.15542</td>\n",
       "      <td>-0.00141</td>\n",
       "      <td>0.00139</td>\n",
       "      <td>0.00004</td>\n",
       "      <td>0.00039</td>\n",
       "      <td>1.00000</td>\n",
       "      <td>...</td>\n",
       "      <td>-0.00003</td>\n",
       "      <td>0.00006</td>\n",
       "      <td>-0.00007</td>\n",
       "      <td>0.00007</td>\n",
       "      <td>0.00002</td>\n",
       "      <td>0.00040</td>\n",
       "      <td>0.00041</td>\n",
       "      <td>0.00041</td>\n",
       "      <td>0.00041</td>\n",
       "      <td>0.00040</td>\n",
       "    </tr>\n",
       "    <tr>\n",
       "      <th>2019-12-31 00:00:00</th>\n",
       "      <td>1.12013</td>\n",
       "      <td>-0.00004</td>\n",
       "      <td>0</td>\n",
       "      <td>0.00299</td>\n",
       "      <td>0.09029</td>\n",
       "      <td>-0.00137</td>\n",
       "      <td>0.00144</td>\n",
       "      <td>0.00000</td>\n",
       "      <td>0.00039</td>\n",
       "      <td>0.00000</td>\n",
       "      <td>...</td>\n",
       "      <td>0.00004</td>\n",
       "      <td>-0.00003</td>\n",
       "      <td>0.00006</td>\n",
       "      <td>-0.00007</td>\n",
       "      <td>0.00007</td>\n",
       "      <td>0.00039</td>\n",
       "      <td>0.00040</td>\n",
       "      <td>0.00041</td>\n",
       "      <td>0.00041</td>\n",
       "      <td>0.00041</td>\n",
       "    </tr>\n",
       "    <tr>\n",
       "      <th>2019-12-31 00:20:00</th>\n",
       "      <td>1.12030</td>\n",
       "      <td>0.00015</td>\n",
       "      <td>1</td>\n",
       "      <td>0.00291</td>\n",
       "      <td>0.32769</td>\n",
       "      <td>-0.00152</td>\n",
       "      <td>0.00129</td>\n",
       "      <td>-0.00000</td>\n",
       "      <td>0.00039</td>\n",
       "      <td>0.00000</td>\n",
       "      <td>...</td>\n",
       "      <td>0.00000</td>\n",
       "      <td>0.00004</td>\n",
       "      <td>-0.00003</td>\n",
       "      <td>0.00006</td>\n",
       "      <td>-0.00007</td>\n",
       "      <td>0.00039</td>\n",
       "      <td>0.00039</td>\n",
       "      <td>0.00040</td>\n",
       "      <td>0.00041</td>\n",
       "      <td>0.00041</td>\n",
       "    </tr>\n",
       "  </tbody>\n",
       "</table>\n",
       "<p>18915 rows × 44 columns</p>\n",
       "</div>"
      ],
      "text/plain": [
       "                     EUR_USD  returns  dir      sma     boll      min     max  \\\n",
       "time                                                                            \n",
       "2018-12-24 01:20:00  1.13780 -0.00004    0 -0.00290 -0.61860 -0.00168 0.00582   \n",
       "2018-12-24 01:40:00  1.13770 -0.00009    0 -0.00303 -0.62974 -0.00159 0.00466   \n",
       "2018-12-24 02:00:00  1.13806  0.00032    1 -0.00313 -0.45011 -0.00191 0.00418   \n",
       "2018-12-24 02:20:00  1.13791 -0.00013    0 -0.00322 -0.48362 -0.00178 0.00431   \n",
       "2018-12-24 02:40:00  1.13865  0.00065    1 -0.00331 -0.12870 -0.00242 0.00340   \n",
       "...                      ...      ...  ...      ...      ...      ...     ...   \n",
       "2019-12-30 23:00:00  1.12012  0.00008    1  0.00316  0.11606 -0.00136 0.00145   \n",
       "2019-12-30 23:20:00  1.12030  0.00016    1  0.00312  0.33557 -0.00152 0.00129   \n",
       "2019-12-30 23:40:00  1.12018 -0.00011    0  0.00306  0.15542 -0.00141 0.00139   \n",
       "2019-12-31 00:00:00  1.12013 -0.00004    0  0.00299  0.09029 -0.00137 0.00144   \n",
       "2019-12-31 00:20:00  1.12030  0.00015    1  0.00291  0.32769 -0.00152 0.00129   \n",
       "\n",
       "                         mom     vol  dir_lag_1  ...  mom_lag_1  mom_lag_2  \\\n",
       "time                                             ...                         \n",
       "2018-12-24 01:20:00  0.00007 0.00076    1.00000  ...    0.00018    0.00015   \n",
       "2018-12-24 01:40:00  0.00000 0.00073    0.00000  ...    0.00007    0.00018   \n",
       "2018-12-24 02:00:00  0.00006 0.00072    0.00000  ...    0.00000    0.00007   \n",
       "2018-12-24 02:20:00  0.00003 0.00072    1.00000  ...    0.00006    0.00000   \n",
       "2018-12-24 02:40:00  0.00028 0.00072    0.00000  ...    0.00003    0.00006   \n",
       "...                      ...     ...        ...  ...        ...        ...   \n",
       "2019-12-30 23:00:00  0.00006 0.00041    0.00000  ...   -0.00007    0.00007   \n",
       "2019-12-30 23:20:00 -0.00003 0.00040    1.00000  ...    0.00006   -0.00007   \n",
       "2019-12-30 23:40:00  0.00004 0.00039    1.00000  ...   -0.00003    0.00006   \n",
       "2019-12-31 00:00:00  0.00000 0.00039    0.00000  ...    0.00004   -0.00003   \n",
       "2019-12-31 00:20:00 -0.00000 0.00039    0.00000  ...    0.00000    0.00004   \n",
       "\n",
       "                     mom_lag_3  mom_lag_4  mom_lag_5  vol_lag_1  vol_lag_2  \\\n",
       "time                                                                         \n",
       "2018-12-24 01:20:00    0.00013    0.00011    0.00020    0.00077    0.00077   \n",
       "2018-12-24 01:40:00    0.00015    0.00013    0.00011    0.00076    0.00077   \n",
       "2018-12-24 02:00:00    0.00018    0.00015    0.00013    0.00073    0.00076   \n",
       "2018-12-24 02:20:00    0.00007    0.00018    0.00015    0.00072    0.00073   \n",
       "2018-12-24 02:40:00    0.00000    0.00007    0.00018    0.00072    0.00072   \n",
       "...                        ...        ...        ...        ...        ...   \n",
       "2019-12-30 23:00:00    0.00002    0.00010    0.00010    0.00041    0.00041   \n",
       "2019-12-30 23:20:00    0.00007    0.00002    0.00010    0.00041    0.00041   \n",
       "2019-12-30 23:40:00   -0.00007    0.00007    0.00002    0.00040    0.00041   \n",
       "2019-12-31 00:00:00    0.00006   -0.00007    0.00007    0.00039    0.00040   \n",
       "2019-12-31 00:20:00   -0.00003    0.00006   -0.00007    0.00039    0.00039   \n",
       "\n",
       "                     vol_lag_3  vol_lag_4  vol_lag_5  \n",
       "time                                                  \n",
       "2018-12-24 01:20:00    0.00077    0.00078    0.00078  \n",
       "2018-12-24 01:40:00    0.00077    0.00077    0.00078  \n",
       "2018-12-24 02:00:00    0.00077    0.00077    0.00077  \n",
       "2018-12-24 02:20:00    0.00076    0.00077    0.00077  \n",
       "2018-12-24 02:40:00    0.00073    0.00076    0.00077  \n",
       "...                        ...        ...        ...  \n",
       "2019-12-30 23:00:00    0.00040    0.00040    0.00040  \n",
       "2019-12-30 23:20:00    0.00041    0.00040    0.00040  \n",
       "2019-12-30 23:40:00    0.00041    0.00041    0.00040  \n",
       "2019-12-31 00:00:00    0.00041    0.00041    0.00041  \n",
       "2019-12-31 00:20:00    0.00040    0.00041    0.00041  \n",
       "\n",
       "[18915 rows x 44 columns]"
      ]
     },
     "execution_count": 23,
     "metadata": {},
     "output_type": "execute_result"
    }
   ],
   "source": [
    "test = df.iloc[split:].copy()\n",
    "test"
   ]
  },
  {
   "cell_type": "code",
   "execution_count": null,
   "metadata": {},
   "outputs": [],
   "source": []
  },
  {
   "cell_type": "markdown",
   "metadata": {},
   "source": [
    "## Feature Scaling (Standardization)"
   ]
  },
  {
   "cell_type": "code",
   "execution_count": 24,
   "metadata": {},
   "outputs": [
    {
     "data": {
      "text/html": [
       "<div>\n",
       "<style scoped>\n",
       "    .dataframe tbody tr th:only-of-type {\n",
       "        vertical-align: middle;\n",
       "    }\n",
       "\n",
       "    .dataframe tbody tr th {\n",
       "        vertical-align: top;\n",
       "    }\n",
       "\n",
       "    .dataframe thead th {\n",
       "        text-align: right;\n",
       "    }\n",
       "</style>\n",
       "<table border=\"1\" class=\"dataframe\">\n",
       "  <thead>\n",
       "    <tr style=\"text-align: right;\">\n",
       "      <th></th>\n",
       "      <th>dir_lag_1</th>\n",
       "      <th>dir_lag_2</th>\n",
       "      <th>dir_lag_3</th>\n",
       "      <th>dir_lag_4</th>\n",
       "      <th>dir_lag_5</th>\n",
       "      <th>sma_lag_1</th>\n",
       "      <th>sma_lag_2</th>\n",
       "      <th>sma_lag_3</th>\n",
       "      <th>sma_lag_4</th>\n",
       "      <th>sma_lag_5</th>\n",
       "      <th>...</th>\n",
       "      <th>mom_lag_1</th>\n",
       "      <th>mom_lag_2</th>\n",
       "      <th>mom_lag_3</th>\n",
       "      <th>mom_lag_4</th>\n",
       "      <th>mom_lag_5</th>\n",
       "      <th>vol_lag_1</th>\n",
       "      <th>vol_lag_2</th>\n",
       "      <th>vol_lag_3</th>\n",
       "      <th>vol_lag_4</th>\n",
       "      <th>vol_lag_5</th>\n",
       "    </tr>\n",
       "    <tr>\n",
       "      <th>time</th>\n",
       "      <th></th>\n",
       "      <th></th>\n",
       "      <th></th>\n",
       "      <th></th>\n",
       "      <th></th>\n",
       "      <th></th>\n",
       "      <th></th>\n",
       "      <th></th>\n",
       "      <th></th>\n",
       "      <th></th>\n",
       "      <th></th>\n",
       "      <th></th>\n",
       "      <th></th>\n",
       "      <th></th>\n",
       "      <th></th>\n",
       "      <th></th>\n",
       "      <th></th>\n",
       "      <th></th>\n",
       "      <th></th>\n",
       "      <th></th>\n",
       "      <th></th>\n",
       "    </tr>\n",
       "  </thead>\n",
       "  <tbody>\n",
       "    <tr>\n",
       "      <th>2017-01-05 02:40:00</th>\n",
       "      <td>1.00000</td>\n",
       "      <td>1.00000</td>\n",
       "      <td>0.00000</td>\n",
       "      <td>0.00000</td>\n",
       "      <td>1.00000</td>\n",
       "      <td>0.00327</td>\n",
       "      <td>0.00314</td>\n",
       "      <td>0.00302</td>\n",
       "      <td>0.00290</td>\n",
       "      <td>0.00275</td>\n",
       "      <td>...</td>\n",
       "      <td>0.00001</td>\n",
       "      <td>-0.00066</td>\n",
       "      <td>-0.00027</td>\n",
       "      <td>-0.00010</td>\n",
       "      <td>0.00138</td>\n",
       "      <td>0.00085</td>\n",
       "      <td>0.00085</td>\n",
       "      <td>0.00085</td>\n",
       "      <td>0.00084</td>\n",
       "      <td>0.00080</td>\n",
       "    </tr>\n",
       "    <tr>\n",
       "      <th>2017-01-05 03:00:00</th>\n",
       "      <td>0.00000</td>\n",
       "      <td>1.00000</td>\n",
       "      <td>1.00000</td>\n",
       "      <td>0.00000</td>\n",
       "      <td>0.00000</td>\n",
       "      <td>0.00339</td>\n",
       "      <td>0.00327</td>\n",
       "      <td>0.00314</td>\n",
       "      <td>0.00302</td>\n",
       "      <td>0.00290</td>\n",
       "      <td>...</td>\n",
       "      <td>-0.00004</td>\n",
       "      <td>0.00001</td>\n",
       "      <td>-0.00066</td>\n",
       "      <td>-0.00027</td>\n",
       "      <td>-0.00010</td>\n",
       "      <td>0.00086</td>\n",
       "      <td>0.00085</td>\n",
       "      <td>0.00085</td>\n",
       "      <td>0.00085</td>\n",
       "      <td>0.00084</td>\n",
       "    </tr>\n",
       "    <tr>\n",
       "      <th>2017-01-05 03:20:00</th>\n",
       "      <td>1.00000</td>\n",
       "      <td>0.00000</td>\n",
       "      <td>1.00000</td>\n",
       "      <td>1.00000</td>\n",
       "      <td>0.00000</td>\n",
       "      <td>0.00351</td>\n",
       "      <td>0.00339</td>\n",
       "      <td>0.00327</td>\n",
       "      <td>0.00314</td>\n",
       "      <td>0.00302</td>\n",
       "      <td>...</td>\n",
       "      <td>-0.00015</td>\n",
       "      <td>-0.00004</td>\n",
       "      <td>0.00001</td>\n",
       "      <td>-0.00066</td>\n",
       "      <td>-0.00027</td>\n",
       "      <td>0.00086</td>\n",
       "      <td>0.00086</td>\n",
       "      <td>0.00085</td>\n",
       "      <td>0.00085</td>\n",
       "      <td>0.00085</td>\n",
       "    </tr>\n",
       "    <tr>\n",
       "      <th>2017-01-05 03:40:00</th>\n",
       "      <td>1.00000</td>\n",
       "      <td>1.00000</td>\n",
       "      <td>0.00000</td>\n",
       "      <td>1.00000</td>\n",
       "      <td>1.00000</td>\n",
       "      <td>0.00365</td>\n",
       "      <td>0.00351</td>\n",
       "      <td>0.00339</td>\n",
       "      <td>0.00327</td>\n",
       "      <td>0.00314</td>\n",
       "      <td>...</td>\n",
       "      <td>-0.00000</td>\n",
       "      <td>-0.00015</td>\n",
       "      <td>-0.00004</td>\n",
       "      <td>0.00001</td>\n",
       "      <td>-0.00066</td>\n",
       "      <td>0.00086</td>\n",
       "      <td>0.00086</td>\n",
       "      <td>0.00086</td>\n",
       "      <td>0.00085</td>\n",
       "      <td>0.00085</td>\n",
       "    </tr>\n",
       "    <tr>\n",
       "      <th>2017-01-05 04:00:00</th>\n",
       "      <td>0.00000</td>\n",
       "      <td>1.00000</td>\n",
       "      <td>1.00000</td>\n",
       "      <td>0.00000</td>\n",
       "      <td>1.00000</td>\n",
       "      <td>0.00380</td>\n",
       "      <td>0.00365</td>\n",
       "      <td>0.00351</td>\n",
       "      <td>0.00339</td>\n",
       "      <td>0.00327</td>\n",
       "      <td>...</td>\n",
       "      <td>0.00022</td>\n",
       "      <td>-0.00000</td>\n",
       "      <td>-0.00015</td>\n",
       "      <td>-0.00004</td>\n",
       "      <td>0.00001</td>\n",
       "      <td>0.00086</td>\n",
       "      <td>0.00086</td>\n",
       "      <td>0.00086</td>\n",
       "      <td>0.00086</td>\n",
       "      <td>0.00085</td>\n",
       "    </tr>\n",
       "    <tr>\n",
       "      <th>...</th>\n",
       "      <td>...</td>\n",
       "      <td>...</td>\n",
       "      <td>...</td>\n",
       "      <td>...</td>\n",
       "      <td>...</td>\n",
       "      <td>...</td>\n",
       "      <td>...</td>\n",
       "      <td>...</td>\n",
       "      <td>...</td>\n",
       "      <td>...</td>\n",
       "      <td>...</td>\n",
       "      <td>...</td>\n",
       "      <td>...</td>\n",
       "      <td>...</td>\n",
       "      <td>...</td>\n",
       "      <td>...</td>\n",
       "      <td>...</td>\n",
       "      <td>...</td>\n",
       "      <td>...</td>\n",
       "      <td>...</td>\n",
       "      <td>...</td>\n",
       "    </tr>\n",
       "    <tr>\n",
       "      <th>2018-12-23 23:40:00</th>\n",
       "      <td>1.00000</td>\n",
       "      <td>1.00000</td>\n",
       "      <td>1.00000</td>\n",
       "      <td>0.00000</td>\n",
       "      <td>1.00000</td>\n",
       "      <td>-0.00186</td>\n",
       "      <td>-0.00170</td>\n",
       "      <td>-0.00153</td>\n",
       "      <td>-0.00138</td>\n",
       "      <td>-0.00122</td>\n",
       "      <td>...</td>\n",
       "      <td>0.00025</td>\n",
       "      <td>-0.00009</td>\n",
       "      <td>0.00013</td>\n",
       "      <td>0.00009</td>\n",
       "      <td>0.00038</td>\n",
       "      <td>0.00078</td>\n",
       "      <td>0.00078</td>\n",
       "      <td>0.00078</td>\n",
       "      <td>0.00078</td>\n",
       "      <td>0.00078</td>\n",
       "    </tr>\n",
       "    <tr>\n",
       "      <th>2018-12-24 00:00:00</th>\n",
       "      <td>1.00000</td>\n",
       "      <td>1.00000</td>\n",
       "      <td>1.00000</td>\n",
       "      <td>1.00000</td>\n",
       "      <td>0.00000</td>\n",
       "      <td>-0.00202</td>\n",
       "      <td>-0.00186</td>\n",
       "      <td>-0.00170</td>\n",
       "      <td>-0.00153</td>\n",
       "      <td>-0.00138</td>\n",
       "      <td>...</td>\n",
       "      <td>0.00020</td>\n",
       "      <td>0.00025</td>\n",
       "      <td>-0.00009</td>\n",
       "      <td>0.00013</td>\n",
       "      <td>0.00009</td>\n",
       "      <td>0.00078</td>\n",
       "      <td>0.00078</td>\n",
       "      <td>0.00078</td>\n",
       "      <td>0.00078</td>\n",
       "      <td>0.00078</td>\n",
       "    </tr>\n",
       "    <tr>\n",
       "      <th>2018-12-24 00:20:00</th>\n",
       "      <td>1.00000</td>\n",
       "      <td>1.00000</td>\n",
       "      <td>1.00000</td>\n",
       "      <td>1.00000</td>\n",
       "      <td>1.00000</td>\n",
       "      <td>-0.00219</td>\n",
       "      <td>-0.00202</td>\n",
       "      <td>-0.00186</td>\n",
       "      <td>-0.00170</td>\n",
       "      <td>-0.00153</td>\n",
       "      <td>...</td>\n",
       "      <td>0.00011</td>\n",
       "      <td>0.00020</td>\n",
       "      <td>0.00025</td>\n",
       "      <td>-0.00009</td>\n",
       "      <td>0.00013</td>\n",
       "      <td>0.00078</td>\n",
       "      <td>0.00078</td>\n",
       "      <td>0.00078</td>\n",
       "      <td>0.00078</td>\n",
       "      <td>0.00078</td>\n",
       "    </tr>\n",
       "    <tr>\n",
       "      <th>2018-12-24 00:40:00</th>\n",
       "      <td>1.00000</td>\n",
       "      <td>1.00000</td>\n",
       "      <td>1.00000</td>\n",
       "      <td>1.00000</td>\n",
       "      <td>1.00000</td>\n",
       "      <td>-0.00237</td>\n",
       "      <td>-0.00219</td>\n",
       "      <td>-0.00202</td>\n",
       "      <td>-0.00186</td>\n",
       "      <td>-0.00170</td>\n",
       "      <td>...</td>\n",
       "      <td>0.00013</td>\n",
       "      <td>0.00011</td>\n",
       "      <td>0.00020</td>\n",
       "      <td>0.00025</td>\n",
       "      <td>-0.00009</td>\n",
       "      <td>0.00077</td>\n",
       "      <td>0.00078</td>\n",
       "      <td>0.00078</td>\n",
       "      <td>0.00078</td>\n",
       "      <td>0.00078</td>\n",
       "    </tr>\n",
       "    <tr>\n",
       "      <th>2018-12-24 01:00:00</th>\n",
       "      <td>1.00000</td>\n",
       "      <td>1.00000</td>\n",
       "      <td>1.00000</td>\n",
       "      <td>1.00000</td>\n",
       "      <td>1.00000</td>\n",
       "      <td>-0.00256</td>\n",
       "      <td>-0.00237</td>\n",
       "      <td>-0.00219</td>\n",
       "      <td>-0.00202</td>\n",
       "      <td>-0.00186</td>\n",
       "      <td>...</td>\n",
       "      <td>0.00015</td>\n",
       "      <td>0.00013</td>\n",
       "      <td>0.00011</td>\n",
       "      <td>0.00020</td>\n",
       "      <td>0.00025</td>\n",
       "      <td>0.00077</td>\n",
       "      <td>0.00077</td>\n",
       "      <td>0.00078</td>\n",
       "      <td>0.00078</td>\n",
       "      <td>0.00078</td>\n",
       "    </tr>\n",
       "  </tbody>\n",
       "</table>\n",
       "<p>36716 rows × 35 columns</p>\n",
       "</div>"
      ],
      "text/plain": [
       "                     dir_lag_1  dir_lag_2  dir_lag_3  dir_lag_4  dir_lag_5  \\\n",
       "time                                                                         \n",
       "2017-01-05 02:40:00    1.00000    1.00000    0.00000    0.00000    1.00000   \n",
       "2017-01-05 03:00:00    0.00000    1.00000    1.00000    0.00000    0.00000   \n",
       "2017-01-05 03:20:00    1.00000    0.00000    1.00000    1.00000    0.00000   \n",
       "2017-01-05 03:40:00    1.00000    1.00000    0.00000    1.00000    1.00000   \n",
       "2017-01-05 04:00:00    0.00000    1.00000    1.00000    0.00000    1.00000   \n",
       "...                        ...        ...        ...        ...        ...   \n",
       "2018-12-23 23:40:00    1.00000    1.00000    1.00000    0.00000    1.00000   \n",
       "2018-12-24 00:00:00    1.00000    1.00000    1.00000    1.00000    0.00000   \n",
       "2018-12-24 00:20:00    1.00000    1.00000    1.00000    1.00000    1.00000   \n",
       "2018-12-24 00:40:00    1.00000    1.00000    1.00000    1.00000    1.00000   \n",
       "2018-12-24 01:00:00    1.00000    1.00000    1.00000    1.00000    1.00000   \n",
       "\n",
       "                     sma_lag_1  sma_lag_2  sma_lag_3  sma_lag_4  sma_lag_5  \\\n",
       "time                                                                         \n",
       "2017-01-05 02:40:00    0.00327    0.00314    0.00302    0.00290    0.00275   \n",
       "2017-01-05 03:00:00    0.00339    0.00327    0.00314    0.00302    0.00290   \n",
       "2017-01-05 03:20:00    0.00351    0.00339    0.00327    0.00314    0.00302   \n",
       "2017-01-05 03:40:00    0.00365    0.00351    0.00339    0.00327    0.00314   \n",
       "2017-01-05 04:00:00    0.00380    0.00365    0.00351    0.00339    0.00327   \n",
       "...                        ...        ...        ...        ...        ...   \n",
       "2018-12-23 23:40:00   -0.00186   -0.00170   -0.00153   -0.00138   -0.00122   \n",
       "2018-12-24 00:00:00   -0.00202   -0.00186   -0.00170   -0.00153   -0.00138   \n",
       "2018-12-24 00:20:00   -0.00219   -0.00202   -0.00186   -0.00170   -0.00153   \n",
       "2018-12-24 00:40:00   -0.00237   -0.00219   -0.00202   -0.00186   -0.00170   \n",
       "2018-12-24 01:00:00   -0.00256   -0.00237   -0.00219   -0.00202   -0.00186   \n",
       "\n",
       "                     ...  mom_lag_1  mom_lag_2  mom_lag_3  mom_lag_4  \\\n",
       "time                 ...                                               \n",
       "2017-01-05 02:40:00  ...    0.00001   -0.00066   -0.00027   -0.00010   \n",
       "2017-01-05 03:00:00  ...   -0.00004    0.00001   -0.00066   -0.00027   \n",
       "2017-01-05 03:20:00  ...   -0.00015   -0.00004    0.00001   -0.00066   \n",
       "2017-01-05 03:40:00  ...   -0.00000   -0.00015   -0.00004    0.00001   \n",
       "2017-01-05 04:00:00  ...    0.00022   -0.00000   -0.00015   -0.00004   \n",
       "...                  ...        ...        ...        ...        ...   \n",
       "2018-12-23 23:40:00  ...    0.00025   -0.00009    0.00013    0.00009   \n",
       "2018-12-24 00:00:00  ...    0.00020    0.00025   -0.00009    0.00013   \n",
       "2018-12-24 00:20:00  ...    0.00011    0.00020    0.00025   -0.00009   \n",
       "2018-12-24 00:40:00  ...    0.00013    0.00011    0.00020    0.00025   \n",
       "2018-12-24 01:00:00  ...    0.00015    0.00013    0.00011    0.00020   \n",
       "\n",
       "                     mom_lag_5  vol_lag_1  vol_lag_2  vol_lag_3  vol_lag_4  \\\n",
       "time                                                                         \n",
       "2017-01-05 02:40:00    0.00138    0.00085    0.00085    0.00085    0.00084   \n",
       "2017-01-05 03:00:00   -0.00010    0.00086    0.00085    0.00085    0.00085   \n",
       "2017-01-05 03:20:00   -0.00027    0.00086    0.00086    0.00085    0.00085   \n",
       "2017-01-05 03:40:00   -0.00066    0.00086    0.00086    0.00086    0.00085   \n",
       "2017-01-05 04:00:00    0.00001    0.00086    0.00086    0.00086    0.00086   \n",
       "...                        ...        ...        ...        ...        ...   \n",
       "2018-12-23 23:40:00    0.00038    0.00078    0.00078    0.00078    0.00078   \n",
       "2018-12-24 00:00:00    0.00009    0.00078    0.00078    0.00078    0.00078   \n",
       "2018-12-24 00:20:00    0.00013    0.00078    0.00078    0.00078    0.00078   \n",
       "2018-12-24 00:40:00   -0.00009    0.00077    0.00078    0.00078    0.00078   \n",
       "2018-12-24 01:00:00    0.00025    0.00077    0.00077    0.00078    0.00078   \n",
       "\n",
       "                     vol_lag_5  \n",
       "time                            \n",
       "2017-01-05 02:40:00    0.00080  \n",
       "2017-01-05 03:00:00    0.00084  \n",
       "2017-01-05 03:20:00    0.00085  \n",
       "2017-01-05 03:40:00    0.00085  \n",
       "2017-01-05 04:00:00    0.00085  \n",
       "...                        ...  \n",
       "2018-12-23 23:40:00    0.00078  \n",
       "2018-12-24 00:00:00    0.00078  \n",
       "2018-12-24 00:20:00    0.00078  \n",
       "2018-12-24 00:40:00    0.00078  \n",
       "2018-12-24 01:00:00    0.00078  \n",
       "\n",
       "[36716 rows x 35 columns]"
      ]
     },
     "execution_count": 24,
     "metadata": {},
     "output_type": "execute_result"
    }
   ],
   "source": [
    "train[cols]"
   ]
  },
  {
   "cell_type": "code",
   "execution_count": 25,
   "metadata": {},
   "outputs": [],
   "source": [
    "mu, std = train.mean(), train.std() # train set parameters (mu, std) for standardization"
   ]
  },
  {
   "cell_type": "code",
   "execution_count": 26,
   "metadata": {},
   "outputs": [
    {
     "data": {
      "text/plain": [
       "EUR_USD      0.05121\n",
       "returns      0.00054\n",
       "dir          0.49996\n",
       "sma          0.00287\n",
       "boll         1.44147\n",
       "min          0.00237\n",
       "max          0.00225\n",
       "mom          0.00031\n",
       "vol          0.00018\n",
       "dir_lag_1    0.49996\n",
       "dir_lag_2    0.49996\n",
       "dir_lag_3    0.49996\n",
       "dir_lag_4    0.49996\n",
       "dir_lag_5    0.49996\n",
       "sma_lag_1    0.00287\n",
       "sma_lag_2    0.00287\n",
       "sma_lag_3    0.00287\n",
       "sma_lag_4    0.00287\n",
       "sma_lag_5    0.00287\n",
       "boll_lag_1   1.44150\n",
       "boll_lag_2   1.44152\n",
       "boll_lag_3   1.44154\n",
       "boll_lag_4   1.44157\n",
       "boll_lag_5   1.44163\n",
       "min_lag_1    0.00237\n",
       "min_lag_2    0.00237\n",
       "min_lag_3    0.00237\n",
       "min_lag_4    0.00237\n",
       "min_lag_5    0.00237\n",
       "max_lag_1    0.00225\n",
       "max_lag_2    0.00225\n",
       "max_lag_3    0.00225\n",
       "max_lag_4    0.00225\n",
       "max_lag_5    0.00225\n",
       "mom_lag_1    0.00031\n",
       "mom_lag_2    0.00031\n",
       "mom_lag_3    0.00031\n",
       "mom_lag_4    0.00031\n",
       "mom_lag_5    0.00031\n",
       "vol_lag_1    0.00018\n",
       "vol_lag_2    0.00018\n",
       "vol_lag_3    0.00018\n",
       "vol_lag_4    0.00018\n",
       "vol_lag_5    0.00018\n",
       "dtype: float64"
      ]
     },
     "execution_count": 26,
     "metadata": {},
     "output_type": "execute_result"
    }
   ],
   "source": [
    "std"
   ]
  },
  {
   "cell_type": "code",
   "execution_count": 27,
   "metadata": {},
   "outputs": [],
   "source": [
    "train_s = (train - mu) / std # standardization of train set features"
   ]
  },
  {
   "cell_type": "code",
   "execution_count": 28,
   "metadata": {},
   "outputs": [
    {
     "data": {
      "text/html": [
       "<div>\n",
       "<style scoped>\n",
       "    .dataframe tbody tr th:only-of-type {\n",
       "        vertical-align: middle;\n",
       "    }\n",
       "\n",
       "    .dataframe tbody tr th {\n",
       "        vertical-align: top;\n",
       "    }\n",
       "\n",
       "    .dataframe thead th {\n",
       "        text-align: right;\n",
       "    }\n",
       "</style>\n",
       "<table border=\"1\" class=\"dataframe\">\n",
       "  <thead>\n",
       "    <tr style=\"text-align: right;\">\n",
       "      <th></th>\n",
       "      <th>EUR_USD</th>\n",
       "      <th>returns</th>\n",
       "      <th>dir</th>\n",
       "      <th>sma</th>\n",
       "      <th>boll</th>\n",
       "      <th>min</th>\n",
       "      <th>max</th>\n",
       "      <th>mom</th>\n",
       "      <th>vol</th>\n",
       "      <th>dir_lag_1</th>\n",
       "      <th>...</th>\n",
       "      <th>mom_lag_1</th>\n",
       "      <th>mom_lag_2</th>\n",
       "      <th>mom_lag_3</th>\n",
       "      <th>mom_lag_4</th>\n",
       "      <th>mom_lag_5</th>\n",
       "      <th>vol_lag_1</th>\n",
       "      <th>vol_lag_2</th>\n",
       "      <th>vol_lag_3</th>\n",
       "      <th>vol_lag_4</th>\n",
       "      <th>vol_lag_5</th>\n",
       "    </tr>\n",
       "    <tr>\n",
       "      <th>time</th>\n",
       "      <th></th>\n",
       "      <th></th>\n",
       "      <th></th>\n",
       "      <th></th>\n",
       "      <th></th>\n",
       "      <th></th>\n",
       "      <th></th>\n",
       "      <th></th>\n",
       "      <th></th>\n",
       "      <th></th>\n",
       "      <th></th>\n",
       "      <th></th>\n",
       "      <th></th>\n",
       "      <th></th>\n",
       "      <th></th>\n",
       "      <th></th>\n",
       "      <th></th>\n",
       "      <th></th>\n",
       "      <th></th>\n",
       "      <th></th>\n",
       "      <th></th>\n",
       "    </tr>\n",
       "  </thead>\n",
       "  <tbody>\n",
       "    <tr>\n",
       "      <th>2017-01-05 02:40:00</th>\n",
       "      <td>-2.04937</td>\n",
       "      <td>-1.86478</td>\n",
       "      <td>-0.98635</td>\n",
       "      <td>1.13118</td>\n",
       "      <td>0.90750</td>\n",
       "      <td>-2.34316</td>\n",
       "      <td>0.12084</td>\n",
       "      <td>-0.15119</td>\n",
       "      <td>1.95530</td>\n",
       "      <td>1.01381</td>\n",
       "      <td>...</td>\n",
       "      <td>0.03425</td>\n",
       "      <td>-2.16691</td>\n",
       "      <td>-0.89242</td>\n",
       "      <td>-0.33613</td>\n",
       "      <td>4.49168</td>\n",
       "      <td>1.87821</td>\n",
       "      <td>1.87742</td>\n",
       "      <td>1.88615</td>\n",
       "      <td>1.84658</td>\n",
       "      <td>1.63281</td>\n",
       "    </tr>\n",
       "    <tr>\n",
       "      <th>2017-01-05 03:00:00</th>\n",
       "      <td>-2.04429</td>\n",
       "      <td>0.45268</td>\n",
       "      <td>1.01381</td>\n",
       "      <td>1.17515</td>\n",
       "      <td>0.92997</td>\n",
       "      <td>-2.44672</td>\n",
       "      <td>0.01062</td>\n",
       "      <td>-0.48070</td>\n",
       "      <td>1.94553</td>\n",
       "      <td>-0.98635</td>\n",
       "      <td>...</td>\n",
       "      <td>-0.15117</td>\n",
       "      <td>0.03432</td>\n",
       "      <td>-2.16686</td>\n",
       "      <td>-0.89240</td>\n",
       "      <td>-0.33615</td>\n",
       "      <td>1.95524</td>\n",
       "      <td>1.87817</td>\n",
       "      <td>1.87737</td>\n",
       "      <td>1.88611</td>\n",
       "      <td>1.84657</td>\n",
       "    </tr>\n",
       "    <tr>\n",
       "      <th>2017-01-05 03:20:00</th>\n",
       "      <td>-2.02867</td>\n",
       "      <td>1.40031</td>\n",
       "      <td>1.01381</td>\n",
       "      <td>1.22385</td>\n",
       "      <td>1.07006</td>\n",
       "      <td>-2.76504</td>\n",
       "      <td>-0.32820</td>\n",
       "      <td>-0.00694</td>\n",
       "      <td>1.96957</td>\n",
       "      <td>1.01381</td>\n",
       "      <td>...</td>\n",
       "      <td>-0.48069</td>\n",
       "      <td>-0.15109</td>\n",
       "      <td>0.03435</td>\n",
       "      <td>-2.16684</td>\n",
       "      <td>-0.89226</td>\n",
       "      <td>1.94548</td>\n",
       "      <td>1.95520</td>\n",
       "      <td>1.87812</td>\n",
       "      <td>1.87733</td>\n",
       "      <td>1.88609</td>\n",
       "    </tr>\n",
       "    <tr>\n",
       "      <th>2017-01-05 03:40:00</th>\n",
       "      <td>-2.03609</td>\n",
       "      <td>-0.67081</td>\n",
       "      <td>-0.98635</td>\n",
       "      <td>1.27513</td>\n",
       "      <td>0.94404</td>\n",
       "      <td>-2.61390</td>\n",
       "      <td>-0.16733</td>\n",
       "      <td>0.69350</td>\n",
       "      <td>1.96584</td>\n",
       "      <td>1.01381</td>\n",
       "      <td>...</td>\n",
       "      <td>-0.00693</td>\n",
       "      <td>-0.48059</td>\n",
       "      <td>-0.15105</td>\n",
       "      <td>0.03437</td>\n",
       "      <td>-2.16636</td>\n",
       "      <td>1.96952</td>\n",
       "      <td>1.94543</td>\n",
       "      <td>1.95514</td>\n",
       "      <td>1.87808</td>\n",
       "      <td>1.87732</td>\n",
       "    </tr>\n",
       "    <tr>\n",
       "      <th>2017-01-05 04:00:00</th>\n",
       "      <td>-2.03375</td>\n",
       "      <td>0.20669</td>\n",
       "      <td>1.01381</td>\n",
       "      <td>1.31799</td>\n",
       "      <td>0.93169</td>\n",
       "      <td>-2.66164</td>\n",
       "      <td>-0.21814</td>\n",
       "      <td>0.54919</td>\n",
       "      <td>1.90611</td>\n",
       "      <td>-0.98635</td>\n",
       "      <td>...</td>\n",
       "      <td>0.69351</td>\n",
       "      <td>-0.00685</td>\n",
       "      <td>-0.48055</td>\n",
       "      <td>-0.15104</td>\n",
       "      <td>0.03426</td>\n",
       "      <td>1.96579</td>\n",
       "      <td>1.96947</td>\n",
       "      <td>1.94538</td>\n",
       "      <td>1.95510</td>\n",
       "      <td>1.87806</td>\n",
       "    </tr>\n",
       "    <tr>\n",
       "      <th>...</th>\n",
       "      <td>...</td>\n",
       "      <td>...</td>\n",
       "      <td>...</td>\n",
       "      <td>...</td>\n",
       "      <td>...</td>\n",
       "      <td>...</td>\n",
       "      <td>...</td>\n",
       "      <td>...</td>\n",
       "      <td>...</td>\n",
       "      <td>...</td>\n",
       "      <td>...</td>\n",
       "      <td>...</td>\n",
       "      <td>...</td>\n",
       "      <td>...</td>\n",
       "      <td>...</td>\n",
       "      <td>...</td>\n",
       "      <td>...</td>\n",
       "      <td>...</td>\n",
       "      <td>...</td>\n",
       "      <td>...</td>\n",
       "      <td>...</td>\n",
       "    </tr>\n",
       "    <tr>\n",
       "      <th>2018-12-23 23:40:00</th>\n",
       "      <td>-0.37115</td>\n",
       "      <td>0.10973</td>\n",
       "      <td>1.01381</td>\n",
       "      <td>-0.75175</td>\n",
       "      <td>-0.66629</td>\n",
       "      <td>0.59187</td>\n",
       "      <td>2.88473</td>\n",
       "      <td>0.63144</td>\n",
       "      <td>1.49751</td>\n",
       "      <td>1.01381</td>\n",
       "      <td>...</td>\n",
       "      <td>0.80307</td>\n",
       "      <td>-0.31169</td>\n",
       "      <td>0.40306</td>\n",
       "      <td>0.27921</td>\n",
       "      <td>1.22213</td>\n",
       "      <td>1.50812</td>\n",
       "      <td>1.50046</td>\n",
       "      <td>1.51651</td>\n",
       "      <td>1.51163</td>\n",
       "      <td>1.47850</td>\n",
       "    </tr>\n",
       "    <tr>\n",
       "      <th>2018-12-24 00:00:00</th>\n",
       "      <td>-0.36998</td>\n",
       "      <td>0.09349</td>\n",
       "      <td>1.01381</td>\n",
       "      <td>-0.81123</td>\n",
       "      <td>-0.63141</td>\n",
       "      <td>0.56962</td>\n",
       "      <td>2.86106</td>\n",
       "      <td>0.35506</td>\n",
       "      <td>1.48584</td>\n",
       "      <td>1.01381</td>\n",
       "      <td>...</td>\n",
       "      <td>0.63145</td>\n",
       "      <td>0.80309</td>\n",
       "      <td>-0.31165</td>\n",
       "      <td>0.40308</td>\n",
       "      <td>0.27903</td>\n",
       "      <td>1.49747</td>\n",
       "      <td>1.50808</td>\n",
       "      <td>1.50042</td>\n",
       "      <td>1.51648</td>\n",
       "      <td>1.51162</td>\n",
       "    </tr>\n",
       "    <tr>\n",
       "      <th>2018-12-24 00:20:00</th>\n",
       "      <td>-0.36393</td>\n",
       "      <td>0.49931</td>\n",
       "      <td>1.01381</td>\n",
       "      <td>-0.87442</td>\n",
       "      <td>-0.54507</td>\n",
       "      <td>0.45469</td>\n",
       "      <td>2.73883</td>\n",
       "      <td>0.41211</td>\n",
       "      <td>1.45186</td>\n",
       "      <td>1.01381</td>\n",
       "      <td>...</td>\n",
       "      <td>0.35507</td>\n",
       "      <td>0.63149</td>\n",
       "      <td>0.80312</td>\n",
       "      <td>-0.31163</td>\n",
       "      <td>0.40286</td>\n",
       "      <td>1.48580</td>\n",
       "      <td>1.49743</td>\n",
       "      <td>1.50804</td>\n",
       "      <td>1.50038</td>\n",
       "      <td>1.51646</td>\n",
       "    </tr>\n",
       "    <tr>\n",
       "      <th>2018-12-24 00:40:00</th>\n",
       "      <td>-0.36119</td>\n",
       "      <td>0.22330</td>\n",
       "      <td>1.01381</td>\n",
       "      <td>-0.93777</td>\n",
       "      <td>-0.49633</td>\n",
       "      <td>0.40281</td>\n",
       "      <td>2.68365</td>\n",
       "      <td>0.47874</td>\n",
       "      <td>1.44950</td>\n",
       "      <td>1.01381</td>\n",
       "      <td>...</td>\n",
       "      <td>0.41213</td>\n",
       "      <td>0.35512</td>\n",
       "      <td>0.63152</td>\n",
       "      <td>0.80314</td>\n",
       "      <td>-0.31165</td>\n",
       "      <td>1.45182</td>\n",
       "      <td>1.48576</td>\n",
       "      <td>1.49739</td>\n",
       "      <td>1.50801</td>\n",
       "      <td>1.50037</td>\n",
       "    </tr>\n",
       "    <tr>\n",
       "      <th>2018-12-24 01:00:00</th>\n",
       "      <td>-0.35826</td>\n",
       "      <td>0.23949</td>\n",
       "      <td>1.01381</td>\n",
       "      <td>-1.00324</td>\n",
       "      <td>-0.44571</td>\n",
       "      <td>0.34724</td>\n",
       "      <td>2.14004</td>\n",
       "      <td>0.56439</td>\n",
       "      <td>1.43511</td>\n",
       "      <td>1.01381</td>\n",
       "      <td>...</td>\n",
       "      <td>0.47875</td>\n",
       "      <td>0.41218</td>\n",
       "      <td>0.35516</td>\n",
       "      <td>0.63154</td>\n",
       "      <td>0.80282</td>\n",
       "      <td>1.44946</td>\n",
       "      <td>1.45178</td>\n",
       "      <td>1.48572</td>\n",
       "      <td>1.49735</td>\n",
       "      <td>1.50799</td>\n",
       "    </tr>\n",
       "  </tbody>\n",
       "</table>\n",
       "<p>36716 rows × 44 columns</p>\n",
       "</div>"
      ],
      "text/plain": [
       "                     EUR_USD  returns      dir      sma     boll      min  \\\n",
       "time                                                                        \n",
       "2017-01-05 02:40:00 -2.04937 -1.86478 -0.98635  1.13118  0.90750 -2.34316   \n",
       "2017-01-05 03:00:00 -2.04429  0.45268  1.01381  1.17515  0.92997 -2.44672   \n",
       "2017-01-05 03:20:00 -2.02867  1.40031  1.01381  1.22385  1.07006 -2.76504   \n",
       "2017-01-05 03:40:00 -2.03609 -0.67081 -0.98635  1.27513  0.94404 -2.61390   \n",
       "2017-01-05 04:00:00 -2.03375  0.20669  1.01381  1.31799  0.93169 -2.66164   \n",
       "...                      ...      ...      ...      ...      ...      ...   \n",
       "2018-12-23 23:40:00 -0.37115  0.10973  1.01381 -0.75175 -0.66629  0.59187   \n",
       "2018-12-24 00:00:00 -0.36998  0.09349  1.01381 -0.81123 -0.63141  0.56962   \n",
       "2018-12-24 00:20:00 -0.36393  0.49931  1.01381 -0.87442 -0.54507  0.45469   \n",
       "2018-12-24 00:40:00 -0.36119  0.22330  1.01381 -0.93777 -0.49633  0.40281   \n",
       "2018-12-24 01:00:00 -0.35826  0.23949  1.01381 -1.00324 -0.44571  0.34724   \n",
       "\n",
       "                         max      mom     vol  dir_lag_1  ...  mom_lag_1  \\\n",
       "time                                                      ...              \n",
       "2017-01-05 02:40:00  0.12084 -0.15119 1.95530    1.01381  ...    0.03425   \n",
       "2017-01-05 03:00:00  0.01062 -0.48070 1.94553   -0.98635  ...   -0.15117   \n",
       "2017-01-05 03:20:00 -0.32820 -0.00694 1.96957    1.01381  ...   -0.48069   \n",
       "2017-01-05 03:40:00 -0.16733  0.69350 1.96584    1.01381  ...   -0.00693   \n",
       "2017-01-05 04:00:00 -0.21814  0.54919 1.90611   -0.98635  ...    0.69351   \n",
       "...                      ...      ...     ...        ...  ...        ...   \n",
       "2018-12-23 23:40:00  2.88473  0.63144 1.49751    1.01381  ...    0.80307   \n",
       "2018-12-24 00:00:00  2.86106  0.35506 1.48584    1.01381  ...    0.63145   \n",
       "2018-12-24 00:20:00  2.73883  0.41211 1.45186    1.01381  ...    0.35507   \n",
       "2018-12-24 00:40:00  2.68365  0.47874 1.44950    1.01381  ...    0.41213   \n",
       "2018-12-24 01:00:00  2.14004  0.56439 1.43511    1.01381  ...    0.47875   \n",
       "\n",
       "                     mom_lag_2  mom_lag_3  mom_lag_4  mom_lag_5  vol_lag_1  \\\n",
       "time                                                                         \n",
       "2017-01-05 02:40:00   -2.16691   -0.89242   -0.33613    4.49168    1.87821   \n",
       "2017-01-05 03:00:00    0.03432   -2.16686   -0.89240   -0.33615    1.95524   \n",
       "2017-01-05 03:20:00   -0.15109    0.03435   -2.16684   -0.89226    1.94548   \n",
       "2017-01-05 03:40:00   -0.48059   -0.15105    0.03437   -2.16636    1.96952   \n",
       "2017-01-05 04:00:00   -0.00685   -0.48055   -0.15104    0.03426    1.96579   \n",
       "...                        ...        ...        ...        ...        ...   \n",
       "2018-12-23 23:40:00   -0.31169    0.40306    0.27921    1.22213    1.50812   \n",
       "2018-12-24 00:00:00    0.80309   -0.31165    0.40308    0.27903    1.49747   \n",
       "2018-12-24 00:20:00    0.63149    0.80312   -0.31163    0.40286    1.48580   \n",
       "2018-12-24 00:40:00    0.35512    0.63152    0.80314   -0.31165    1.45182   \n",
       "2018-12-24 01:00:00    0.41218    0.35516    0.63154    0.80282    1.44946   \n",
       "\n",
       "                     vol_lag_2  vol_lag_3  vol_lag_4  vol_lag_5  \n",
       "time                                                             \n",
       "2017-01-05 02:40:00    1.87742    1.88615    1.84658    1.63281  \n",
       "2017-01-05 03:00:00    1.87817    1.87737    1.88611    1.84657  \n",
       "2017-01-05 03:20:00    1.95520    1.87812    1.87733    1.88609  \n",
       "2017-01-05 03:40:00    1.94543    1.95514    1.87808    1.87732  \n",
       "2017-01-05 04:00:00    1.96947    1.94538    1.95510    1.87806  \n",
       "...                        ...        ...        ...        ...  \n",
       "2018-12-23 23:40:00    1.50046    1.51651    1.51163    1.47850  \n",
       "2018-12-24 00:00:00    1.50808    1.50042    1.51648    1.51162  \n",
       "2018-12-24 00:20:00    1.49743    1.50804    1.50038    1.51646  \n",
       "2018-12-24 00:40:00    1.48576    1.49739    1.50801    1.50037  \n",
       "2018-12-24 01:00:00    1.45178    1.48572    1.49735    1.50799  \n",
       "\n",
       "[36716 rows x 44 columns]"
      ]
     },
     "execution_count": 28,
     "metadata": {},
     "output_type": "execute_result"
    }
   ],
   "source": [
    "train_s"
   ]
  },
  {
   "cell_type": "code",
   "execution_count": 29,
   "metadata": {},
   "outputs": [
    {
     "data": {
      "text/html": [
       "<div>\n",
       "<style scoped>\n",
       "    .dataframe tbody tr th:only-of-type {\n",
       "        vertical-align: middle;\n",
       "    }\n",
       "\n",
       "    .dataframe tbody tr th {\n",
       "        vertical-align: top;\n",
       "    }\n",
       "\n",
       "    .dataframe thead th {\n",
       "        text-align: right;\n",
       "    }\n",
       "</style>\n",
       "<table border=\"1\" class=\"dataframe\">\n",
       "  <thead>\n",
       "    <tr style=\"text-align: right;\">\n",
       "      <th></th>\n",
       "      <th>EUR_USD</th>\n",
       "      <th>returns</th>\n",
       "      <th>dir</th>\n",
       "      <th>sma</th>\n",
       "      <th>boll</th>\n",
       "      <th>min</th>\n",
       "      <th>max</th>\n",
       "      <th>mom</th>\n",
       "      <th>vol</th>\n",
       "      <th>dir_lag_1</th>\n",
       "      <th>...</th>\n",
       "      <th>mom_lag_1</th>\n",
       "      <th>mom_lag_2</th>\n",
       "      <th>mom_lag_3</th>\n",
       "      <th>mom_lag_4</th>\n",
       "      <th>mom_lag_5</th>\n",
       "      <th>vol_lag_1</th>\n",
       "      <th>vol_lag_2</th>\n",
       "      <th>vol_lag_3</th>\n",
       "      <th>vol_lag_4</th>\n",
       "      <th>vol_lag_5</th>\n",
       "    </tr>\n",
       "  </thead>\n",
       "  <tbody>\n",
       "    <tr>\n",
       "      <th>count</th>\n",
       "      <td>36716.00000</td>\n",
       "      <td>36716.00000</td>\n",
       "      <td>36716.00000</td>\n",
       "      <td>36716.00000</td>\n",
       "      <td>36716.00000</td>\n",
       "      <td>36716.00000</td>\n",
       "      <td>36716.00000</td>\n",
       "      <td>36716.00000</td>\n",
       "      <td>36716.00000</td>\n",
       "      <td>36716.00000</td>\n",
       "      <td>...</td>\n",
       "      <td>36716.00000</td>\n",
       "      <td>36716.00000</td>\n",
       "      <td>36716.00000</td>\n",
       "      <td>36716.00000</td>\n",
       "      <td>36716.00000</td>\n",
       "      <td>36716.00000</td>\n",
       "      <td>36716.00000</td>\n",
       "      <td>36716.00000</td>\n",
       "      <td>36716.00000</td>\n",
       "      <td>36716.00000</td>\n",
       "    </tr>\n",
       "    <tr>\n",
       "      <th>mean</th>\n",
       "      <td>0.00000</td>\n",
       "      <td>-0.00000</td>\n",
       "      <td>-0.00000</td>\n",
       "      <td>-0.00000</td>\n",
       "      <td>-0.00000</td>\n",
       "      <td>0.00000</td>\n",
       "      <td>0.00000</td>\n",
       "      <td>0.00000</td>\n",
       "      <td>-0.00000</td>\n",
       "      <td>-0.00000</td>\n",
       "      <td>...</td>\n",
       "      <td>0.00000</td>\n",
       "      <td>-0.00000</td>\n",
       "      <td>0.00000</td>\n",
       "      <td>0.00000</td>\n",
       "      <td>0.00000</td>\n",
       "      <td>-0.00000</td>\n",
       "      <td>0.00000</td>\n",
       "      <td>0.00000</td>\n",
       "      <td>-0.00000</td>\n",
       "      <td>0.00000</td>\n",
       "    </tr>\n",
       "    <tr>\n",
       "      <th>std</th>\n",
       "      <td>1.00000</td>\n",
       "      <td>1.00000</td>\n",
       "      <td>1.00000</td>\n",
       "      <td>1.00000</td>\n",
       "      <td>1.00000</td>\n",
       "      <td>1.00000</td>\n",
       "      <td>1.00000</td>\n",
       "      <td>1.00000</td>\n",
       "      <td>1.00000</td>\n",
       "      <td>1.00000</td>\n",
       "      <td>...</td>\n",
       "      <td>1.00000</td>\n",
       "      <td>1.00000</td>\n",
       "      <td>1.00000</td>\n",
       "      <td>1.00000</td>\n",
       "      <td>1.00000</td>\n",
       "      <td>1.00000</td>\n",
       "      <td>1.00000</td>\n",
       "      <td>1.00000</td>\n",
       "      <td>1.00000</td>\n",
       "      <td>1.00000</td>\n",
       "    </tr>\n",
       "    <tr>\n",
       "      <th>min</th>\n",
       "      <td>-2.14427</td>\n",
       "      <td>-15.49849</td>\n",
       "      <td>-0.98635</td>\n",
       "      <td>-4.52905</td>\n",
       "      <td>-4.35636</td>\n",
       "      <td>-7.23579</td>\n",
       "      <td>-1.07180</td>\n",
       "      <td>-11.84536</td>\n",
       "      <td>-2.02052</td>\n",
       "      <td>-0.98635</td>\n",
       "      <td>...</td>\n",
       "      <td>-11.84540</td>\n",
       "      <td>-11.84461</td>\n",
       "      <td>-11.84447</td>\n",
       "      <td>-11.84445</td>\n",
       "      <td>-11.84137</td>\n",
       "      <td>-2.02049</td>\n",
       "      <td>-2.02046</td>\n",
       "      <td>-2.02044</td>\n",
       "      <td>-2.02041</td>\n",
       "      <td>-2.02040</td>\n",
       "    </tr>\n",
       "    <tr>\n",
       "      <th>25%</th>\n",
       "      <td>-0.50472</td>\n",
       "      <td>-0.45358</td>\n",
       "      <td>-0.98635</td>\n",
       "      <td>-0.67758</td>\n",
       "      <td>-0.73979</td>\n",
       "      <td>-0.48565</td>\n",
       "      <td>-0.75323</td>\n",
       "      <td>-0.46080</td>\n",
       "      <td>-0.67030</td>\n",
       "      <td>-0.98635</td>\n",
       "      <td>...</td>\n",
       "      <td>-0.46079</td>\n",
       "      <td>-0.46070</td>\n",
       "      <td>-0.46069</td>\n",
       "      <td>-0.46067</td>\n",
       "      <td>-0.46065</td>\n",
       "      <td>-0.67030</td>\n",
       "      <td>-0.67030</td>\n",
       "      <td>-0.67030</td>\n",
       "      <td>-0.67030</td>\n",
       "      <td>-0.67030</td>\n",
       "    </tr>\n",
       "    <tr>\n",
       "      <th>50%</th>\n",
       "      <td>0.16948</td>\n",
       "      <td>-0.00393</td>\n",
       "      <td>-0.98635</td>\n",
       "      <td>-0.02444</td>\n",
       "      <td>0.01612</td>\n",
       "      <td>0.28270</td>\n",
       "      <td>-0.27229</td>\n",
       "      <td>-0.00694</td>\n",
       "      <td>-0.18088</td>\n",
       "      <td>-0.98635</td>\n",
       "      <td>...</td>\n",
       "      <td>-0.00693</td>\n",
       "      <td>-0.00685</td>\n",
       "      <td>-0.00682</td>\n",
       "      <td>-0.00680</td>\n",
       "      <td>-0.00690</td>\n",
       "      <td>-0.18089</td>\n",
       "      <td>-0.18090</td>\n",
       "      <td>-0.18091</td>\n",
       "      <td>-0.18091</td>\n",
       "      <td>-0.18091</td>\n",
       "    </tr>\n",
       "    <tr>\n",
       "      <th>75%</th>\n",
       "      <td>0.58278</td>\n",
       "      <td>0.45663</td>\n",
       "      <td>1.01381</td>\n",
       "      <td>0.65822</td>\n",
       "      <td>0.74353</td>\n",
       "      <td>0.74441</td>\n",
       "      <td>0.50010</td>\n",
       "      <td>0.45772</td>\n",
       "      <td>0.43962</td>\n",
       "      <td>1.01381</td>\n",
       "      <td>...</td>\n",
       "      <td>0.45767</td>\n",
       "      <td>0.45761</td>\n",
       "      <td>0.45764</td>\n",
       "      <td>0.45766</td>\n",
       "      <td>0.45743</td>\n",
       "      <td>0.43960</td>\n",
       "      <td>0.43958</td>\n",
       "      <td>0.43956</td>\n",
       "      <td>0.43954</td>\n",
       "      <td>0.43953</td>\n",
       "    </tr>\n",
       "    <tr>\n",
       "      <th>max</th>\n",
       "      <td>1.92844</td>\n",
       "      <td>28.48640</td>\n",
       "      <td>1.01381</td>\n",
       "      <td>3.40071</td>\n",
       "      <td>4.37520</td>\n",
       "      <td>1.07084</td>\n",
       "      <td>9.18993</td>\n",
       "      <td>18.74853</td>\n",
       "      <td>10.35454</td>\n",
       "      <td>1.01381</td>\n",
       "      <td>...</td>\n",
       "      <td>18.74863</td>\n",
       "      <td>18.74756</td>\n",
       "      <td>18.74743</td>\n",
       "      <td>18.74746</td>\n",
       "      <td>18.74230</td>\n",
       "      <td>10.35432</td>\n",
       "      <td>10.35411</td>\n",
       "      <td>10.35389</td>\n",
       "      <td>10.35371</td>\n",
       "      <td>10.35365</td>\n",
       "    </tr>\n",
       "  </tbody>\n",
       "</table>\n",
       "<p>8 rows × 44 columns</p>\n",
       "</div>"
      ],
      "text/plain": [
       "          EUR_USD     returns         dir         sma        boll         min  \\\n",
       "count 36716.00000 36716.00000 36716.00000 36716.00000 36716.00000 36716.00000   \n",
       "mean      0.00000    -0.00000    -0.00000    -0.00000    -0.00000     0.00000   \n",
       "std       1.00000     1.00000     1.00000     1.00000     1.00000     1.00000   \n",
       "min      -2.14427   -15.49849    -0.98635    -4.52905    -4.35636    -7.23579   \n",
       "25%      -0.50472    -0.45358    -0.98635    -0.67758    -0.73979    -0.48565   \n",
       "50%       0.16948    -0.00393    -0.98635    -0.02444     0.01612     0.28270   \n",
       "75%       0.58278     0.45663     1.01381     0.65822     0.74353     0.74441   \n",
       "max       1.92844    28.48640     1.01381     3.40071     4.37520     1.07084   \n",
       "\n",
       "              max         mom         vol   dir_lag_1  ...   mom_lag_1  \\\n",
       "count 36716.00000 36716.00000 36716.00000 36716.00000  ... 36716.00000   \n",
       "mean      0.00000     0.00000    -0.00000    -0.00000  ...     0.00000   \n",
       "std       1.00000     1.00000     1.00000     1.00000  ...     1.00000   \n",
       "min      -1.07180   -11.84536    -2.02052    -0.98635  ...   -11.84540   \n",
       "25%      -0.75323    -0.46080    -0.67030    -0.98635  ...    -0.46079   \n",
       "50%      -0.27229    -0.00694    -0.18088    -0.98635  ...    -0.00693   \n",
       "75%       0.50010     0.45772     0.43962     1.01381  ...     0.45767   \n",
       "max       9.18993    18.74853    10.35454     1.01381  ...    18.74863   \n",
       "\n",
       "        mom_lag_2   mom_lag_3   mom_lag_4   mom_lag_5   vol_lag_1   vol_lag_2  \\\n",
       "count 36716.00000 36716.00000 36716.00000 36716.00000 36716.00000 36716.00000   \n",
       "mean     -0.00000     0.00000     0.00000     0.00000    -0.00000     0.00000   \n",
       "std       1.00000     1.00000     1.00000     1.00000     1.00000     1.00000   \n",
       "min     -11.84461   -11.84447   -11.84445   -11.84137    -2.02049    -2.02046   \n",
       "25%      -0.46070    -0.46069    -0.46067    -0.46065    -0.67030    -0.67030   \n",
       "50%      -0.00685    -0.00682    -0.00680    -0.00690    -0.18089    -0.18090   \n",
       "75%       0.45761     0.45764     0.45766     0.45743     0.43960     0.43958   \n",
       "max      18.74756    18.74743    18.74746    18.74230    10.35432    10.35411   \n",
       "\n",
       "        vol_lag_3   vol_lag_4   vol_lag_5  \n",
       "count 36716.00000 36716.00000 36716.00000  \n",
       "mean      0.00000    -0.00000     0.00000  \n",
       "std       1.00000     1.00000     1.00000  \n",
       "min      -2.02044    -2.02041    -2.02040  \n",
       "25%      -0.67030    -0.67030    -0.67030  \n",
       "50%      -0.18091    -0.18091    -0.18091  \n",
       "75%       0.43956     0.43954     0.43953  \n",
       "max      10.35389    10.35371    10.35365  \n",
       "\n",
       "[8 rows x 44 columns]"
      ]
     },
     "execution_count": 29,
     "metadata": {},
     "output_type": "execute_result"
    }
   ],
   "source": [
    "train_s.describe()"
   ]
  },
  {
   "cell_type": "code",
   "execution_count": null,
   "metadata": {},
   "outputs": [],
   "source": []
  },
  {
   "cell_type": "markdown",
   "metadata": {},
   "source": [
    "## Creating and Fitting the DNN Model"
   ]
  },
  {
   "cell_type": "code",
   "execution_count": 30,
   "metadata": {},
   "outputs": [
    {
     "name": "stderr",
     "output_type": "stream",
     "text": [
      "C:\\Users\\Omar\\AppData\\Local\\Programs\\Python\\Python310\\lib\\site-packages\\keras\\optimizers\\optimizer_v2\\adam.py:114: UserWarning: The `lr` argument is deprecated, use `learning_rate` instead.\n",
      "  super().__init__(name, **kwargs)\n"
     ]
    }
   ],
   "source": [
    "from DNNModel import *"
   ]
  },
  {
   "cell_type": "code",
   "execution_count": 31,
   "metadata": {},
   "outputs": [
    {
     "data": {
      "text/plain": [
       "<keras.callbacks.History at 0x155045e2e60>"
      ]
     },
     "execution_count": 31,
     "metadata": {},
     "output_type": "execute_result"
    }
   ],
   "source": [
    "# fitting a DNN model with 3 Hidden Layers (50 nodes each) and dropout regularization\n",
    "\n",
    "set_seeds(100)\n",
    "model = create_model(hl = 3, hu = 50, dropout = True, input_dim = len(cols))\n",
    "model.fit(x = train_s[cols], y = train[\"dir\"], epochs = 50, verbose = False,\n",
    "          validation_split = 0.2, shuffle = False, class_weight = cw(train))"
   ]
  },
  {
   "cell_type": "code",
   "execution_count": 32,
   "metadata": {},
   "outputs": [
    {
     "name": "stdout",
     "output_type": "stream",
     "text": [
      "1148/1148 [==============================] - 1s 936us/step - loss: 0.6905 - accuracy: 0.5292\n"
     ]
    },
    {
     "data": {
      "text/plain": [
       "[0.6905179619789124, 0.5292243361473083]"
      ]
     },
     "execution_count": 32,
     "metadata": {},
     "output_type": "execute_result"
    }
   ],
   "source": [
    "model.evaluate(train_s[cols], train[\"dir\"]) # evaluate the fit on the train set"
   ]
  },
  {
   "cell_type": "code",
   "execution_count": 33,
   "metadata": {},
   "outputs": [
    {
     "name": "stdout",
     "output_type": "stream",
     "text": [
      "1148/1148 [==============================] - 1s 830us/step\n"
     ]
    },
    {
     "data": {
      "text/plain": [
       "array([[0.49653387],\n",
       "       [0.511263  ],\n",
       "       [0.49258596],\n",
       "       ...,\n",
       "       [0.4902538 ],\n",
       "       [0.49509314],\n",
       "       [0.48629892]], dtype=float32)"
      ]
     },
     "execution_count": 33,
     "metadata": {},
     "output_type": "execute_result"
    }
   ],
   "source": [
    "pred = model.predict(train_s[cols]) # prediction (probabilities)\n",
    "pred"
   ]
  },
  {
   "cell_type": "code",
   "execution_count": 34,
   "metadata": {},
   "outputs": [
    {
     "data": {
      "image/png": "[encoded data removed]",
      "text/plain": [
       "<Figure size 576x396 with 1 Axes>"
      ]
     },
     "metadata": {},
     "output_type": "display_data"
    }
   ],
   "source": [
    "plt.hist(pred, bins = 50)\n",
    "plt.show()"
   ]
  },
  {
   "cell_type": "code",
   "execution_count": null,
   "metadata": {},
   "outputs": [],
   "source": []
  },
  {
   "cell_type": "markdown",
   "metadata": {},
   "source": [
    "## Out-Sample Prediction and Forward Testing"
   ]
  },
  {
   "cell_type": "code",
   "execution_count": 35,
   "metadata": {},
   "outputs": [
    {
     "data": {
      "text/html": [
       "<div>\n",
       "<style scoped>\n",
       "    .dataframe tbody tr th:only-of-type {\n",
       "        vertical-align: middle;\n",
       "    }\n",
       "\n",
       "    .dataframe tbody tr th {\n",
       "        vertical-align: top;\n",
       "    }\n",
       "\n",
       "    .dataframe thead th {\n",
       "        text-align: right;\n",
       "    }\n",
       "</style>\n",
       "<table border=\"1\" class=\"dataframe\">\n",
       "  <thead>\n",
       "    <tr style=\"text-align: right;\">\n",
       "      <th></th>\n",
       "      <th>EUR_USD</th>\n",
       "      <th>returns</th>\n",
       "      <th>dir</th>\n",
       "      <th>sma</th>\n",
       "      <th>boll</th>\n",
       "      <th>min</th>\n",
       "      <th>max</th>\n",
       "      <th>mom</th>\n",
       "      <th>vol</th>\n",
       "      <th>dir_lag_1</th>\n",
       "      <th>...</th>\n",
       "      <th>mom_lag_1</th>\n",
       "      <th>mom_lag_2</th>\n",
       "      <th>mom_lag_3</th>\n",
       "      <th>mom_lag_4</th>\n",
       "      <th>mom_lag_5</th>\n",
       "      <th>vol_lag_1</th>\n",
       "      <th>vol_lag_2</th>\n",
       "      <th>vol_lag_3</th>\n",
       "      <th>vol_lag_4</th>\n",
       "      <th>vol_lag_5</th>\n",
       "    </tr>\n",
       "    <tr>\n",
       "      <th>time</th>\n",
       "      <th></th>\n",
       "      <th></th>\n",
       "      <th></th>\n",
       "      <th></th>\n",
       "      <th></th>\n",
       "      <th></th>\n",
       "      <th></th>\n",
       "      <th></th>\n",
       "      <th></th>\n",
       "      <th></th>\n",
       "      <th></th>\n",
       "      <th></th>\n",
       "      <th></th>\n",
       "      <th></th>\n",
       "      <th></th>\n",
       "      <th></th>\n",
       "      <th></th>\n",
       "      <th></th>\n",
       "      <th></th>\n",
       "      <th></th>\n",
       "      <th></th>\n",
       "    </tr>\n",
       "  </thead>\n",
       "  <tbody>\n",
       "    <tr>\n",
       "      <th>2018-12-24 01:20:00</th>\n",
       "      <td>1.13780</td>\n",
       "      <td>-0.00004</td>\n",
       "      <td>0</td>\n",
       "      <td>-0.00290</td>\n",
       "      <td>-0.61860</td>\n",
       "      <td>-0.00168</td>\n",
       "      <td>0.00582</td>\n",
       "      <td>0.00007</td>\n",
       "      <td>0.00076</td>\n",
       "      <td>1.00000</td>\n",
       "      <td>...</td>\n",
       "      <td>0.00018</td>\n",
       "      <td>0.00015</td>\n",
       "      <td>0.00013</td>\n",
       "      <td>0.00011</td>\n",
       "      <td>0.00020</td>\n",
       "      <td>0.00077</td>\n",
       "      <td>0.00077</td>\n",
       "      <td>0.00077</td>\n",
       "      <td>0.00078</td>\n",
       "      <td>0.00078</td>\n",
       "    </tr>\n",
       "    <tr>\n",
       "      <th>2018-12-24 01:40:00</th>\n",
       "      <td>1.13770</td>\n",
       "      <td>-0.00009</td>\n",
       "      <td>0</td>\n",
       "      <td>-0.00303</td>\n",
       "      <td>-0.62974</td>\n",
       "      <td>-0.00159</td>\n",
       "      <td>0.00466</td>\n",
       "      <td>0.00000</td>\n",
       "      <td>0.00073</td>\n",
       "      <td>0.00000</td>\n",
       "      <td>...</td>\n",
       "      <td>0.00007</td>\n",
       "      <td>0.00018</td>\n",
       "      <td>0.00015</td>\n",
       "      <td>0.00013</td>\n",
       "      <td>0.00011</td>\n",
       "      <td>0.00076</td>\n",
       "      <td>0.00077</td>\n",
       "      <td>0.00077</td>\n",
       "      <td>0.00077</td>\n",
       "      <td>0.00078</td>\n",
       "    </tr>\n",
       "    <tr>\n",
       "      <th>2018-12-24 02:00:00</th>\n",
       "      <td>1.13806</td>\n",
       "      <td>0.00032</td>\n",
       "      <td>1</td>\n",
       "      <td>-0.00313</td>\n",
       "      <td>-0.45011</td>\n",
       "      <td>-0.00191</td>\n",
       "      <td>0.00418</td>\n",
       "      <td>0.00006</td>\n",
       "      <td>0.00072</td>\n",
       "      <td>0.00000</td>\n",
       "      <td>...</td>\n",
       "      <td>0.00000</td>\n",
       "      <td>0.00007</td>\n",
       "      <td>0.00018</td>\n",
       "      <td>0.00015</td>\n",
       "      <td>0.00013</td>\n",
       "      <td>0.00073</td>\n",
       "      <td>0.00076</td>\n",
       "      <td>0.00077</td>\n",
       "      <td>0.00077</td>\n",
       "      <td>0.00077</td>\n",
       "    </tr>\n",
       "    <tr>\n",
       "      <th>2018-12-24 02:20:00</th>\n",
       "      <td>1.13791</td>\n",
       "      <td>-0.00013</td>\n",
       "      <td>0</td>\n",
       "      <td>-0.00322</td>\n",
       "      <td>-0.48362</td>\n",
       "      <td>-0.00178</td>\n",
       "      <td>0.00431</td>\n",
       "      <td>0.00003</td>\n",
       "      <td>0.00072</td>\n",
       "      <td>1.00000</td>\n",
       "      <td>...</td>\n",
       "      <td>0.00006</td>\n",
       "      <td>0.00000</td>\n",
       "      <td>0.00007</td>\n",
       "      <td>0.00018</td>\n",
       "      <td>0.00015</td>\n",
       "      <td>0.00072</td>\n",
       "      <td>0.00073</td>\n",
       "      <td>0.00076</td>\n",
       "      <td>0.00077</td>\n",
       "      <td>0.00077</td>\n",
       "    </tr>\n",
       "    <tr>\n",
       "      <th>2018-12-24 02:40:00</th>\n",
       "      <td>1.13865</td>\n",
       "      <td>0.00065</td>\n",
       "      <td>1</td>\n",
       "      <td>-0.00331</td>\n",
       "      <td>-0.12870</td>\n",
       "      <td>-0.00242</td>\n",
       "      <td>0.00340</td>\n",
       "      <td>0.00028</td>\n",
       "      <td>0.00072</td>\n",
       "      <td>0.00000</td>\n",
       "      <td>...</td>\n",
       "      <td>0.00003</td>\n",
       "      <td>0.00006</td>\n",
       "      <td>0.00000</td>\n",
       "      <td>0.00007</td>\n",
       "      <td>0.00018</td>\n",
       "      <td>0.00072</td>\n",
       "      <td>0.00072</td>\n",
       "      <td>0.00073</td>\n",
       "      <td>0.00076</td>\n",
       "      <td>0.00077</td>\n",
       "    </tr>\n",
       "    <tr>\n",
       "      <th>...</th>\n",
       "      <td>...</td>\n",
       "      <td>...</td>\n",
       "      <td>...</td>\n",
       "      <td>...</td>\n",
       "      <td>...</td>\n",
       "      <td>...</td>\n",
       "      <td>...</td>\n",
       "      <td>...</td>\n",
       "      <td>...</td>\n",
       "      <td>...</td>\n",
       "      <td>...</td>\n",
       "      <td>...</td>\n",
       "      <td>...</td>\n",
       "      <td>...</td>\n",
       "      <td>...</td>\n",
       "      <td>...</td>\n",
       "      <td>...</td>\n",
       "      <td>...</td>\n",
       "      <td>...</td>\n",
       "      <td>...</td>\n",
       "      <td>...</td>\n",
       "    </tr>\n",
       "    <tr>\n",
       "      <th>2019-12-30 23:00:00</th>\n",
       "      <td>1.12012</td>\n",
       "      <td>0.00008</td>\n",
       "      <td>1</td>\n",
       "      <td>0.00316</td>\n",
       "      <td>0.11606</td>\n",
       "      <td>-0.00136</td>\n",
       "      <td>0.00145</td>\n",
       "      <td>0.00006</td>\n",
       "      <td>0.00041</td>\n",
       "      <td>0.00000</td>\n",
       "      <td>...</td>\n",
       "      <td>-0.00007</td>\n",
       "      <td>0.00007</td>\n",
       "      <td>0.00002</td>\n",
       "      <td>0.00010</td>\n",
       "      <td>0.00010</td>\n",
       "      <td>0.00041</td>\n",
       "      <td>0.00041</td>\n",
       "      <td>0.00040</td>\n",
       "      <td>0.00040</td>\n",
       "      <td>0.00040</td>\n",
       "    </tr>\n",
       "    <tr>\n",
       "      <th>2019-12-30 23:20:00</th>\n",
       "      <td>1.12030</td>\n",
       "      <td>0.00016</td>\n",
       "      <td>1</td>\n",
       "      <td>0.00312</td>\n",
       "      <td>0.33557</td>\n",
       "      <td>-0.00152</td>\n",
       "      <td>0.00129</td>\n",
       "      <td>-0.00003</td>\n",
       "      <td>0.00040</td>\n",
       "      <td>1.00000</td>\n",
       "      <td>...</td>\n",
       "      <td>0.00006</td>\n",
       "      <td>-0.00007</td>\n",
       "      <td>0.00007</td>\n",
       "      <td>0.00002</td>\n",
       "      <td>0.00010</td>\n",
       "      <td>0.00041</td>\n",
       "      <td>0.00041</td>\n",
       "      <td>0.00041</td>\n",
       "      <td>0.00040</td>\n",
       "      <td>0.00040</td>\n",
       "    </tr>\n",
       "    <tr>\n",
       "      <th>2019-12-30 23:40:00</th>\n",
       "      <td>1.12018</td>\n",
       "      <td>-0.00011</td>\n",
       "      <td>0</td>\n",
       "      <td>0.00306</td>\n",
       "      <td>0.15542</td>\n",
       "      <td>-0.00141</td>\n",
       "      <td>0.00139</td>\n",
       "      <td>0.00004</td>\n",
       "      <td>0.00039</td>\n",
       "      <td>1.00000</td>\n",
       "      <td>...</td>\n",
       "      <td>-0.00003</td>\n",
       "      <td>0.00006</td>\n",
       "      <td>-0.00007</td>\n",
       "      <td>0.00007</td>\n",
       "      <td>0.00002</td>\n",
       "      <td>0.00040</td>\n",
       "      <td>0.00041</td>\n",
       "      <td>0.00041</td>\n",
       "      <td>0.00041</td>\n",
       "      <td>0.00040</td>\n",
       "    </tr>\n",
       "    <tr>\n",
       "      <th>2019-12-31 00:00:00</th>\n",
       "      <td>1.12013</td>\n",
       "      <td>-0.00004</td>\n",
       "      <td>0</td>\n",
       "      <td>0.00299</td>\n",
       "      <td>0.09029</td>\n",
       "      <td>-0.00137</td>\n",
       "      <td>0.00144</td>\n",
       "      <td>0.00000</td>\n",
       "      <td>0.00039</td>\n",
       "      <td>0.00000</td>\n",
       "      <td>...</td>\n",
       "      <td>0.00004</td>\n",
       "      <td>-0.00003</td>\n",
       "      <td>0.00006</td>\n",
       "      <td>-0.00007</td>\n",
       "      <td>0.00007</td>\n",
       "      <td>0.00039</td>\n",
       "      <td>0.00040</td>\n",
       "      <td>0.00041</td>\n",
       "      <td>0.00041</td>\n",
       "      <td>0.00041</td>\n",
       "    </tr>\n",
       "    <tr>\n",
       "      <th>2019-12-31 00:20:00</th>\n",
       "      <td>1.12030</td>\n",
       "      <td>0.00015</td>\n",
       "      <td>1</td>\n",
       "      <td>0.00291</td>\n",
       "      <td>0.32769</td>\n",
       "      <td>-0.00152</td>\n",
       "      <td>0.00129</td>\n",
       "      <td>-0.00000</td>\n",
       "      <td>0.00039</td>\n",
       "      <td>0.00000</td>\n",
       "      <td>...</td>\n",
       "      <td>0.00000</td>\n",
       "      <td>0.00004</td>\n",
       "      <td>-0.00003</td>\n",
       "      <td>0.00006</td>\n",
       "      <td>-0.00007</td>\n",
       "      <td>0.00039</td>\n",
       "      <td>0.00039</td>\n",
       "      <td>0.00040</td>\n",
       "      <td>0.00041</td>\n",
       "      <td>0.00041</td>\n",
       "    </tr>\n",
       "  </tbody>\n",
       "</table>\n",
       "<p>18915 rows × 44 columns</p>\n",
       "</div>"
      ],
      "text/plain": [
       "                     EUR_USD  returns  dir      sma     boll      min     max  \\\n",
       "time                                                                            \n",
       "2018-12-24 01:20:00  1.13780 -0.00004    0 -0.00290 -0.61860 -0.00168 0.00582   \n",
       "2018-12-24 01:40:00  1.13770 -0.00009    0 -0.00303 -0.62974 -0.00159 0.00466   \n",
       "2018-12-24 02:00:00  1.13806  0.00032    1 -0.00313 -0.45011 -0.00191 0.00418   \n",
       "2018-12-24 02:20:00  1.13791 -0.00013    0 -0.00322 -0.48362 -0.00178 0.00431   \n",
       "2018-12-24 02:40:00  1.13865  0.00065    1 -0.00331 -0.12870 -0.00242 0.00340   \n",
       "...                      ...      ...  ...      ...      ...      ...     ...   \n",
       "2019-12-30 23:00:00  1.12012  0.00008    1  0.00316  0.11606 -0.00136 0.00145   \n",
       "2019-12-30 23:20:00  1.12030  0.00016    1  0.00312  0.33557 -0.00152 0.00129   \n",
       "2019-12-30 23:40:00  1.12018 -0.00011    0  0.00306  0.15542 -0.00141 0.00139   \n",
       "2019-12-31 00:00:00  1.12013 -0.00004    0  0.00299  0.09029 -0.00137 0.00144   \n",
       "2019-12-31 00:20:00  1.12030  0.00015    1  0.00291  0.32769 -0.00152 0.00129   \n",
       "\n",
       "                         mom     vol  dir_lag_1  ...  mom_lag_1  mom_lag_2  \\\n",
       "time                                             ...                         \n",
       "2018-12-24 01:20:00  0.00007 0.00076    1.00000  ...    0.00018    0.00015   \n",
       "2018-12-24 01:40:00  0.00000 0.00073    0.00000  ...    0.00007    0.00018   \n",
       "2018-12-24 02:00:00  0.00006 0.00072    0.00000  ...    0.00000    0.00007   \n",
       "2018-12-24 02:20:00  0.00003 0.00072    1.00000  ...    0.00006    0.00000   \n",
       "2018-12-24 02:40:00  0.00028 0.00072    0.00000  ...    0.00003    0.00006   \n",
       "...                      ...     ...        ...  ...        ...        ...   \n",
       "2019-12-30 23:00:00  0.00006 0.00041    0.00000  ...   -0.00007    0.00007   \n",
       "2019-12-30 23:20:00 -0.00003 0.00040    1.00000  ...    0.00006   -0.00007   \n",
       "2019-12-30 23:40:00  0.00004 0.00039    1.00000  ...   -0.00003    0.00006   \n",
       "2019-12-31 00:00:00  0.00000 0.00039    0.00000  ...    0.00004   -0.00003   \n",
       "2019-12-31 00:20:00 -0.00000 0.00039    0.00000  ...    0.00000    0.00004   \n",
       "\n",
       "                     mom_lag_3  mom_lag_4  mom_lag_5  vol_lag_1  vol_lag_2  \\\n",
       "time                                                                         \n",
       "2018-12-24 01:20:00    0.00013    0.00011    0.00020    0.00077    0.00077   \n",
       "2018-12-24 01:40:00    0.00015    0.00013    0.00011    0.00076    0.00077   \n",
       "2018-12-24 02:00:00    0.00018    0.00015    0.00013    0.00073    0.00076   \n",
       "2018-12-24 02:20:00    0.00007    0.00018    0.00015    0.00072    0.00073   \n",
       "2018-12-24 02:40:00    0.00000    0.00007    0.00018    0.00072    0.00072   \n",
       "...                        ...        ...        ...        ...        ...   \n",
       "2019-12-30 23:00:00    0.00002    0.00010    0.00010    0.00041    0.00041   \n",
       "2019-12-30 23:20:00    0.00007    0.00002    0.00010    0.00041    0.00041   \n",
       "2019-12-30 23:40:00   -0.00007    0.00007    0.00002    0.00040    0.00041   \n",
       "2019-12-31 00:00:00    0.00006   -0.00007    0.00007    0.00039    0.00040   \n",
       "2019-12-31 00:20:00   -0.00003    0.00006   -0.00007    0.00039    0.00039   \n",
       "\n",
       "                     vol_lag_3  vol_lag_4  vol_lag_5  \n",
       "time                                                  \n",
       "2018-12-24 01:20:00    0.00077    0.00078    0.00078  \n",
       "2018-12-24 01:40:00    0.00077    0.00077    0.00078  \n",
       "2018-12-24 02:00:00    0.00077    0.00077    0.00077  \n",
       "2018-12-24 02:20:00    0.00076    0.00077    0.00077  \n",
       "2018-12-24 02:40:00    0.00073    0.00076    0.00077  \n",
       "...                        ...        ...        ...  \n",
       "2019-12-30 23:00:00    0.00040    0.00040    0.00040  \n",
       "2019-12-30 23:20:00    0.00041    0.00040    0.00040  \n",
       "2019-12-30 23:40:00    0.00041    0.00041    0.00040  \n",
       "2019-12-31 00:00:00    0.00041    0.00041    0.00041  \n",
       "2019-12-31 00:20:00    0.00040    0.00041    0.00041  \n",
       "\n",
       "[18915 rows x 44 columns]"
      ]
     },
     "execution_count": 35,
     "metadata": {},
     "output_type": "execute_result"
    }
   ],
   "source": [
    "test"
   ]
  },
  {
   "cell_type": "code",
   "execution_count": 36,
   "metadata": {},
   "outputs": [],
   "source": [
    "test_s = (test - mu) / std # standardization of test set features (with train set parameters!!!)"
   ]
  },
  {
   "cell_type": "code",
   "execution_count": 37,
   "metadata": {},
   "outputs": [
    {
     "name": "stdout",
     "output_type": "stream",
     "text": [
      "592/592 [==============================] - 1s 892us/step - loss: 0.6916 - accuracy: 0.5206\n"
     ]
    },
    {
     "data": {
      "text/plain": [
       "[0.69158935546875, 0.5205920934677124]"
      ]
     },
     "execution_count": 37,
     "metadata": {},
     "output_type": "execute_result"
    }
   ],
   "source": [
    "model.evaluate(test_s[cols], test[\"dir\"])"
   ]
  },
  {
   "cell_type": "code",
   "execution_count": 38,
   "metadata": {},
   "outputs": [
    {
     "name": "stdout",
     "output_type": "stream",
     "text": [
      "592/592 [==============================] - 0s 804us/step\n"
     ]
    },
    {
     "data": {
      "text/plain": [
       "array([[0.48558837],\n",
       "       [0.5112781 ],\n",
       "       [0.51898646],\n",
       "       ...,\n",
       "       [0.47887596],\n",
       "       [0.49587235],\n",
       "       [0.49659273]], dtype=float32)"
      ]
     },
     "execution_count": 38,
     "metadata": {},
     "output_type": "execute_result"
    }
   ],
   "source": [
    "pred = model.predict(test_s[cols])\n",
    "pred"
   ]
  },
  {
   "cell_type": "code",
   "execution_count": 39,
   "metadata": {},
   "outputs": [
    {
     "data": {
      "image/png": "[encoded data removed]",
      "text/plain": [
       "<Figure size 576x396 with 1 Axes>"
      ]
     },
     "metadata": {},
     "output_type": "display_data"
    }
   ],
   "source": [
    "plt.hist(pred, bins = 50);"
   ]
  },
  {
   "cell_type": "code",
   "execution_count": 40,
   "metadata": {},
   "outputs": [
    {
     "name": "stdout",
     "output_type": "stream",
     "text": [
      "592/592 [==============================] - 1s 826us/step\n"
     ]
    }
   ],
   "source": [
    "test[\"proba\"] = model.predict(test_s[cols])"
   ]
  },
  {
   "cell_type": "code",
   "execution_count": 41,
   "metadata": {},
   "outputs": [],
   "source": [
    "test[\"position\"] = np.where(test.proba < 0.47, -1, np.nan) # 1. short where proba < 0.47"
   ]
  },
  {
   "cell_type": "code",
   "execution_count": 42,
   "metadata": {},
   "outputs": [],
   "source": [
    "test[\"position\"] = np.where(test.proba > 0.53, 1, test.position) # 2. long where proba > 0.53"
   ]
  },
  {
   "cell_type": "code",
   "execution_count": 43,
   "metadata": {},
   "outputs": [],
   "source": [
    "test.index = test.index.tz_localize(\"UTC\")\n",
    "test[\"NYTime\"] = test.index.tz_convert(\"America/New_York\")\n",
    "test[\"hour\"] = test.NYTime.dt.hour"
   ]
  },
  {
   "cell_type": "code",
   "execution_count": 44,
   "metadata": {},
   "outputs": [],
   "source": [
    "test[\"position\"] = np.where(~test.hour.between(2, 12), 0, test.position) # 3. neutral in non-busy hours"
   ]
  },
  {
   "cell_type": "code",
   "execution_count": 45,
   "metadata": {},
   "outputs": [],
   "source": [
    "test[\"position\"] = test.position.ffill().fillna(0) # 4. in all other cases: hold position"
   ]
  },
  {
   "cell_type": "code",
   "execution_count": 46,
   "metadata": {},
   "outputs": [
    {
     "data": {
      "text/plain": [
       "0.00000     12442\n",
       "-1.00000     5674\n",
       "1.00000       799\n",
       "Name: position, dtype: int64"
      ]
     },
     "execution_count": 46,
     "metadata": {},
     "output_type": "execute_result"
    }
   ],
   "source": [
    "test.position.value_counts(dropna = False)"
   ]
  },
  {
   "cell_type": "code",
   "execution_count": 47,
   "metadata": {},
   "outputs": [],
   "source": [
    "test[\"strategy\"] = test[\"position\"] * test[\"returns\"]"
   ]
  },
  {
   "cell_type": "code",
   "execution_count": 48,
   "metadata": {},
   "outputs": [],
   "source": [
    "test[\"creturns\"] = test[\"returns\"].cumsum().apply(np.exp)\n",
    "test[\"cstrategy\"] = test[\"strategy\"].cumsum().apply(np.exp)"
   ]
  },
  {
   "cell_type": "code",
   "execution_count": 49,
   "metadata": {},
   "outputs": [
    {
     "data": {
      "image/png": "[encoded data removed]",
      "text/plain": [
       "<Figure size 864x576 with 1 Axes>"
      ]
     },
     "metadata": {},
     "output_type": "display_data"
    }
   ],
   "source": [
    "test[[\"creturns\", \"cstrategy\"]].plot(figsize = (12, 8))\n",
    "plt.show()"
   ]
  },
  {
   "cell_type": "code",
   "execution_count": 50,
   "metadata": {},
   "outputs": [],
   "source": [
    "ptc = 0.000059"
   ]
  },
  {
   "cell_type": "code",
   "execution_count": 51,
   "metadata": {},
   "outputs": [],
   "source": [
    "test[\"trades\"] = test.position.diff().abs()"
   ]
  },
  {
   "cell_type": "code",
   "execution_count": 52,
   "metadata": {},
   "outputs": [
    {
     "data": {
      "text/plain": [
       "0.00000    18279\n",
       "1.00000      512\n",
       "2.00000      123\n",
       "Name: trades, dtype: int64"
      ]
     },
     "execution_count": 52,
     "metadata": {},
     "output_type": "execute_result"
    }
   ],
   "source": [
    "test.trades.value_counts()"
   ]
  },
  {
   "cell_type": "code",
   "execution_count": 53,
   "metadata": {},
   "outputs": [],
   "source": [
    "test[\"strategy_net\"] = test.strategy - test.trades * ptc"
   ]
  },
  {
   "cell_type": "code",
   "execution_count": 54,
   "metadata": {},
   "outputs": [],
   "source": [
    "test[\"cstrategy_net\"] = test[\"strategy_net\"].cumsum().apply(np.exp)"
   ]
  },
  {
   "cell_type": "code",
   "execution_count": 55,
   "metadata": {},
   "outputs": [
    {
     "data": {
      "image/png": "[encoded data removed]",
      "text/plain": [
       "<Figure size 864x576 with 1 Axes>"
      ]
     },
     "metadata": {},
     "output_type": "display_data"
    }
   ],
   "source": [
    "test[[\"creturns\", \"cstrategy\", \"cstrategy_net\"]].plot(figsize = (12, 8))\n",
    "plt.show()"
   ]
  },
  {
   "cell_type": "code",
   "execution_count": null,
   "metadata": {},
   "outputs": [],
   "source": []
  },
  {
   "cell_type": "markdown",
   "metadata": {},
   "source": [
    "## Saving Model and Parameters"
   ]
  },
  {
   "cell_type": "code",
   "execution_count": 56,
   "metadata": {},
   "outputs": [
    {
     "data": {
      "text/plain": [
       "<keras.engine.sequential.Sequential at 0x155045b3790>"
      ]
     },
     "execution_count": 56,
     "metadata": {},
     "output_type": "execute_result"
    }
   ],
   "source": [
    "model"
   ]
  },
  {
   "cell_type": "code",
   "execution_count": 57,
   "metadata": {},
   "outputs": [
    {
     "data": {
      "text/plain": [
       "EUR_USD       1.15619\n",
       "returns       0.00000\n",
       "dir           0.49314\n",
       "sma           0.00014\n",
       "boll          0.01463\n",
       "min          -0.00254\n",
       "max           0.00241\n",
       "mom           0.00000\n",
       "vol           0.00051\n",
       "dir_lag_1     0.49314\n",
       "dir_lag_2     0.49314\n",
       "dir_lag_3     0.49311\n",
       "dir_lag_4     0.49308\n",
       "dir_lag_5     0.49308\n",
       "sma_lag_1     0.00014\n",
       "sma_lag_2     0.00014\n",
       "sma_lag_3     0.00014\n",
       "sma_lag_4     0.00014\n",
       "sma_lag_5     0.00014\n",
       "boll_lag_1    0.01469\n",
       "boll_lag_2    0.01476\n",
       "boll_lag_3    0.01482\n",
       "boll_lag_4    0.01490\n",
       "boll_lag_5    0.01500\n",
       "min_lag_1    -0.00254\n",
       "min_lag_2    -0.00254\n",
       "min_lag_3    -0.00254\n",
       "min_lag_4    -0.00254\n",
       "min_lag_5    -0.00254\n",
       "max_lag_1     0.00241\n",
       "max_lag_2     0.00241\n",
       "max_lag_3     0.00241\n",
       "max_lag_4     0.00241\n",
       "max_lag_5     0.00241\n",
       "mom_lag_1     0.00000\n",
       "mom_lag_2     0.00000\n",
       "mom_lag_3     0.00000\n",
       "mom_lag_4     0.00000\n",
       "mom_lag_5     0.00000\n",
       "vol_lag_1     0.00051\n",
       "vol_lag_2     0.00051\n",
       "vol_lag_3     0.00051\n",
       "vol_lag_4     0.00051\n",
       "vol_lag_5     0.00051\n",
       "dtype: float64"
      ]
     },
     "execution_count": 57,
     "metadata": {},
     "output_type": "execute_result"
    }
   ],
   "source": [
    "mu"
   ]
  },
  {
   "cell_type": "code",
   "execution_count": 58,
   "metadata": {},
   "outputs": [
    {
     "data": {
      "text/plain": [
       "EUR_USD      0.05121\n",
       "returns      0.00054\n",
       "dir          0.49996\n",
       "sma          0.00287\n",
       "boll         1.44147\n",
       "min          0.00237\n",
       "max          0.00225\n",
       "mom          0.00031\n",
       "vol          0.00018\n",
       "dir_lag_1    0.49996\n",
       "dir_lag_2    0.49996\n",
       "dir_lag_3    0.49996\n",
       "dir_lag_4    0.49996\n",
       "dir_lag_5    0.49996\n",
       "sma_lag_1    0.00287\n",
       "sma_lag_2    0.00287\n",
       "sma_lag_3    0.00287\n",
       "sma_lag_4    0.00287\n",
       "sma_lag_5    0.00287\n",
       "boll_lag_1   1.44150\n",
       "boll_lag_2   1.44152\n",
       "boll_lag_3   1.44154\n",
       "boll_lag_4   1.44157\n",
       "boll_lag_5   1.44163\n",
       "min_lag_1    0.00237\n",
       "min_lag_2    0.00237\n",
       "min_lag_3    0.00237\n",
       "min_lag_4    0.00237\n",
       "min_lag_5    0.00237\n",
       "max_lag_1    0.00225\n",
       "max_lag_2    0.00225\n",
       "max_lag_3    0.00225\n",
       "max_lag_4    0.00225\n",
       "max_lag_5    0.00225\n",
       "mom_lag_1    0.00031\n",
       "mom_lag_2    0.00031\n",
       "mom_lag_3    0.00031\n",
       "mom_lag_4    0.00031\n",
       "mom_lag_5    0.00031\n",
       "vol_lag_1    0.00018\n",
       "vol_lag_2    0.00018\n",
       "vol_lag_3    0.00018\n",
       "vol_lag_4    0.00018\n",
       "vol_lag_5    0.00018\n",
       "dtype: float64"
      ]
     },
     "execution_count": 58,
     "metadata": {},
     "output_type": "execute_result"
    }
   ],
   "source": [
    "std"
   ]
  },
  {
   "cell_type": "code",
   "execution_count": 59,
   "metadata": {},
   "outputs": [
    {
     "name": "stdout",
     "output_type": "stream",
     "text": [
      "INFO:tensorflow:Assets written to: DNN_model\\assets\n"
     ]
    }
   ],
   "source": [
    "model.save(\"DNN_model\")"
   ]
  },
  {
   "cell_type": "code",
   "execution_count": 60,
   "metadata": {},
   "outputs": [],
   "source": [
    "import pickle"
   ]
  },
  {
   "cell_type": "code",
   "execution_count": 61,
   "metadata": {},
   "outputs": [],
   "source": [
    "params = {\"mu\":mu, \"std\":std}"
   ]
  },
  {
   "cell_type": "code",
   "execution_count": 62,
   "metadata": {},
   "outputs": [
    {
     "data": {
      "text/plain": [
       "{'mu': EUR_USD       1.15619\n",
       " returns       0.00000\n",
       " dir           0.49314\n",
       " sma           0.00014\n",
       " boll          0.01463\n",
       " min          -0.00254\n",
       " max           0.00241\n",
       " mom           0.00000\n",
       " vol           0.00051\n",
       " dir_lag_1     0.49314\n",
       " dir_lag_2     0.49314\n",
       " dir_lag_3     0.49311\n",
       " dir_lag_4     0.49308\n",
       " dir_lag_5     0.49308\n",
       " sma_lag_1     0.00014\n",
       " sma_lag_2     0.00014\n",
       " sma_lag_3     0.00014\n",
       " sma_lag_4     0.00014\n",
       " sma_lag_5     0.00014\n",
       " boll_lag_1    0.01469\n",
       " boll_lag_2    0.01476\n",
       " boll_lag_3    0.01482\n",
       " boll_lag_4    0.01490\n",
       " boll_lag_5    0.01500\n",
       " min_lag_1    -0.00254\n",
       " min_lag_2    -0.00254\n",
       " min_lag_3    -0.00254\n",
       " min_lag_4    -0.00254\n",
       " min_lag_5    -0.00254\n",
       " max_lag_1     0.00241\n",
       " max_lag_2     0.00241\n",
       " max_lag_3     0.00241\n",
       " max_lag_4     0.00241\n",
       " max_lag_5     0.00241\n",
       " mom_lag_1     0.00000\n",
       " mom_lag_2     0.00000\n",
       " mom_lag_3     0.00000\n",
       " mom_lag_4     0.00000\n",
       " mom_lag_5     0.00000\n",
       " vol_lag_1     0.00051\n",
       " vol_lag_2     0.00051\n",
       " vol_lag_3     0.00051\n",
       " vol_lag_4     0.00051\n",
       " vol_lag_5     0.00051\n",
       " dtype: float64,\n",
       " 'std': EUR_USD      0.05121\n",
       " returns      0.00054\n",
       " dir          0.49996\n",
       " sma          0.00287\n",
       " boll         1.44147\n",
       " min          0.00237\n",
       " max          0.00225\n",
       " mom          0.00031\n",
       " vol          0.00018\n",
       " dir_lag_1    0.49996\n",
       " dir_lag_2    0.49996\n",
       " dir_lag_3    0.49996\n",
       " dir_lag_4    0.49996\n",
       " dir_lag_5    0.49996\n",
       " sma_lag_1    0.00287\n",
       " sma_lag_2    0.00287\n",
       " sma_lag_3    0.00287\n",
       " sma_lag_4    0.00287\n",
       " sma_lag_5    0.00287\n",
       " boll_lag_1   1.44150\n",
       " boll_lag_2   1.44152\n",
       " boll_lag_3   1.44154\n",
       " boll_lag_4   1.44157\n",
       " boll_lag_5   1.44163\n",
       " min_lag_1    0.00237\n",
       " min_lag_2    0.00237\n",
       " min_lag_3    0.00237\n",
       " min_lag_4    0.00237\n",
       " min_lag_5    0.00237\n",
       " max_lag_1    0.00225\n",
       " max_lag_2    0.00225\n",
       " max_lag_3    0.00225\n",
       " max_lag_4    0.00225\n",
       " max_lag_5    0.00225\n",
       " mom_lag_1    0.00031\n",
       " mom_lag_2    0.00031\n",
       " mom_lag_3    0.00031\n",
       " mom_lag_4    0.00031\n",
       " mom_lag_5    0.00031\n",
       " vol_lag_1    0.00018\n",
       " vol_lag_2    0.00018\n",
       " vol_lag_3    0.00018\n",
       " vol_lag_4    0.00018\n",
       " vol_lag_5    0.00018\n",
       " dtype: float64}"
      ]
     },
     "execution_count": 62,
     "metadata": {},
     "output_type": "execute_result"
    }
   ],
   "source": [
    "params"
   ]
  },
  {
   "cell_type": "code",
   "execution_count": 63,
   "metadata": {},
   "outputs": [],
   "source": [
    "pickle.dump(params, open(\"params.pkl\", \"wb\"))"
   ]
  },
  {
   "cell_type": "code",
   "execution_count": null,
   "metadata": {},
   "outputs": [],
   "source": []
  },
  {
   "cell_type": "markdown",
   "metadata": {},
   "source": [
    "## Implementation"
   ]
  },
  {
   "cell_type": "code",
   "execution_count": 64,
   "metadata": {},
   "outputs": [],
   "source": [
    "import pandas as pd\n",
    "import numpy as np\n",
    "import tpqoa\n",
    "import fxcmpy\n",
    "from datetime import datetime, timedelta\n",
    "import time"
   ]
  },
  {
   "cell_type": "markdown",
   "metadata": {},
   "source": [
    "__Loading Model and Parameters__"
   ]
  },
  {
   "cell_type": "code",
   "execution_count": 65,
   "metadata": {},
   "outputs": [],
   "source": [
    "# Loading the model\n",
    "import keras\n",
    "model = keras.models.load_model(\"DNN_model\")"
   ]
  },
  {
   "cell_type": "code",
   "execution_count": 66,
   "metadata": {},
   "outputs": [
    {
     "data": {
      "text/plain": [
       "<keras.engine.sequential.Sequential at 0x155045f6770>"
      ]
     },
     "execution_count": 66,
     "metadata": {},
     "output_type": "execute_result"
    }
   ],
   "source": [
    "model"
   ]
  },
  {
   "cell_type": "code",
   "execution_count": 67,
   "metadata": {},
   "outputs": [],
   "source": [
    "# Loading mu and std\n",
    "import pickle\n",
    "params = pickle.load(open(\"params.pkl\", \"rb\"))\n",
    "mu = params[\"mu\"]\n",
    "std = params[\"std\"]"
   ]
  },
  {
   "cell_type": "code",
   "execution_count": 68,
   "metadata": {},
   "outputs": [
    {
     "data": {
      "text/plain": [
       "EUR_USD       1.15619\n",
       "returns       0.00000\n",
       "dir           0.49314\n",
       "sma           0.00014\n",
       "boll          0.01463\n",
       "min          -0.00254\n",
       "max           0.00241\n",
       "mom           0.00000\n",
       "vol           0.00051\n",
       "dir_lag_1     0.49314\n",
       "dir_lag_2     0.49314\n",
       "dir_lag_3     0.49311\n",
       "dir_lag_4     0.49308\n",
       "dir_lag_5     0.49308\n",
       "sma_lag_1     0.00014\n",
       "sma_lag_2     0.00014\n",
       "sma_lag_3     0.00014\n",
       "sma_lag_4     0.00014\n",
       "sma_lag_5     0.00014\n",
       "boll_lag_1    0.01469\n",
       "boll_lag_2    0.01476\n",
       "boll_lag_3    0.01482\n",
       "boll_lag_4    0.01490\n",
       "boll_lag_5    0.01500\n",
       "min_lag_1    -0.00254\n",
       "min_lag_2    -0.00254\n",
       "min_lag_3    -0.00254\n",
       "min_lag_4    -0.00254\n",
       "min_lag_5    -0.00254\n",
       "max_lag_1     0.00241\n",
       "max_lag_2     0.00241\n",
       "max_lag_3     0.00241\n",
       "max_lag_4     0.00241\n",
       "max_lag_5     0.00241\n",
       "mom_lag_1     0.00000\n",
       "mom_lag_2     0.00000\n",
       "mom_lag_3     0.00000\n",
       "mom_lag_4     0.00000\n",
       "mom_lag_5     0.00000\n",
       "vol_lag_1     0.00051\n",
       "vol_lag_2     0.00051\n",
       "vol_lag_3     0.00051\n",
       "vol_lag_4     0.00051\n",
       "vol_lag_5     0.00051\n",
       "dtype: float64"
      ]
     },
     "execution_count": 68,
     "metadata": {},
     "output_type": "execute_result"
    }
   ],
   "source": [
    "mu"
   ]
  },
  {
   "cell_type": "code",
   "execution_count": 69,
   "metadata": {},
   "outputs": [
    {
     "data": {
      "text/plain": [
       "EUR_USD      0.05121\n",
       "returns      0.00054\n",
       "dir          0.49996\n",
       "sma          0.00287\n",
       "boll         1.44147\n",
       "min          0.00237\n",
       "max          0.00225\n",
       "mom          0.00031\n",
       "vol          0.00018\n",
       "dir_lag_1    0.49996\n",
       "dir_lag_2    0.49996\n",
       "dir_lag_3    0.49996\n",
       "dir_lag_4    0.49996\n",
       "dir_lag_5    0.49996\n",
       "sma_lag_1    0.00287\n",
       "sma_lag_2    0.00287\n",
       "sma_lag_3    0.00287\n",
       "sma_lag_4    0.00287\n",
       "sma_lag_5    0.00287\n",
       "boll_lag_1   1.44150\n",
       "boll_lag_2   1.44152\n",
       "boll_lag_3   1.44154\n",
       "boll_lag_4   1.44157\n",
       "boll_lag_5   1.44163\n",
       "min_lag_1    0.00237\n",
       "min_lag_2    0.00237\n",
       "min_lag_3    0.00237\n",
       "min_lag_4    0.00237\n",
       "min_lag_5    0.00237\n",
       "max_lag_1    0.00225\n",
       "max_lag_2    0.00225\n",
       "max_lag_3    0.00225\n",
       "max_lag_4    0.00225\n",
       "max_lag_5    0.00225\n",
       "mom_lag_1    0.00031\n",
       "mom_lag_2    0.00031\n",
       "mom_lag_3    0.00031\n",
       "mom_lag_4    0.00031\n",
       "mom_lag_5    0.00031\n",
       "vol_lag_1    0.00018\n",
       "vol_lag_2    0.00018\n",
       "vol_lag_3    0.00018\n",
       "vol_lag_4    0.00018\n",
       "vol_lag_5    0.00018\n",
       "dtype: float64"
      ]
     },
     "execution_count": 69,
     "metadata": {},
     "output_type": "execute_result"
    }
   ],
   "source": [
    "std"
   ]
  },
  {
   "cell_type": "markdown",
   "metadata": {},
   "source": [
    "__[Oanda] Implementation__"
   ]
  },
  {
   "cell_type": "code",
   "execution_count": 70,
   "metadata": {},
   "outputs": [],
   "source": [
    "class DNNTrader(tpqoa.tpqoa):\n",
    "    def __init__(self, conf_file, instrument, bar_length, window, lags, model, mu, std, units):\n",
    "        super().__init__(conf_file)\n",
    "        self.instrument = instrument\n",
    "        self.bar_length = pd.to_timedelta(bar_length)\n",
    "        self.tick_data = pd.DataFrame()\n",
    "        self.raw_data = None\n",
    "        self.data = None \n",
    "        self.last_bar = None\n",
    "        self.units = units\n",
    "        self.position = 0\n",
    "        self.profits = []\n",
    "        \n",
    "        #*****************add strategy-specific attributes here******************\n",
    "        self.window = window\n",
    "        self.lags = lags\n",
    "        self.model = model\n",
    "        self.mu = mu\n",
    "        self.std = std\n",
    "        #************************************************************************\n",
    "    \n",
    "    def get_most_recent(self, days = 5):\n",
    "        while True:\n",
    "            time.sleep(2)\n",
    "            now = datetime.utcnow()\n",
    "            now = now - timedelta(microseconds = now.microsecond)\n",
    "            past = now - timedelta(days = days)\n",
    "            df = self.get_history(instrument = self.instrument, start = past, end = now,\n",
    "                                   granularity = \"S5\", price = \"M\", localize = False).c.dropna().to_frame()\n",
    "            df.rename(columns = {\"c\":self.instrument}, inplace = True)\n",
    "            df = df.resample(self.bar_length, label = \"right\").last().dropna().iloc[:-1]\n",
    "            self.raw_data = df.copy()\n",
    "            self.last_bar = self.raw_data.index[-1]\n",
    "            if pd.to_datetime(datetime.utcnow()).tz_localize(\"UTC\") - self.last_bar < self.bar_length:\n",
    "                self.start_time = pd.to_datetime(datetime.utcnow()).tz_localize(\"UTC\") # NEW -> Start Time of Trading Session\n",
    "                break\n",
    "                \n",
    "    def on_success(self, time, bid, ask):\n",
    "        print(self.ticks, end = \" \", flush = True)\n",
    "        \n",
    "        recent_tick = pd.to_datetime(time)\n",
    "        df = pd.DataFrame({self.instrument:(ask + bid)/2}, \n",
    "                          index = [recent_tick])\n",
    "        self.tick_data = self.tick_data.append(df)\n",
    "        \n",
    "        if recent_tick - self.last_bar > self.bar_length:\n",
    "            self.resample_and_join()\n",
    "            self.define_strategy()\n",
    "            self.execute_trades()\n",
    "    \n",
    "    def resample_and_join(self):\n",
    "        self.raw_data = self.raw_data.append(self.tick_data.resample(self.bar_length, \n",
    "                                                                  label=\"right\").last().ffill().iloc[:-1])\n",
    "        self.tick_data = self.tick_data.iloc[-1:]\n",
    "        self.last_bar = self.raw_data.index[-1]\n",
    "    \n",
    "    def define_strategy(self): # \"strategy-specific\"\n",
    "        df = self.raw_data.copy()\n",
    "        \n",
    "        #******************** define your strategy here ************************\n",
    "        #create features\n",
    "        df = df.append(self.tick_data) # append latest tick (== open price of current bar)\n",
    "        df[\"returns\"] = np.log(df[self.instrument] / df[self.instrument].shift())\n",
    "        df[\"dir\"] = np.where(df[\"returns\"] > 0, 1, 0)\n",
    "        df[\"sma\"] = df[self.instrument].rolling(self.window).mean() - df[self.instrument].rolling(150).mean()\n",
    "        df[\"boll\"] = (df[self.instrument] - df[self.instrument].rolling(self.window).mean()) / df[self.instrument].rolling(self.window).std()\n",
    "        df[\"min\"] = df[self.instrument].rolling(self.window).min() / df[self.instrument] - 1\n",
    "        df[\"max\"] = df[self.instrument].rolling(self.window).max() / df[self.instrument] - 1\n",
    "        df[\"mom\"] = df[\"returns\"].rolling(3).mean()\n",
    "        df[\"vol\"] = df[\"returns\"].rolling(self.window).std()\n",
    "        df.dropna(inplace = True)\n",
    "        \n",
    "        # create lags\n",
    "        self.cols = []\n",
    "        features = [\"dir\", \"sma\", \"boll\", \"min\", \"max\", \"mom\", \"vol\"]\n",
    "\n",
    "        for f in features:\n",
    "            for lag in range(1, self.lags + 1):\n",
    "                col = \"{}_lag_{}\".format(f, lag)\n",
    "                df[col] = df[f].shift(lag)\n",
    "                self.cols.append(col)\n",
    "        df.dropna(inplace = True)\n",
    "        \n",
    "        # standardization\n",
    "        df_s = (df - self.mu) / self.std\n",
    "        # predict\n",
    "        df[\"proba\"] = self.model.predict(df_s[self.cols])\n",
    "        \n",
    "        #determine positions\n",
    "        df = df.loc[self.start_time:].copy() # starting with first live_stream bar (removing historical bars)\n",
    "        df[\"position\"] = np.where(df.proba < 0.47, -1, np.nan)\n",
    "        df[\"position\"] = np.where(df.proba > 0.53, 1, df.position)\n",
    "        df[\"position\"] = df.position.ffill().fillna(0) # start with neutral position if no strong signal\n",
    "        #***********************************************************************\n",
    "        \n",
    "        self.data = df.copy()\n",
    "    \n",
    "    def execute_trades(self):\n",
    "        if self.data[\"position\"].iloc[-1] == 1:\n",
    "            if self.position == 0:\n",
    "                order = self.create_order(self.instrument, self.units, suppress = True, ret = True)\n",
    "                self.report_trade(order, \"GOING LONG\")\n",
    "            elif self.position == -1:\n",
    "                order = self.create_order(self.instrument, self.units * 2, suppress = True, ret = True) \n",
    "                self.report_trade(order, \"GOING LONG\")\n",
    "            self.position = 1\n",
    "        elif self.data[\"position\"].iloc[-1] == -1: \n",
    "            if self.position == 0:\n",
    "                order = self.create_order(self.instrument, -self.units, suppress = True, ret = True)\n",
    "                self.report_trade(order, \"GOING SHORT\")\n",
    "            elif self.position == 1:\n",
    "                order = self.create_order(self.instrument, -self.units * 2, suppress = True, ret = True)\n",
    "                self.report_trade(order, \"GOING SHORT\")\n",
    "            self.position = -1\n",
    "        elif self.data[\"position\"].iloc[-1] == 0: \n",
    "            if self.position == -1:\n",
    "                order = self.create_order(self.instrument, self.units, suppress = True, ret = True) \n",
    "                self.report_trade(order, \"GOING NEUTRAL\")\n",
    "            elif self.position == 1:\n",
    "                order = self.create_order(self.instrument, -self.units, suppress = True, ret = True)\n",
    "                self.report_trade(order, \"GOING NEUTRAL\")\n",
    "            self.position = 0\n",
    "    \n",
    "    def report_trade(self, order, going):\n",
    "        time = order[\"time\"]\n",
    "        units = order[\"units\"]\n",
    "        price = order[\"price\"]\n",
    "        pl = float(order[\"pl\"])\n",
    "        self.profits.append(pl)\n",
    "        cumpl = sum(self.profits)\n",
    "        print(\"\\n\" + 100* \"-\")\n",
    "        print(\"{} | {}\".format(time, going))\n",
    "        print(\"{} | units = {} | price = {} | P&L = {} | Cum P&L = {}\".format(time, units, price, pl, cumpl))\n",
    "        print(100 * \"-\" + \"\\n\")  "
   ]
  },
  {
   "cell_type": "code",
   "execution_count": 71,
   "metadata": {},
   "outputs": [],
   "source": [
    "trader = DNNTrader(\"oanda.cfg\", \"EUR_USD\", bar_length = \"20min\",\n",
    "                   window = 50, lags = 5, model = model, mu = mu, std = std, units = 1000)"
   ]
  },
  {
   "cell_type": "code",
   "execution_count": null,
   "metadata": {},
   "outputs": [
    {
     "name": "stdout",
     "output_type": "stream",
     "text": [
      "1 2 3 "
     ]
    },
    {
     "name": "stderr",
     "output_type": "stream",
     "text": [
      "C:\\Users\\Omar\\AppData\\Local\\Temp\\ipykernel_9936\\11057769.py:44: FutureWarning: The frame.append method is deprecated and will be removed from pandas in a future version. Use pandas.concat instead.\n",
      "  self.tick_data = self.tick_data.append(df)\n",
      "C:\\Users\\Omar\\AppData\\Local\\Temp\\ipykernel_9936\\11057769.py:44: FutureWarning: The frame.append method is deprecated and will be removed from pandas in a future version. Use pandas.concat instead.\n",
      "  self.tick_data = self.tick_data.append(df)\n",
      "C:\\Users\\Omar\\AppData\\Local\\Temp\\ipykernel_9936\\11057769.py:44: FutureWarning: The frame.append method is deprecated and will be removed from pandas in a future version. Use pandas.concat instead.\n",
      "  self.tick_data = self.tick_data.append(df)\n"
     ]
    },
    {
     "name": "stdout",
     "output_type": "stream",
     "text": [
      "4 "
     ]
    },
    {
     "name": "stderr",
     "output_type": "stream",
     "text": [
      "C:\\Users\\Omar\\AppData\\Local\\Temp\\ipykernel_9936\\11057769.py:44: FutureWarning: The frame.append method is deprecated and will be removed from pandas in a future version. Use pandas.concat instead.\n",
      "  self.tick_data = self.tick_data.append(df)\n"
     ]
    },
    {
     "name": "stdout",
     "output_type": "stream",
     "text": [
      "5 "
     ]
    },
    {
     "name": "stderr",
     "output_type": "stream",
     "text": [
      "C:\\Users\\Omar\\AppData\\Local\\Temp\\ipykernel_9936\\11057769.py:44: FutureWarning: The frame.append method is deprecated and will be removed from pandas in a future version. Use pandas.concat instead.\n",
      "  self.tick_data = self.tick_data.append(df)\n"
     ]
    },
    {
     "name": "stdout",
     "output_type": "stream",
     "text": [
      "6 "
     ]
    },
    {
     "name": "stderr",
     "output_type": "stream",
     "text": [
      "C:\\Users\\Omar\\AppData\\Local\\Temp\\ipykernel_9936\\11057769.py:44: FutureWarning: The frame.append method is deprecated and will be removed from pandas in a future version. Use pandas.concat instead.\n",
      "  self.tick_data = self.tick_data.append(df)\n"
     ]
    },
    {
     "name": "stdout",
     "output_type": "stream",
     "text": [
      "7 "
     ]
    },
    {
     "name": "stderr",
     "output_type": "stream",
     "text": [
      "C:\\Users\\Omar\\AppData\\Local\\Temp\\ipykernel_9936\\11057769.py:44: FutureWarning: The frame.append method is deprecated and will be removed from pandas in a future version. Use pandas.concat instead.\n",
      "  self.tick_data = self.tick_data.append(df)\n"
     ]
    },
    {
     "name": "stdout",
     "output_type": "stream",
     "text": [
      "8 "
     ]
    },
    {
     "name": "stderr",
     "output_type": "stream",
     "text": [
      "C:\\Users\\Omar\\AppData\\Local\\Temp\\ipykernel_9936\\11057769.py:44: FutureWarning: The frame.append method is deprecated and will be removed from pandas in a future version. Use pandas.concat instead.\n",
      "  self.tick_data = self.tick_data.append(df)\n"
     ]
    },
    {
     "name": "stdout",
     "output_type": "stream",
     "text": [
      "9 "
     ]
    },
    {
     "name": "stderr",
     "output_type": "stream",
     "text": [
      "C:\\Users\\Omar\\AppData\\Local\\Temp\\ipykernel_9936\\11057769.py:44: FutureWarning: The frame.append method is deprecated and will be removed from pandas in a future version. Use pandas.concat instead.\n",
      "  self.tick_data = self.tick_data.append(df)\n"
     ]
    },
    {
     "name": "stdout",
     "output_type": "stream",
     "text": [
      "10 "
     ]
    },
    {
     "name": "stderr",
     "output_type": "stream",
     "text": [
      "C:\\Users\\Omar\\AppData\\Local\\Temp\\ipykernel_9936\\11057769.py:44: FutureWarning: The frame.append method is deprecated and will be removed from pandas in a future version. Use pandas.concat instead.\n",
      "  self.tick_data = self.tick_data.append(df)\n"
     ]
    },
    {
     "name": "stdout",
     "output_type": "stream",
     "text": [
      "11 "
     ]
    },
    {
     "name": "stderr",
     "output_type": "stream",
     "text": [
      "C:\\Users\\Omar\\AppData\\Local\\Temp\\ipykernel_9936\\11057769.py:44: FutureWarning: The frame.append method is deprecated and will be removed from pandas in a future version. Use pandas.concat instead.\n",
      "  self.tick_data = self.tick_data.append(df)\n"
     ]
    },
    {
     "name": "stdout",
     "output_type": "stream",
     "text": [
      "12 "
     ]
    },
    {
     "name": "stderr",
     "output_type": "stream",
     "text": [
      "C:\\Users\\Omar\\AppData\\Local\\Temp\\ipykernel_9936\\11057769.py:44: FutureWarning: The frame.append method is deprecated and will be removed from pandas in a future version. Use pandas.concat instead.\n",
      "  self.tick_data = self.tick_data.append(df)\n"
     ]
    },
    {
     "name": "stdout",
     "output_type": "stream",
     "text": [
      "13 "
     ]
    },
    {
     "name": "stderr",
     "output_type": "stream",
     "text": [
      "C:\\Users\\Omar\\AppData\\Local\\Temp\\ipykernel_9936\\11057769.py:44: FutureWarning: The frame.append method is deprecated and will be removed from pandas in a future version. Use pandas.concat instead.\n",
      "  self.tick_data = self.tick_data.append(df)\n"
     ]
    },
    {
     "name": "stdout",
     "output_type": "stream",
     "text": [
      "14 "
     ]
    },
    {
     "name": "stderr",
     "output_type": "stream",
     "text": [
      "C:\\Users\\Omar\\AppData\\Local\\Temp\\ipykernel_9936\\11057769.py:44: FutureWarning: The frame.append method is deprecated and will be removed from pandas in a future version. Use pandas.concat instead.\n",
      "  self.tick_data = self.tick_data.append(df)\n"
     ]
    },
    {
     "name": "stdout",
     "output_type": "stream",
     "text": [
      "15 "
     ]
    },
    {
     "name": "stderr",
     "output_type": "stream",
     "text": [
      "C:\\Users\\Omar\\AppData\\Local\\Temp\\ipykernel_9936\\11057769.py:44: FutureWarning: The frame.append method is deprecated and will be removed from pandas in a future version. Use pandas.concat instead.\n",
      "  self.tick_data = self.tick_data.append(df)\n"
     ]
    },
    {
     "name": "stdout",
     "output_type": "stream",
     "text": [
      "16 "
     ]
    },
    {
     "name": "stderr",
     "output_type": "stream",
     "text": [
      "C:\\Users\\Omar\\AppData\\Local\\Temp\\ipykernel_9936\\11057769.py:44: FutureWarning: The frame.append method is deprecated and will be removed from pandas in a future version. Use pandas.concat instead.\n",
      "  self.tick_data = self.tick_data.append(df)\n"
     ]
    },
    {
     "name": "stdout",
     "output_type": "stream",
     "text": [
      "17 "
     ]
    },
    {
     "name": "stderr",
     "output_type": "stream",
     "text": [
      "C:\\Users\\Omar\\AppData\\Local\\Temp\\ipykernel_9936\\11057769.py:44: FutureWarning: The frame.append method is deprecated and will be removed from pandas in a future version. Use pandas.concat instead.\n",
      "  self.tick_data = self.tick_data.append(df)\n"
     ]
    },
    {
     "name": "stdout",
     "output_type": "stream",
     "text": [
      "18 "
     ]
    },
    {
     "name": "stderr",
     "output_type": "stream",
     "text": [
      "C:\\Users\\Omar\\AppData\\Local\\Temp\\ipykernel_9936\\11057769.py:44: FutureWarning: The frame.append method is deprecated and will be removed from pandas in a future version. Use pandas.concat instead.\n",
      "  self.tick_data = self.tick_data.append(df)\n"
     ]
    },
    {
     "name": "stdout",
     "output_type": "stream",
     "text": [
      "19 "
     ]
    },
    {
     "name": "stderr",
     "output_type": "stream",
     "text": [
      "C:\\Users\\Omar\\AppData\\Local\\Temp\\ipykernel_9936\\11057769.py:44: FutureWarning: The frame.append method is deprecated and will be removed from pandas in a future version. Use pandas.concat instead.\n",
      "  self.tick_data = self.tick_data.append(df)\n"
     ]
    },
    {
     "name": "stdout",
     "output_type": "stream",
     "text": [
      "20 "
     ]
    },
    {
     "name": "stderr",
     "output_type": "stream",
     "text": [
      "C:\\Users\\Omar\\AppData\\Local\\Temp\\ipykernel_9936\\11057769.py:44: FutureWarning: The frame.append method is deprecated and will be removed from pandas in a future version. Use pandas.concat instead.\n",
      "  self.tick_data = self.tick_data.append(df)\n"
     ]
    },
    {
     "name": "stdout",
     "output_type": "stream",
     "text": [
      "21 "
     ]
    },
    {
     "name": "stderr",
     "output_type": "stream",
     "text": [
      "C:\\Users\\Omar\\AppData\\Local\\Temp\\ipykernel_9936\\11057769.py:44: FutureWarning: The frame.append method is deprecated and will be removed from pandas in a future version. Use pandas.concat instead.\n",
      "  self.tick_data = self.tick_data.append(df)\n"
     ]
    },
    {
     "name": "stdout",
     "output_type": "stream",
     "text": [
      "22 "
     ]
    },
    {
     "name": "stderr",
     "output_type": "stream",
     "text": [
      "C:\\Users\\Omar\\AppData\\Local\\Temp\\ipykernel_9936\\11057769.py:44: FutureWarning: The frame.append method is deprecated and will be removed from pandas in a future version. Use pandas.concat instead.\n",
      "  self.tick_data = self.tick_data.append(df)\n"
     ]
    },
    {
     "name": "stdout",
     "output_type": "stream",
     "text": [
      "23 "
     ]
    },
    {
     "name": "stderr",
     "output_type": "stream",
     "text": [
      "C:\\Users\\Omar\\AppData\\Local\\Temp\\ipykernel_9936\\11057769.py:44: FutureWarning: The frame.append method is deprecated and will be removed from pandas in a future version. Use pandas.concat instead.\n",
      "  self.tick_data = self.tick_data.append(df)\n"
     ]
    },
    {
     "name": "stdout",
     "output_type": "stream",
     "text": [
      "24 "
     ]
    },
    {
     "name": "stderr",
     "output_type": "stream",
     "text": [
      "C:\\Users\\Omar\\AppData\\Local\\Temp\\ipykernel_9936\\11057769.py:44: FutureWarning: The frame.append method is deprecated and will be removed from pandas in a future version. Use pandas.concat instead.\n",
      "  self.tick_data = self.tick_data.append(df)\n"
     ]
    },
    {
     "name": "stdout",
     "output_type": "stream",
     "text": [
      "25 "
     ]
    },
    {
     "name": "stderr",
     "output_type": "stream",
     "text": [
      "C:\\Users\\Omar\\AppData\\Local\\Temp\\ipykernel_9936\\11057769.py:44: FutureWarning: The frame.append method is deprecated and will be removed from pandas in a future version. Use pandas.concat instead.\n",
      "  self.tick_data = self.tick_data.append(df)\n"
     ]
    },
    {
     "name": "stdout",
     "output_type": "stream",
     "text": [
      "26 "
     ]
    },
    {
     "name": "stderr",
     "output_type": "stream",
     "text": [
      "C:\\Users\\Omar\\AppData\\Local\\Temp\\ipykernel_9936\\11057769.py:44: FutureWarning: The frame.append method is deprecated and will be removed from pandas in a future version. Use pandas.concat instead.\n",
      "  self.tick_data = self.tick_data.append(df)\n"
     ]
    },
    {
     "name": "stdout",
     "output_type": "stream",
     "text": [
      "27 "
     ]
    },
    {
     "name": "stderr",
     "output_type": "stream",
     "text": [
      "C:\\Users\\Omar\\AppData\\Local\\Temp\\ipykernel_9936\\11057769.py:44: FutureWarning: The frame.append method is deprecated and will be removed from pandas in a future version. Use pandas.concat instead.\n",
      "  self.tick_data = self.tick_data.append(df)\n"
     ]
    },
    {
     "name": "stdout",
     "output_type": "stream",
     "text": [
      "28 "
     ]
    },
    {
     "name": "stderr",
     "output_type": "stream",
     "text": [
      "C:\\Users\\Omar\\AppData\\Local\\Temp\\ipykernel_9936\\11057769.py:44: FutureWarning: The frame.append method is deprecated and will be removed from pandas in a future version. Use pandas.concat instead.\n",
      "  self.tick_data = self.tick_data.append(df)\n"
     ]
    },
    {
     "name": "stdout",
     "output_type": "stream",
     "text": [
      "29 "
     ]
    },
    {
     "name": "stderr",
     "output_type": "stream",
     "text": [
      "C:\\Users\\Omar\\AppData\\Local\\Temp\\ipykernel_9936\\11057769.py:44: FutureWarning: The frame.append method is deprecated and will be removed from pandas in a future version. Use pandas.concat instead.\n",
      "  self.tick_data = self.tick_data.append(df)\n"
     ]
    },
    {
     "name": "stdout",
     "output_type": "stream",
     "text": [
      "30 "
     ]
    },
    {
     "name": "stderr",
     "output_type": "stream",
     "text": [
      "C:\\Users\\Omar\\AppData\\Local\\Temp\\ipykernel_9936\\11057769.py:44: FutureWarning: The frame.append method is deprecated and will be removed from pandas in a future version. Use pandas.concat instead.\n",
      "  self.tick_data = self.tick_data.append(df)\n"
     ]
    },
    {
     "name": "stdout",
     "output_type": "stream",
     "text": [
      "31 "
     ]
    },
    {
     "name": "stderr",
     "output_type": "stream",
     "text": [
      "C:\\Users\\Omar\\AppData\\Local\\Temp\\ipykernel_9936\\11057769.py:44: FutureWarning: The frame.append method is deprecated and will be removed from pandas in a future version. Use pandas.concat instead.\n",
      "  self.tick_data = self.tick_data.append(df)\n"
     ]
    },
    {
     "name": "stdout",
     "output_type": "stream",
     "text": [
      "32 "
     ]
    },
    {
     "name": "stderr",
     "output_type": "stream",
     "text": [
      "C:\\Users\\Omar\\AppData\\Local\\Temp\\ipykernel_9936\\11057769.py:44: FutureWarning: The frame.append method is deprecated and will be removed from pandas in a future version. Use pandas.concat instead.\n",
      "  self.tick_data = self.tick_data.append(df)\n"
     ]
    },
    {
     "name": "stdout",
     "output_type": "stream",
     "text": [
      "33 "
     ]
    },
    {
     "name": "stderr",
     "output_type": "stream",
     "text": [
      "C:\\Users\\Omar\\AppData\\Local\\Temp\\ipykernel_9936\\11057769.py:44: FutureWarning: The frame.append method is deprecated and will be removed from pandas in a future version. Use pandas.concat instead.\n",
      "  self.tick_data = self.tick_data.append(df)\n"
     ]
    },
    {
     "name": "stdout",
     "output_type": "stream",
     "text": [
      "34 "
     ]
    },
    {
     "name": "stderr",
     "output_type": "stream",
     "text": [
      "C:\\Users\\Omar\\AppData\\Local\\Temp\\ipykernel_9936\\11057769.py:44: FutureWarning: The frame.append method is deprecated and will be removed from pandas in a future version. Use pandas.concat instead.\n",
      "  self.tick_data = self.tick_data.append(df)\n"
     ]
    },
    {
     "name": "stdout",
     "output_type": "stream",
     "text": [
      "35 "
     ]
    },
    {
     "name": "stderr",
     "output_type": "stream",
     "text": [
      "C:\\Users\\Omar\\AppData\\Local\\Temp\\ipykernel_9936\\11057769.py:44: FutureWarning: The frame.append method is deprecated and will be removed from pandas in a future version. Use pandas.concat instead.\n",
      "  self.tick_data = self.tick_data.append(df)\n"
     ]
    },
    {
     "name": "stdout",
     "output_type": "stream",
     "text": [
      "36 "
     ]
    },
    {
     "name": "stderr",
     "output_type": "stream",
     "text": [
      "C:\\Users\\Omar\\AppData\\Local\\Temp\\ipykernel_9936\\11057769.py:44: FutureWarning: The frame.append method is deprecated and will be removed from pandas in a future version. Use pandas.concat instead.\n",
      "  self.tick_data = self.tick_data.append(df)\n"
     ]
    },
    {
     "name": "stdout",
     "output_type": "stream",
     "text": [
      "37 "
     ]
    },
    {
     "name": "stderr",
     "output_type": "stream",
     "text": [
      "C:\\Users\\Omar\\AppData\\Local\\Temp\\ipykernel_9936\\11057769.py:44: FutureWarning: The frame.append method is deprecated and will be removed from pandas in a future version. Use pandas.concat instead.\n",
      "  self.tick_data = self.tick_data.append(df)\n"
     ]
    },
    {
     "name": "stdout",
     "output_type": "stream",
     "text": [
      "38 "
     ]
    },
    {
     "name": "stderr",
     "output_type": "stream",
     "text": [
      "C:\\Users\\Omar\\AppData\\Local\\Temp\\ipykernel_9936\\11057769.py:44: FutureWarning: The frame.append method is deprecated and will be removed from pandas in a future version. Use pandas.concat instead.\n",
      "  self.tick_data = self.tick_data.append(df)\n"
     ]
    },
    {
     "name": "stdout",
     "output_type": "stream",
     "text": [
      "39 "
     ]
    },
    {
     "name": "stderr",
     "output_type": "stream",
     "text": [
      "C:\\Users\\Omar\\AppData\\Local\\Temp\\ipykernel_9936\\11057769.py:44: FutureWarning: The frame.append method is deprecated and will be removed from pandas in a future version. Use pandas.concat instead.\n",
      "  self.tick_data = self.tick_data.append(df)\n"
     ]
    },
    {
     "name": "stdout",
     "output_type": "stream",
     "text": [
      "40 "
     ]
    },
    {
     "name": "stderr",
     "output_type": "stream",
     "text": [
      "C:\\Users\\Omar\\AppData\\Local\\Temp\\ipykernel_9936\\11057769.py:44: FutureWarning: The frame.append method is deprecated and will be removed from pandas in a future version. Use pandas.concat instead.\n",
      "  self.tick_data = self.tick_data.append(df)\n"
     ]
    },
    {
     "name": "stdout",
     "output_type": "stream",
     "text": [
      "41 "
     ]
    },
    {
     "name": "stderr",
     "output_type": "stream",
     "text": [
      "C:\\Users\\Omar\\AppData\\Local\\Temp\\ipykernel_9936\\11057769.py:44: FutureWarning: The frame.append method is deprecated and will be removed from pandas in a future version. Use pandas.concat instead.\n",
      "  self.tick_data = self.tick_data.append(df)\n"
     ]
    },
    {
     "name": "stdout",
     "output_type": "stream",
     "text": [
      "42 "
     ]
    },
    {
     "name": "stderr",
     "output_type": "stream",
     "text": [
      "C:\\Users\\Omar\\AppData\\Local\\Temp\\ipykernel_9936\\11057769.py:44: FutureWarning: The frame.append method is deprecated and will be removed from pandas in a future version. Use pandas.concat instead.\n",
      "  self.tick_data = self.tick_data.append(df)\n"
     ]
    },
    {
     "name": "stdout",
     "output_type": "stream",
     "text": [
      "43 "
     ]
    },
    {
     "name": "stderr",
     "output_type": "stream",
     "text": [
      "C:\\Users\\Omar\\AppData\\Local\\Temp\\ipykernel_9936\\11057769.py:44: FutureWarning: The frame.append method is deprecated and will be removed from pandas in a future version. Use pandas.concat instead.\n",
      "  self.tick_data = self.tick_data.append(df)\n"
     ]
    },
    {
     "name": "stdout",
     "output_type": "stream",
     "text": [
      "44 "
     ]
    },
    {
     "name": "stderr",
     "output_type": "stream",
     "text": [
      "C:\\Users\\Omar\\AppData\\Local\\Temp\\ipykernel_9936\\11057769.py:44: FutureWarning: The frame.append method is deprecated and will be removed from pandas in a future version. Use pandas.concat instead.\n",
      "  self.tick_data = self.tick_data.append(df)\n"
     ]
    },
    {
     "name": "stdout",
     "output_type": "stream",
     "text": [
      "45 "
     ]
    },
    {
     "name": "stderr",
     "output_type": "stream",
     "text": [
      "C:\\Users\\Omar\\AppData\\Local\\Temp\\ipykernel_9936\\11057769.py:44: FutureWarning: The frame.append method is deprecated and will be removed from pandas in a future version. Use pandas.concat instead.\n",
      "  self.tick_data = self.tick_data.append(df)\n"
     ]
    },
    {
     "name": "stdout",
     "output_type": "stream",
     "text": [
      "46 "
     ]
    },
    {
     "name": "stderr",
     "output_type": "stream",
     "text": [
      "C:\\Users\\Omar\\AppData\\Local\\Temp\\ipykernel_9936\\11057769.py:44: FutureWarning: The frame.append method is deprecated and will be removed from pandas in a future version. Use pandas.concat instead.\n",
      "  self.tick_data = self.tick_data.append(df)\n"
     ]
    },
    {
     "name": "stdout",
     "output_type": "stream",
     "text": [
      "47 "
     ]
    },
    {
     "name": "stderr",
     "output_type": "stream",
     "text": [
      "C:\\Users\\Omar\\AppData\\Local\\Temp\\ipykernel_9936\\11057769.py:44: FutureWarning: The frame.append method is deprecated and will be removed from pandas in a future version. Use pandas.concat instead.\n",
      "  self.tick_data = self.tick_data.append(df)\n"
     ]
    },
    {
     "name": "stdout",
     "output_type": "stream",
     "text": [
      "48 "
     ]
    },
    {
     "name": "stderr",
     "output_type": "stream",
     "text": [
      "C:\\Users\\Omar\\AppData\\Local\\Temp\\ipykernel_9936\\11057769.py:44: FutureWarning: The frame.append method is deprecated and will be removed from pandas in a future version. Use pandas.concat instead.\n",
      "  self.tick_data = self.tick_data.append(df)\n"
     ]
    },
    {
     "name": "stdout",
     "output_type": "stream",
     "text": [
      "49 "
     ]
    },
    {
     "name": "stderr",
     "output_type": "stream",
     "text": [
      "C:\\Users\\Omar\\AppData\\Local\\Temp\\ipykernel_9936\\11057769.py:44: FutureWarning: The frame.append method is deprecated and will be removed from pandas in a future version. Use pandas.concat instead.\n",
      "  self.tick_data = self.tick_data.append(df)\n"
     ]
    },
    {
     "name": "stdout",
     "output_type": "stream",
     "text": [
      "50 "
     ]
    },
    {
     "name": "stderr",
     "output_type": "stream",
     "text": [
      "C:\\Users\\Omar\\AppData\\Local\\Temp\\ipykernel_9936\\11057769.py:44: FutureWarning: The frame.append method is deprecated and will be removed from pandas in a future version. Use pandas.concat instead.\n",
      "  self.tick_data = self.tick_data.append(df)\n"
     ]
    },
    {
     "name": "stdout",
     "output_type": "stream",
     "text": [
      "51 "
     ]
    },
    {
     "name": "stderr",
     "output_type": "stream",
     "text": [
      "C:\\Users\\Omar\\AppData\\Local\\Temp\\ipykernel_9936\\11057769.py:44: FutureWarning: The frame.append method is deprecated and will be removed from pandas in a future version. Use pandas.concat instead.\n",
      "  self.tick_data = self.tick_data.append(df)\n"
     ]
    },
    {
     "name": "stdout",
     "output_type": "stream",
     "text": [
      "52 "
     ]
    },
    {
     "name": "stderr",
     "output_type": "stream",
     "text": [
      "C:\\Users\\Omar\\AppData\\Local\\Temp\\ipykernel_9936\\11057769.py:44: FutureWarning: The frame.append method is deprecated and will be removed from pandas in a future version. Use pandas.concat instead.\n",
      "  self.tick_data = self.tick_data.append(df)\n"
     ]
    },
    {
     "name": "stdout",
     "output_type": "stream",
     "text": [
      "53 "
     ]
    },
    {
     "name": "stderr",
     "output_type": "stream",
     "text": [
      "C:\\Users\\Omar\\AppData\\Local\\Temp\\ipykernel_9936\\11057769.py:44: FutureWarning: The frame.append method is deprecated and will be removed from pandas in a future version. Use pandas.concat instead.\n",
      "  self.tick_data = self.tick_data.append(df)\n"
     ]
    },
    {
     "name": "stdout",
     "output_type": "stream",
     "text": [
      "54 "
     ]
    },
    {
     "name": "stderr",
     "output_type": "stream",
     "text": [
      "C:\\Users\\Omar\\AppData\\Local\\Temp\\ipykernel_9936\\11057769.py:44: FutureWarning: The frame.append method is deprecated and will be removed from pandas in a future version. Use pandas.concat instead.\n",
      "  self.tick_data = self.tick_data.append(df)\n"
     ]
    },
    {
     "name": "stdout",
     "output_type": "stream",
     "text": [
      "55 "
     ]
    },
    {
     "name": "stderr",
     "output_type": "stream",
     "text": [
      "C:\\Users\\Omar\\AppData\\Local\\Temp\\ipykernel_9936\\11057769.py:44: FutureWarning: The frame.append method is deprecated and will be removed from pandas in a future version. Use pandas.concat instead.\n",
      "  self.tick_data = self.tick_data.append(df)\n"
     ]
    },
    {
     "name": "stdout",
     "output_type": "stream",
     "text": [
      "56 "
     ]
    },
    {
     "name": "stderr",
     "output_type": "stream",
     "text": [
      "C:\\Users\\Omar\\AppData\\Local\\Temp\\ipykernel_9936\\11057769.py:44: FutureWarning: The frame.append method is deprecated and will be removed from pandas in a future version. Use pandas.concat instead.\n",
      "  self.tick_data = self.tick_data.append(df)\n"
     ]
    },
    {
     "name": "stdout",
     "output_type": "stream",
     "text": [
      "57 "
     ]
    },
    {
     "name": "stderr",
     "output_type": "stream",
     "text": [
      "C:\\Users\\Omar\\AppData\\Local\\Temp\\ipykernel_9936\\11057769.py:44: FutureWarning: The frame.append method is deprecated and will be removed from pandas in a future version. Use pandas.concat instead.\n",
      "  self.tick_data = self.tick_data.append(df)\n"
     ]
    },
    {
     "name": "stdout",
     "output_type": "stream",
     "text": [
      "58 "
     ]
    },
    {
     "name": "stderr",
     "output_type": "stream",
     "text": [
      "C:\\Users\\Omar\\AppData\\Local\\Temp\\ipykernel_9936\\11057769.py:44: FutureWarning: The frame.append method is deprecated and will be removed from pandas in a future version. Use pandas.concat instead.\n",
      "  self.tick_data = self.tick_data.append(df)\n"
     ]
    },
    {
     "name": "stdout",
     "output_type": "stream",
     "text": [
      "59 "
     ]
    },
    {
     "name": "stderr",
     "output_type": "stream",
     "text": [
      "C:\\Users\\Omar\\AppData\\Local\\Temp\\ipykernel_9936\\11057769.py:44: FutureWarning: The frame.append method is deprecated and will be removed from pandas in a future version. Use pandas.concat instead.\n",
      "  self.tick_data = self.tick_data.append(df)\n"
     ]
    },
    {
     "name": "stdout",
     "output_type": "stream",
     "text": [
      "60 "
     ]
    },
    {
     "name": "stderr",
     "output_type": "stream",
     "text": [
      "C:\\Users\\Omar\\AppData\\Local\\Temp\\ipykernel_9936\\11057769.py:44: FutureWarning: The frame.append method is deprecated and will be removed from pandas in a future version. Use pandas.concat instead.\n",
      "  self.tick_data = self.tick_data.append(df)\n"
     ]
    },
    {
     "name": "stdout",
     "output_type": "stream",
     "text": [
      "61 "
     ]
    },
    {
     "name": "stderr",
     "output_type": "stream",
     "text": [
      "C:\\Users\\Omar\\AppData\\Local\\Temp\\ipykernel_9936\\11057769.py:44: FutureWarning: The frame.append method is deprecated and will be removed from pandas in a future version. Use pandas.concat instead.\n",
      "  self.tick_data = self.tick_data.append(df)\n"
     ]
    },
    {
     "name": "stdout",
     "output_type": "stream",
     "text": [
      "62 "
     ]
    },
    {
     "name": "stderr",
     "output_type": "stream",
     "text": [
      "C:\\Users\\Omar\\AppData\\Local\\Temp\\ipykernel_9936\\11057769.py:44: FutureWarning: The frame.append method is deprecated and will be removed from pandas in a future version. Use pandas.concat instead.\n",
      "  self.tick_data = self.tick_data.append(df)\n"
     ]
    },
    {
     "name": "stdout",
     "output_type": "stream",
     "text": [
      "63 "
     ]
    },
    {
     "name": "stderr",
     "output_type": "stream",
     "text": [
      "C:\\Users\\Omar\\AppData\\Local\\Temp\\ipykernel_9936\\11057769.py:44: FutureWarning: The frame.append method is deprecated and will be removed from pandas in a future version. Use pandas.concat instead.\n",
      "  self.tick_data = self.tick_data.append(df)\n"
     ]
    },
    {
     "name": "stdout",
     "output_type": "stream",
     "text": [
      "64 "
     ]
    },
    {
     "name": "stderr",
     "output_type": "stream",
     "text": [
      "C:\\Users\\Omar\\AppData\\Local\\Temp\\ipykernel_9936\\11057769.py:44: FutureWarning: The frame.append method is deprecated and will be removed from pandas in a future version. Use pandas.concat instead.\n",
      "  self.tick_data = self.tick_data.append(df)\n"
     ]
    },
    {
     "name": "stdout",
     "output_type": "stream",
     "text": [
      "65 "
     ]
    },
    {
     "name": "stderr",
     "output_type": "stream",
     "text": [
      "C:\\Users\\Omar\\AppData\\Local\\Temp\\ipykernel_9936\\11057769.py:44: FutureWarning: The frame.append method is deprecated and will be removed from pandas in a future version. Use pandas.concat instead.\n",
      "  self.tick_data = self.tick_data.append(df)\n"
     ]
    },
    {
     "name": "stdout",
     "output_type": "stream",
     "text": [
      "66 "
     ]
    },
    {
     "name": "stderr",
     "output_type": "stream",
     "text": [
      "C:\\Users\\Omar\\AppData\\Local\\Temp\\ipykernel_9936\\11057769.py:44: FutureWarning: The frame.append method is deprecated and will be removed from pandas in a future version. Use pandas.concat instead.\n",
      "  self.tick_data = self.tick_data.append(df)\n"
     ]
    },
    {
     "name": "stdout",
     "output_type": "stream",
     "text": [
      "67 "
     ]
    },
    {
     "name": "stderr",
     "output_type": "stream",
     "text": [
      "C:\\Users\\Omar\\AppData\\Local\\Temp\\ipykernel_9936\\11057769.py:44: FutureWarning: The frame.append method is deprecated and will be removed from pandas in a future version. Use pandas.concat instead.\n",
      "  self.tick_data = self.tick_data.append(df)\n"
     ]
    },
    {
     "name": "stdout",
     "output_type": "stream",
     "text": [
      "68 "
     ]
    },
    {
     "name": "stderr",
     "output_type": "stream",
     "text": [
      "C:\\Users\\Omar\\AppData\\Local\\Temp\\ipykernel_9936\\11057769.py:44: FutureWarning: The frame.append method is deprecated and will be removed from pandas in a future version. Use pandas.concat instead.\n",
      "  self.tick_data = self.tick_data.append(df)\n"
     ]
    },
    {
     "name": "stdout",
     "output_type": "stream",
     "text": [
      "69 "
     ]
    },
    {
     "name": "stderr",
     "output_type": "stream",
     "text": [
      "C:\\Users\\Omar\\AppData\\Local\\Temp\\ipykernel_9936\\11057769.py:44: FutureWarning: The frame.append method is deprecated and will be removed from pandas in a future version. Use pandas.concat instead.\n",
      "  self.tick_data = self.tick_data.append(df)\n"
     ]
    },
    {
     "name": "stdout",
     "output_type": "stream",
     "text": [
      "70 "
     ]
    },
    {
     "name": "stderr",
     "output_type": "stream",
     "text": [
      "C:\\Users\\Omar\\AppData\\Local\\Temp\\ipykernel_9936\\11057769.py:44: FutureWarning: The frame.append method is deprecated and will be removed from pandas in a future version. Use pandas.concat instead.\n",
      "  self.tick_data = self.tick_data.append(df)\n"
     ]
    },
    {
     "name": "stdout",
     "output_type": "stream",
     "text": [
      "71 "
     ]
    },
    {
     "name": "stderr",
     "output_type": "stream",
     "text": [
      "C:\\Users\\Omar\\AppData\\Local\\Temp\\ipykernel_9936\\11057769.py:44: FutureWarning: The frame.append method is deprecated and will be removed from pandas in a future version. Use pandas.concat instead.\n",
      "  self.tick_data = self.tick_data.append(df)\n"
     ]
    },
    {
     "name": "stdout",
     "output_type": "stream",
     "text": [
      "72 "
     ]
    },
    {
     "name": "stderr",
     "output_type": "stream",
     "text": [
      "C:\\Users\\Omar\\AppData\\Local\\Temp\\ipykernel_9936\\11057769.py:44: FutureWarning: The frame.append method is deprecated and will be removed from pandas in a future version. Use pandas.concat instead.\n",
      "  self.tick_data = self.tick_data.append(df)\n"
     ]
    },
    {
     "name": "stdout",
     "output_type": "stream",
     "text": [
      "73 "
     ]
    },
    {
     "name": "stderr",
     "output_type": "stream",
     "text": [
      "C:\\Users\\Omar\\AppData\\Local\\Temp\\ipykernel_9936\\11057769.py:44: FutureWarning: The frame.append method is deprecated and will be removed from pandas in a future version. Use pandas.concat instead.\n",
      "  self.tick_data = self.tick_data.append(df)\n"
     ]
    },
    {
     "name": "stdout",
     "output_type": "stream",
     "text": [
      "74 "
     ]
    },
    {
     "name": "stderr",
     "output_type": "stream",
     "text": [
      "C:\\Users\\Omar\\AppData\\Local\\Temp\\ipykernel_9936\\11057769.py:44: FutureWarning: The frame.append method is deprecated and will be removed from pandas in a future version. Use pandas.concat instead.\n",
      "  self.tick_data = self.tick_data.append(df)\n"
     ]
    },
    {
     "name": "stdout",
     "output_type": "stream",
     "text": [
      "75 "
     ]
    },
    {
     "name": "stderr",
     "output_type": "stream",
     "text": [
      "C:\\Users\\Omar\\AppData\\Local\\Temp\\ipykernel_9936\\11057769.py:44: FutureWarning: The frame.append method is deprecated and will be removed from pandas in a future version. Use pandas.concat instead.\n",
      "  self.tick_data = self.tick_data.append(df)\n"
     ]
    },
    {
     "name": "stdout",
     "output_type": "stream",
     "text": [
      "76 "
     ]
    },
    {
     "name": "stderr",
     "output_type": "stream",
     "text": [
      "C:\\Users\\Omar\\AppData\\Local\\Temp\\ipykernel_9936\\11057769.py:44: FutureWarning: The frame.append method is deprecated and will be removed from pandas in a future version. Use pandas.concat instead.\n",
      "  self.tick_data = self.tick_data.append(df)\n"
     ]
    },
    {
     "name": "stdout",
     "output_type": "stream",
     "text": [
      "77 "
     ]
    },
    {
     "name": "stderr",
     "output_type": "stream",
     "text": [
      "C:\\Users\\Omar\\AppData\\Local\\Temp\\ipykernel_9936\\11057769.py:44: FutureWarning: The frame.append method is deprecated and will be removed from pandas in a future version. Use pandas.concat instead.\n",
      "  self.tick_data = self.tick_data.append(df)\n"
     ]
    },
    {
     "name": "stdout",
     "output_type": "stream",
     "text": [
      "78 "
     ]
    },
    {
     "name": "stderr",
     "output_type": "stream",
     "text": [
      "C:\\Users\\Omar\\AppData\\Local\\Temp\\ipykernel_9936\\11057769.py:44: FutureWarning: The frame.append method is deprecated and will be removed from pandas in a future version. Use pandas.concat instead.\n",
      "  self.tick_data = self.tick_data.append(df)\n"
     ]
    },
    {
     "name": "stdout",
     "output_type": "stream",
     "text": [
      "79 "
     ]
    },
    {
     "name": "stderr",
     "output_type": "stream",
     "text": [
      "C:\\Users\\Omar\\AppData\\Local\\Temp\\ipykernel_9936\\11057769.py:44: FutureWarning: The frame.append method is deprecated and will be removed from pandas in a future version. Use pandas.concat instead.\n",
      "  self.tick_data = self.tick_data.append(df)\n"
     ]
    },
    {
     "name": "stdout",
     "output_type": "stream",
     "text": [
      "80 "
     ]
    },
    {
     "name": "stderr",
     "output_type": "stream",
     "text": [
      "C:\\Users\\Omar\\AppData\\Local\\Temp\\ipykernel_9936\\11057769.py:44: FutureWarning: The frame.append method is deprecated and will be removed from pandas in a future version. Use pandas.concat instead.\n",
      "  self.tick_data = self.tick_data.append(df)\n"
     ]
    },
    {
     "name": "stdout",
     "output_type": "stream",
     "text": [
      "81 "
     ]
    },
    {
     "name": "stderr",
     "output_type": "stream",
     "text": [
      "C:\\Users\\Omar\\AppData\\Local\\Temp\\ipykernel_9936\\11057769.py:44: FutureWarning: The frame.append method is deprecated and will be removed from pandas in a future version. Use pandas.concat instead.\n",
      "  self.tick_data = self.tick_data.append(df)\n"
     ]
    },
    {
     "name": "stdout",
     "output_type": "stream",
     "text": [
      "82 "
     ]
    },
    {
     "name": "stderr",
     "output_type": "stream",
     "text": [
      "C:\\Users\\Omar\\AppData\\Local\\Temp\\ipykernel_9936\\11057769.py:44: FutureWarning: The frame.append method is deprecated and will be removed from pandas in a future version. Use pandas.concat instead.\n",
      "  self.tick_data = self.tick_data.append(df)\n"
     ]
    },
    {
     "name": "stdout",
     "output_type": "stream",
     "text": [
      "83 "
     ]
    },
    {
     "name": "stderr",
     "output_type": "stream",
     "text": [
      "C:\\Users\\Omar\\AppData\\Local\\Temp\\ipykernel_9936\\11057769.py:44: FutureWarning: The frame.append method is deprecated and will be removed from pandas in a future version. Use pandas.concat instead.\n",
      "  self.tick_data = self.tick_data.append(df)\n"
     ]
    },
    {
     "name": "stdout",
     "output_type": "stream",
     "text": [
      "84 "
     ]
    },
    {
     "name": "stderr",
     "output_type": "stream",
     "text": [
      "C:\\Users\\Omar\\AppData\\Local\\Temp\\ipykernel_9936\\11057769.py:44: FutureWarning: The frame.append method is deprecated and will be removed from pandas in a future version. Use pandas.concat instead.\n",
      "  self.tick_data = self.tick_data.append(df)\n"
     ]
    },
    {
     "name": "stdout",
     "output_type": "stream",
     "text": [
      "85 "
     ]
    },
    {
     "name": "stderr",
     "output_type": "stream",
     "text": [
      "C:\\Users\\Omar\\AppData\\Local\\Temp\\ipykernel_9936\\11057769.py:44: FutureWarning: The frame.append method is deprecated and will be removed from pandas in a future version. Use pandas.concat instead.\n",
      "  self.tick_data = self.tick_data.append(df)\n"
     ]
    },
    {
     "name": "stdout",
     "output_type": "stream",
     "text": [
      "86 "
     ]
    },
    {
     "name": "stderr",
     "output_type": "stream",
     "text": [
      "C:\\Users\\Omar\\AppData\\Local\\Temp\\ipykernel_9936\\11057769.py:44: FutureWarning: The frame.append method is deprecated and will be removed from pandas in a future version. Use pandas.concat instead.\n",
      "  self.tick_data = self.tick_data.append(df)\n"
     ]
    },
    {
     "name": "stdout",
     "output_type": "stream",
     "text": [
      "87 "
     ]
    },
    {
     "name": "stderr",
     "output_type": "stream",
     "text": [
      "C:\\Users\\Omar\\AppData\\Local\\Temp\\ipykernel_9936\\11057769.py:44: FutureWarning: The frame.append method is deprecated and will be removed from pandas in a future version. Use pandas.concat instead.\n",
      "  self.tick_data = self.tick_data.append(df)\n"
     ]
    },
    {
     "name": "stdout",
     "output_type": "stream",
     "text": [
      "88 "
     ]
    },
    {
     "name": "stderr",
     "output_type": "stream",
     "text": [
      "C:\\Users\\Omar\\AppData\\Local\\Temp\\ipykernel_9936\\11057769.py:44: FutureWarning: The frame.append method is deprecated and will be removed from pandas in a future version. Use pandas.concat instead.\n",
      "  self.tick_data = self.tick_data.append(df)\n"
     ]
    },
    {
     "name": "stdout",
     "output_type": "stream",
     "text": [
      "89 "
     ]
    },
    {
     "name": "stderr",
     "output_type": "stream",
     "text": [
      "C:\\Users\\Omar\\AppData\\Local\\Temp\\ipykernel_9936\\11057769.py:44: FutureWarning: The frame.append method is deprecated and will be removed from pandas in a future version. Use pandas.concat instead.\n",
      "  self.tick_data = self.tick_data.append(df)\n"
     ]
    },
    {
     "name": "stdout",
     "output_type": "stream",
     "text": [
      "90 "
     ]
    },
    {
     "name": "stderr",
     "output_type": "stream",
     "text": [
      "C:\\Users\\Omar\\AppData\\Local\\Temp\\ipykernel_9936\\11057769.py:44: FutureWarning: The frame.append method is deprecated and will be removed from pandas in a future version. Use pandas.concat instead.\n",
      "  self.tick_data = self.tick_data.append(df)\n"
     ]
    },
    {
     "name": "stdout",
     "output_type": "stream",
     "text": [
      "91 "
     ]
    },
    {
     "name": "stderr",
     "output_type": "stream",
     "text": [
      "C:\\Users\\Omar\\AppData\\Local\\Temp\\ipykernel_9936\\11057769.py:44: FutureWarning: The frame.append method is deprecated and will be removed from pandas in a future version. Use pandas.concat instead.\n",
      "  self.tick_data = self.tick_data.append(df)\n"
     ]
    },
    {
     "name": "stdout",
     "output_type": "stream",
     "text": [
      "92 "
     ]
    },
    {
     "name": "stderr",
     "output_type": "stream",
     "text": [
      "C:\\Users\\Omar\\AppData\\Local\\Temp\\ipykernel_9936\\11057769.py:44: FutureWarning: The frame.append method is deprecated and will be removed from pandas in a future version. Use pandas.concat instead.\n",
      "  self.tick_data = self.tick_data.append(df)\n"
     ]
    },
    {
     "name": "stdout",
     "output_type": "stream",
     "text": [
      "93 "
     ]
    },
    {
     "name": "stderr",
     "output_type": "stream",
     "text": [
      "C:\\Users\\Omar\\AppData\\Local\\Temp\\ipykernel_9936\\11057769.py:44: FutureWarning: The frame.append method is deprecated and will be removed from pandas in a future version. Use pandas.concat instead.\n",
      "  self.tick_data = self.tick_data.append(df)\n"
     ]
    },
    {
     "name": "stdout",
     "output_type": "stream",
     "text": [
      "94 "
     ]
    },
    {
     "name": "stderr",
     "output_type": "stream",
     "text": [
      "C:\\Users\\Omar\\AppData\\Local\\Temp\\ipykernel_9936\\11057769.py:44: FutureWarning: The frame.append method is deprecated and will be removed from pandas in a future version. Use pandas.concat instead.\n",
      "  self.tick_data = self.tick_data.append(df)\n"
     ]
    },
    {
     "name": "stdout",
     "output_type": "stream",
     "text": [
      "95 "
     ]
    },
    {
     "name": "stderr",
     "output_type": "stream",
     "text": [
      "C:\\Users\\Omar\\AppData\\Local\\Temp\\ipykernel_9936\\11057769.py:44: FutureWarning: The frame.append method is deprecated and will be removed from pandas in a future version. Use pandas.concat instead.\n",
      "  self.tick_data = self.tick_data.append(df)\n"
     ]
    },
    {
     "name": "stdout",
     "output_type": "stream",
     "text": [
      "96 "
     ]
    },
    {
     "name": "stderr",
     "output_type": "stream",
     "text": [
      "C:\\Users\\Omar\\AppData\\Local\\Temp\\ipykernel_9936\\11057769.py:44: FutureWarning: The frame.append method is deprecated and will be removed from pandas in a future version. Use pandas.concat instead.\n",
      "  self.tick_data = self.tick_data.append(df)\n"
     ]
    },
    {
     "name": "stdout",
     "output_type": "stream",
     "text": [
      "97 "
     ]
    },
    {
     "name": "stderr",
     "output_type": "stream",
     "text": [
      "C:\\Users\\Omar\\AppData\\Local\\Temp\\ipykernel_9936\\11057769.py:44: FutureWarning: The frame.append method is deprecated and will be removed from pandas in a future version. Use pandas.concat instead.\n",
      "  self.tick_data = self.tick_data.append(df)\n"
     ]
    },
    {
     "name": "stdout",
     "output_type": "stream",
     "text": [
      "98 "
     ]
    },
    {
     "name": "stderr",
     "output_type": "stream",
     "text": [
      "C:\\Users\\Omar\\AppData\\Local\\Temp\\ipykernel_9936\\11057769.py:44: FutureWarning: The frame.append method is deprecated and will be removed from pandas in a future version. Use pandas.concat instead.\n",
      "  self.tick_data = self.tick_data.append(df)\n"
     ]
    },
    {
     "name": "stdout",
     "output_type": "stream",
     "text": [
      "99 "
     ]
    },
    {
     "name": "stderr",
     "output_type": "stream",
     "text": [
      "C:\\Users\\Omar\\AppData\\Local\\Temp\\ipykernel_9936\\11057769.py:44: FutureWarning: The frame.append method is deprecated and will be removed from pandas in a future version. Use pandas.concat instead.\n",
      "  self.tick_data = self.tick_data.append(df)\n"
     ]
    },
    {
     "name": "stdout",
     "output_type": "stream",
     "text": [
      "100 "
     ]
    },
    {
     "name": "stderr",
     "output_type": "stream",
     "text": [
      "C:\\Users\\Omar\\AppData\\Local\\Temp\\ipykernel_9936\\11057769.py:44: FutureWarning: The frame.append method is deprecated and will be removed from pandas in a future version. Use pandas.concat instead.\n",
      "  self.tick_data = self.tick_data.append(df)\n"
     ]
    },
    {
     "name": "stdout",
     "output_type": "stream",
     "text": [
      "101 "
     ]
    },
    {
     "name": "stderr",
     "output_type": "stream",
     "text": [
      "C:\\Users\\Omar\\AppData\\Local\\Temp\\ipykernel_9936\\11057769.py:44: FutureWarning: The frame.append method is deprecated and will be removed from pandas in a future version. Use pandas.concat instead.\n",
      "  self.tick_data = self.tick_data.append(df)\n"
     ]
    },
    {
     "name": "stdout",
     "output_type": "stream",
     "text": [
      "102 "
     ]
    },
    {
     "name": "stderr",
     "output_type": "stream",
     "text": [
      "C:\\Users\\Omar\\AppData\\Local\\Temp\\ipykernel_9936\\11057769.py:44: FutureWarning: The frame.append method is deprecated and will be removed from pandas in a future version. Use pandas.concat instead.\n",
      "  self.tick_data = self.tick_data.append(df)\n"
     ]
    },
    {
     "name": "stdout",
     "output_type": "stream",
     "text": [
      "103 "
     ]
    },
    {
     "name": "stderr",
     "output_type": "stream",
     "text": [
      "C:\\Users\\Omar\\AppData\\Local\\Temp\\ipykernel_9936\\11057769.py:44: FutureWarning: The frame.append method is deprecated and will be removed from pandas in a future version. Use pandas.concat instead.\n",
      "  self.tick_data = self.tick_data.append(df)\n"
     ]
    },
    {
     "name": "stdout",
     "output_type": "stream",
     "text": [
      "104 "
     ]
    },
    {
     "name": "stderr",
     "output_type": "stream",
     "text": [
      "C:\\Users\\Omar\\AppData\\Local\\Temp\\ipykernel_9936\\11057769.py:44: FutureWarning: The frame.append method is deprecated and will be removed from pandas in a future version. Use pandas.concat instead.\n",
      "  self.tick_data = self.tick_data.append(df)\n"
     ]
    },
    {
     "name": "stdout",
     "output_type": "stream",
     "text": [
      "105 "
     ]
    },
    {
     "name": "stderr",
     "output_type": "stream",
     "text": [
      "C:\\Users\\Omar\\AppData\\Local\\Temp\\ipykernel_9936\\11057769.py:44: FutureWarning: The frame.append method is deprecated and will be removed from pandas in a future version. Use pandas.concat instead.\n",
      "  self.tick_data = self.tick_data.append(df)\n"
     ]
    },
    {
     "name": "stdout",
     "output_type": "stream",
     "text": [
      "106 "
     ]
    },
    {
     "name": "stderr",
     "output_type": "stream",
     "text": [
      "C:\\Users\\Omar\\AppData\\Local\\Temp\\ipykernel_9936\\11057769.py:44: FutureWarning: The frame.append method is deprecated and will be removed from pandas in a future version. Use pandas.concat instead.\n",
      "  self.tick_data = self.tick_data.append(df)\n"
     ]
    },
    {
     "name": "stdout",
     "output_type": "stream",
     "text": [
      "107 "
     ]
    },
    {
     "name": "stderr",
     "output_type": "stream",
     "text": [
      "C:\\Users\\Omar\\AppData\\Local\\Temp\\ipykernel_9936\\11057769.py:44: FutureWarning: The frame.append method is deprecated and will be removed from pandas in a future version. Use pandas.concat instead.\n",
      "  self.tick_data = self.tick_data.append(df)\n"
     ]
    },
    {
     "name": "stdout",
     "output_type": "stream",
     "text": [
      "108 "
     ]
    },
    {
     "name": "stderr",
     "output_type": "stream",
     "text": [
      "C:\\Users\\Omar\\AppData\\Local\\Temp\\ipykernel_9936\\11057769.py:44: FutureWarning: The frame.append method is deprecated and will be removed from pandas in a future version. Use pandas.concat instead.\n",
      "  self.tick_data = self.tick_data.append(df)\n"
     ]
    },
    {
     "name": "stdout",
     "output_type": "stream",
     "text": [
      "109 "
     ]
    },
    {
     "name": "stderr",
     "output_type": "stream",
     "text": [
      "C:\\Users\\Omar\\AppData\\Local\\Temp\\ipykernel_9936\\11057769.py:44: FutureWarning: The frame.append method is deprecated and will be removed from pandas in a future version. Use pandas.concat instead.\n",
      "  self.tick_data = self.tick_data.append(df)\n"
     ]
    },
    {
     "name": "stdout",
     "output_type": "stream",
     "text": [
      "110 "
     ]
    },
    {
     "name": "stderr",
     "output_type": "stream",
     "text": [
      "C:\\Users\\Omar\\AppData\\Local\\Temp\\ipykernel_9936\\11057769.py:44: FutureWarning: The frame.append method is deprecated and will be removed from pandas in a future version. Use pandas.concat instead.\n",
      "  self.tick_data = self.tick_data.append(df)\n"
     ]
    },
    {
     "name": "stdout",
     "output_type": "stream",
     "text": [
      "111 "
     ]
    },
    {
     "name": "stderr",
     "output_type": "stream",
     "text": [
      "C:\\Users\\Omar\\AppData\\Local\\Temp\\ipykernel_9936\\11057769.py:44: FutureWarning: The frame.append method is deprecated and will be removed from pandas in a future version. Use pandas.concat instead.\n",
      "  self.tick_data = self.tick_data.append(df)\n"
     ]
    },
    {
     "name": "stdout",
     "output_type": "stream",
     "text": [
      "112 "
     ]
    },
    {
     "name": "stderr",
     "output_type": "stream",
     "text": [
      "C:\\Users\\Omar\\AppData\\Local\\Temp\\ipykernel_9936\\11057769.py:44: FutureWarning: The frame.append method is deprecated and will be removed from pandas in a future version. Use pandas.concat instead.\n",
      "  self.tick_data = self.tick_data.append(df)\n"
     ]
    },
    {
     "name": "stdout",
     "output_type": "stream",
     "text": [
      "113 "
     ]
    },
    {
     "name": "stderr",
     "output_type": "stream",
     "text": [
      "C:\\Users\\Omar\\AppData\\Local\\Temp\\ipykernel_9936\\11057769.py:44: FutureWarning: The frame.append method is deprecated and will be removed from pandas in a future version. Use pandas.concat instead.\n",
      "  self.tick_data = self.tick_data.append(df)\n"
     ]
    },
    {
     "name": "stdout",
     "output_type": "stream",
     "text": [
      "114 "
     ]
    },
    {
     "name": "stderr",
     "output_type": "stream",
     "text": [
      "C:\\Users\\Omar\\AppData\\Local\\Temp\\ipykernel_9936\\11057769.py:44: FutureWarning: The frame.append method is deprecated and will be removed from pandas in a future version. Use pandas.concat instead.\n",
      "  self.tick_data = self.tick_data.append(df)\n"
     ]
    },
    {
     "name": "stdout",
     "output_type": "stream",
     "text": [
      "115 "
     ]
    },
    {
     "name": "stderr",
     "output_type": "stream",
     "text": [
      "C:\\Users\\Omar\\AppData\\Local\\Temp\\ipykernel_9936\\11057769.py:44: FutureWarning: The frame.append method is deprecated and will be removed from pandas in a future version. Use pandas.concat instead.\n",
      "  self.tick_data = self.tick_data.append(df)\n"
     ]
    },
    {
     "name": "stdout",
     "output_type": "stream",
     "text": [
      "116 "
     ]
    },
    {
     "name": "stderr",
     "output_type": "stream",
     "text": [
      "C:\\Users\\Omar\\AppData\\Local\\Temp\\ipykernel_9936\\11057769.py:44: FutureWarning: The frame.append method is deprecated and will be removed from pandas in a future version. Use pandas.concat instead.\n",
      "  self.tick_data = self.tick_data.append(df)\n"
     ]
    },
    {
     "name": "stdout",
     "output_type": "stream",
     "text": [
      "117 "
     ]
    },
    {
     "name": "stderr",
     "output_type": "stream",
     "text": [
      "C:\\Users\\Omar\\AppData\\Local\\Temp\\ipykernel_9936\\11057769.py:44: FutureWarning: The frame.append method is deprecated and will be removed from pandas in a future version. Use pandas.concat instead.\n",
      "  self.tick_data = self.tick_data.append(df)\n"
     ]
    },
    {
     "name": "stdout",
     "output_type": "stream",
     "text": [
      "118 "
     ]
    },
    {
     "name": "stderr",
     "output_type": "stream",
     "text": [
      "C:\\Users\\Omar\\AppData\\Local\\Temp\\ipykernel_9936\\11057769.py:44: FutureWarning: The frame.append method is deprecated and will be removed from pandas in a future version. Use pandas.concat instead.\n",
      "  self.tick_data = self.tick_data.append(df)\n"
     ]
    },
    {
     "name": "stdout",
     "output_type": "stream",
     "text": [
      "119 "
     ]
    },
    {
     "name": "stderr",
     "output_type": "stream",
     "text": [
      "C:\\Users\\Omar\\AppData\\Local\\Temp\\ipykernel_9936\\11057769.py:44: FutureWarning: The frame.append method is deprecated and will be removed from pandas in a future version. Use pandas.concat instead.\n",
      "  self.tick_data = self.tick_data.append(df)\n"
     ]
    },
    {
     "name": "stdout",
     "output_type": "stream",
     "text": [
      "120 "
     ]
    },
    {
     "name": "stderr",
     "output_type": "stream",
     "text": [
      "C:\\Users\\Omar\\AppData\\Local\\Temp\\ipykernel_9936\\11057769.py:44: FutureWarning: The frame.append method is deprecated and will be removed from pandas in a future version. Use pandas.concat instead.\n",
      "  self.tick_data = self.tick_data.append(df)\n"
     ]
    },
    {
     "name": "stdout",
     "output_type": "stream",
     "text": [
      "121 "
     ]
    },
    {
     "name": "stderr",
     "output_type": "stream",
     "text": [
      "C:\\Users\\Omar\\AppData\\Local\\Temp\\ipykernel_9936\\11057769.py:44: FutureWarning: The frame.append method is deprecated and will be removed from pandas in a future version. Use pandas.concat instead.\n",
      "  self.tick_data = self.tick_data.append(df)\n"
     ]
    },
    {
     "name": "stdout",
     "output_type": "stream",
     "text": [
      "122 "
     ]
    },
    {
     "name": "stderr",
     "output_type": "stream",
     "text": [
      "C:\\Users\\Omar\\AppData\\Local\\Temp\\ipykernel_9936\\11057769.py:44: FutureWarning: The frame.append method is deprecated and will be removed from pandas in a future version. Use pandas.concat instead.\n",
      "  self.tick_data = self.tick_data.append(df)\n"
     ]
    },
    {
     "name": "stdout",
     "output_type": "stream",
     "text": [
      "123 "
     ]
    },
    {
     "name": "stderr",
     "output_type": "stream",
     "text": [
      "C:\\Users\\Omar\\AppData\\Local\\Temp\\ipykernel_9936\\11057769.py:44: FutureWarning: The frame.append method is deprecated and will be removed from pandas in a future version. Use pandas.concat instead.\n",
      "  self.tick_data = self.tick_data.append(df)\n"
     ]
    },
    {
     "name": "stdout",
     "output_type": "stream",
     "text": [
      "124 "
     ]
    },
    {
     "name": "stderr",
     "output_type": "stream",
     "text": [
      "C:\\Users\\Omar\\AppData\\Local\\Temp\\ipykernel_9936\\11057769.py:44: FutureWarning: The frame.append method is deprecated and will be removed from pandas in a future version. Use pandas.concat instead.\n",
      "  self.tick_data = self.tick_data.append(df)\n"
     ]
    },
    {
     "name": "stdout",
     "output_type": "stream",
     "text": [
      "125 "
     ]
    },
    {
     "name": "stderr",
     "output_type": "stream",
     "text": [
      "C:\\Users\\Omar\\AppData\\Local\\Temp\\ipykernel_9936\\11057769.py:44: FutureWarning: The frame.append method is deprecated and will be removed from pandas in a future version. Use pandas.concat instead.\n",
      "  self.tick_data = self.tick_data.append(df)\n"
     ]
    },
    {
     "name": "stdout",
     "output_type": "stream",
     "text": [
      "126 "
     ]
    },
    {
     "name": "stderr",
     "output_type": "stream",
     "text": [
      "C:\\Users\\Omar\\AppData\\Local\\Temp\\ipykernel_9936\\11057769.py:44: FutureWarning: The frame.append method is deprecated and will be removed from pandas in a future version. Use pandas.concat instead.\n",
      "  self.tick_data = self.tick_data.append(df)\n"
     ]
    },
    {
     "name": "stdout",
     "output_type": "stream",
     "text": [
      "127 "
     ]
    },
    {
     "name": "stderr",
     "output_type": "stream",
     "text": [
      "C:\\Users\\Omar\\AppData\\Local\\Temp\\ipykernel_9936\\11057769.py:44: FutureWarning: The frame.append method is deprecated and will be removed from pandas in a future version. Use pandas.concat instead.\n",
      "  self.tick_data = self.tick_data.append(df)\n"
     ]
    },
    {
     "name": "stdout",
     "output_type": "stream",
     "text": [
      "128 "
     ]
    },
    {
     "name": "stderr",
     "output_type": "stream",
     "text": [
      "C:\\Users\\Omar\\AppData\\Local\\Temp\\ipykernel_9936\\11057769.py:44: FutureWarning: The frame.append method is deprecated and will be removed from pandas in a future version. Use pandas.concat instead.\n",
      "  self.tick_data = self.tick_data.append(df)\n"
     ]
    },
    {
     "name": "stdout",
     "output_type": "stream",
     "text": [
      "129 "
     ]
    },
    {
     "name": "stderr",
     "output_type": "stream",
     "text": [
      "C:\\Users\\Omar\\AppData\\Local\\Temp\\ipykernel_9936\\11057769.py:44: FutureWarning: The frame.append method is deprecated and will be removed from pandas in a future version. Use pandas.concat instead.\n",
      "  self.tick_data = self.tick_data.append(df)\n"
     ]
    },
    {
     "name": "stdout",
     "output_type": "stream",
     "text": [
      "130 "
     ]
    },
    {
     "name": "stderr",
     "output_type": "stream",
     "text": [
      "C:\\Users\\Omar\\AppData\\Local\\Temp\\ipykernel_9936\\11057769.py:44: FutureWarning: The frame.append method is deprecated and will be removed from pandas in a future version. Use pandas.concat instead.\n",
      "  self.tick_data = self.tick_data.append(df)\n"
     ]
    },
    {
     "name": "stdout",
     "output_type": "stream",
     "text": [
      "131 "
     ]
    },
    {
     "name": "stderr",
     "output_type": "stream",
     "text": [
      "C:\\Users\\Omar\\AppData\\Local\\Temp\\ipykernel_9936\\11057769.py:44: FutureWarning: The frame.append method is deprecated and will be removed from pandas in a future version. Use pandas.concat instead.\n",
      "  self.tick_data = self.tick_data.append(df)\n"
     ]
    },
    {
     "name": "stdout",
     "output_type": "stream",
     "text": [
      "132 "
     ]
    },
    {
     "name": "stderr",
     "output_type": "stream",
     "text": [
      "C:\\Users\\Omar\\AppData\\Local\\Temp\\ipykernel_9936\\11057769.py:44: FutureWarning: The frame.append method is deprecated and will be removed from pandas in a future version. Use pandas.concat instead.\n",
      "  self.tick_data = self.tick_data.append(df)\n"
     ]
    },
    {
     "name": "stdout",
     "output_type": "stream",
     "text": [
      "133 "
     ]
    },
    {
     "name": "stderr",
     "output_type": "stream",
     "text": [
      "C:\\Users\\Omar\\AppData\\Local\\Temp\\ipykernel_9936\\11057769.py:44: FutureWarning: The frame.append method is deprecated and will be removed from pandas in a future version. Use pandas.concat instead.\n",
      "  self.tick_data = self.tick_data.append(df)\n"
     ]
    },
    {
     "name": "stdout",
     "output_type": "stream",
     "text": [
      "134 "
     ]
    },
    {
     "name": "stderr",
     "output_type": "stream",
     "text": [
      "C:\\Users\\Omar\\AppData\\Local\\Temp\\ipykernel_9936\\11057769.py:44: FutureWarning: The frame.append method is deprecated and will be removed from pandas in a future version. Use pandas.concat instead.\n",
      "  self.tick_data = self.tick_data.append(df)\n"
     ]
    },
    {
     "name": "stdout",
     "output_type": "stream",
     "text": [
      "135 "
     ]
    },
    {
     "name": "stderr",
     "output_type": "stream",
     "text": [
      "C:\\Users\\Omar\\AppData\\Local\\Temp\\ipykernel_9936\\11057769.py:44: FutureWarning: The frame.append method is deprecated and will be removed from pandas in a future version. Use pandas.concat instead.\n",
      "  self.tick_data = self.tick_data.append(df)\n"
     ]
    },
    {
     "name": "stdout",
     "output_type": "stream",
     "text": [
      "136 "
     ]
    },
    {
     "name": "stderr",
     "output_type": "stream",
     "text": [
      "C:\\Users\\Omar\\AppData\\Local\\Temp\\ipykernel_9936\\11057769.py:44: FutureWarning: The frame.append method is deprecated and will be removed from pandas in a future version. Use pandas.concat instead.\n",
      "  self.tick_data = self.tick_data.append(df)\n"
     ]
    },
    {
     "name": "stdout",
     "output_type": "stream",
     "text": [
      "137 "
     ]
    },
    {
     "name": "stderr",
     "output_type": "stream",
     "text": [
      "C:\\Users\\Omar\\AppData\\Local\\Temp\\ipykernel_9936\\11057769.py:44: FutureWarning: The frame.append method is deprecated and will be removed from pandas in a future version. Use pandas.concat instead.\n",
      "  self.tick_data = self.tick_data.append(df)\n"
     ]
    },
    {
     "name": "stdout",
     "output_type": "stream",
     "text": [
      "138 "
     ]
    },
    {
     "name": "stderr",
     "output_type": "stream",
     "text": [
      "C:\\Users\\Omar\\AppData\\Local\\Temp\\ipykernel_9936\\11057769.py:44: FutureWarning: The frame.append method is deprecated and will be removed from pandas in a future version. Use pandas.concat instead.\n",
      "  self.tick_data = self.tick_data.append(df)\n"
     ]
    },
    {
     "name": "stdout",
     "output_type": "stream",
     "text": [
      "139 "
     ]
    },
    {
     "name": "stderr",
     "output_type": "stream",
     "text": [
      "C:\\Users\\Omar\\AppData\\Local\\Temp\\ipykernel_9936\\11057769.py:44: FutureWarning: The frame.append method is deprecated and will be removed from pandas in a future version. Use pandas.concat instead.\n",
      "  self.tick_data = self.tick_data.append(df)\n"
     ]
    },
    {
     "name": "stdout",
     "output_type": "stream",
     "text": [
      "140 "
     ]
    },
    {
     "name": "stderr",
     "output_type": "stream",
     "text": [
      "C:\\Users\\Omar\\AppData\\Local\\Temp\\ipykernel_9936\\11057769.py:44: FutureWarning: The frame.append method is deprecated and will be removed from pandas in a future version. Use pandas.concat instead.\n",
      "  self.tick_data = self.tick_data.append(df)\n"
     ]
    },
    {
     "name": "stdout",
     "output_type": "stream",
     "text": [
      "141 "
     ]
    },
    {
     "name": "stderr",
     "output_type": "stream",
     "text": [
      "C:\\Users\\Omar\\AppData\\Local\\Temp\\ipykernel_9936\\11057769.py:44: FutureWarning: The frame.append method is deprecated and will be removed from pandas in a future version. Use pandas.concat instead.\n",
      "  self.tick_data = self.tick_data.append(df)\n"
     ]
    },
    {
     "name": "stdout",
     "output_type": "stream",
     "text": [
      "142 "
     ]
    },
    {
     "name": "stderr",
     "output_type": "stream",
     "text": [
      "C:\\Users\\Omar\\AppData\\Local\\Temp\\ipykernel_9936\\11057769.py:44: FutureWarning: The frame.append method is deprecated and will be removed from pandas in a future version. Use pandas.concat instead.\n",
      "  self.tick_data = self.tick_data.append(df)\n"
     ]
    },
    {
     "name": "stdout",
     "output_type": "stream",
     "text": [
      "143 "
     ]
    },
    {
     "name": "stderr",
     "output_type": "stream",
     "text": [
      "C:\\Users\\Omar\\AppData\\Local\\Temp\\ipykernel_9936\\11057769.py:44: FutureWarning: The frame.append method is deprecated and will be removed from pandas in a future version. Use pandas.concat instead.\n",
      "  self.tick_data = self.tick_data.append(df)\n"
     ]
    },
    {
     "name": "stdout",
     "output_type": "stream",
     "text": [
      "144 "
     ]
    },
    {
     "name": "stderr",
     "output_type": "stream",
     "text": [
      "C:\\Users\\Omar\\AppData\\Local\\Temp\\ipykernel_9936\\11057769.py:44: FutureWarning: The frame.append method is deprecated and will be removed from pandas in a future version. Use pandas.concat instead.\n",
      "  self.tick_data = self.tick_data.append(df)\n"
     ]
    },
    {
     "name": "stdout",
     "output_type": "stream",
     "text": [
      "145 "
     ]
    },
    {
     "name": "stderr",
     "output_type": "stream",
     "text": [
      "C:\\Users\\Omar\\AppData\\Local\\Temp\\ipykernel_9936\\11057769.py:44: FutureWarning: The frame.append method is deprecated and will be removed from pandas in a future version. Use pandas.concat instead.\n",
      "  self.tick_data = self.tick_data.append(df)\n"
     ]
    },
    {
     "name": "stdout",
     "output_type": "stream",
     "text": [
      "146 "
     ]
    },
    {
     "name": "stderr",
     "output_type": "stream",
     "text": [
      "C:\\Users\\Omar\\AppData\\Local\\Temp\\ipykernel_9936\\11057769.py:44: FutureWarning: The frame.append method is deprecated and will be removed from pandas in a future version. Use pandas.concat instead.\n",
      "  self.tick_data = self.tick_data.append(df)\n"
     ]
    },
    {
     "name": "stdout",
     "output_type": "stream",
     "text": [
      "147 "
     ]
    },
    {
     "name": "stderr",
     "output_type": "stream",
     "text": [
      "C:\\Users\\Omar\\AppData\\Local\\Temp\\ipykernel_9936\\11057769.py:44: FutureWarning: The frame.append method is deprecated and will be removed from pandas in a future version. Use pandas.concat instead.\n",
      "  self.tick_data = self.tick_data.append(df)\n"
     ]
    },
    {
     "name": "stdout",
     "output_type": "stream",
     "text": [
      "148 "
     ]
    },
    {
     "name": "stderr",
     "output_type": "stream",
     "text": [
      "C:\\Users\\Omar\\AppData\\Local\\Temp\\ipykernel_9936\\11057769.py:44: FutureWarning: The frame.append method is deprecated and will be removed from pandas in a future version. Use pandas.concat instead.\n",
      "  self.tick_data = self.tick_data.append(df)\n"
     ]
    },
    {
     "name": "stdout",
     "output_type": "stream",
     "text": [
      "149 "
     ]
    },
    {
     "name": "stderr",
     "output_type": "stream",
     "text": [
      "C:\\Users\\Omar\\AppData\\Local\\Temp\\ipykernel_9936\\11057769.py:44: FutureWarning: The frame.append method is deprecated and will be removed from pandas in a future version. Use pandas.concat instead.\n",
      "  self.tick_data = self.tick_data.append(df)\n"
     ]
    },
    {
     "name": "stdout",
     "output_type": "stream",
     "text": [
      "150 "
     ]
    },
    {
     "name": "stderr",
     "output_type": "stream",
     "text": [
      "C:\\Users\\Omar\\AppData\\Local\\Temp\\ipykernel_9936\\11057769.py:44: FutureWarning: The frame.append method is deprecated and will be removed from pandas in a future version. Use pandas.concat instead.\n",
      "  self.tick_data = self.tick_data.append(df)\n"
     ]
    },
    {
     "name": "stdout",
     "output_type": "stream",
     "text": [
      "151 "
     ]
    },
    {
     "name": "stderr",
     "output_type": "stream",
     "text": [
      "C:\\Users\\Omar\\AppData\\Local\\Temp\\ipykernel_9936\\11057769.py:44: FutureWarning: The frame.append method is deprecated and will be removed from pandas in a future version. Use pandas.concat instead.\n",
      "  self.tick_data = self.tick_data.append(df)\n"
     ]
    },
    {
     "name": "stdout",
     "output_type": "stream",
     "text": [
      "152 "
     ]
    },
    {
     "name": "stderr",
     "output_type": "stream",
     "text": [
      "C:\\Users\\Omar\\AppData\\Local\\Temp\\ipykernel_9936\\11057769.py:44: FutureWarning: The frame.append method is deprecated and will be removed from pandas in a future version. Use pandas.concat instead.\n",
      "  self.tick_data = self.tick_data.append(df)\n"
     ]
    },
    {
     "name": "stdout",
     "output_type": "stream",
     "text": [
      "153 "
     ]
    },
    {
     "name": "stderr",
     "output_type": "stream",
     "text": [
      "C:\\Users\\Omar\\AppData\\Local\\Temp\\ipykernel_9936\\11057769.py:44: FutureWarning: The frame.append method is deprecated and will be removed from pandas in a future version. Use pandas.concat instead.\n",
      "  self.tick_data = self.tick_data.append(df)\n"
     ]
    },
    {
     "name": "stdout",
     "output_type": "stream",
     "text": [
      "154 "
     ]
    },
    {
     "name": "stderr",
     "output_type": "stream",
     "text": [
      "C:\\Users\\Omar\\AppData\\Local\\Temp\\ipykernel_9936\\11057769.py:44: FutureWarning: The frame.append method is deprecated and will be removed from pandas in a future version. Use pandas.concat instead.\n",
      "  self.tick_data = self.tick_data.append(df)\n"
     ]
    },
    {
     "name": "stdout",
     "output_type": "stream",
     "text": [
      "155 "
     ]
    },
    {
     "name": "stderr",
     "output_type": "stream",
     "text": [
      "C:\\Users\\Omar\\AppData\\Local\\Temp\\ipykernel_9936\\11057769.py:44: FutureWarning: The frame.append method is deprecated and will be removed from pandas in a future version. Use pandas.concat instead.\n",
      "  self.tick_data = self.tick_data.append(df)\n"
     ]
    },
    {
     "name": "stdout",
     "output_type": "stream",
     "text": [
      "156 "
     ]
    },
    {
     "name": "stderr",
     "output_type": "stream",
     "text": [
      "C:\\Users\\Omar\\AppData\\Local\\Temp\\ipykernel_9936\\11057769.py:44: FutureWarning: The frame.append method is deprecated and will be removed from pandas in a future version. Use pandas.concat instead.\n",
      "  self.tick_data = self.tick_data.append(df)\n"
     ]
    },
    {
     "name": "stdout",
     "output_type": "stream",
     "text": [
      "157 "
     ]
    },
    {
     "name": "stderr",
     "output_type": "stream",
     "text": [
      "C:\\Users\\Omar\\AppData\\Local\\Temp\\ipykernel_9936\\11057769.py:44: FutureWarning: The frame.append method is deprecated and will be removed from pandas in a future version. Use pandas.concat instead.\n",
      "  self.tick_data = self.tick_data.append(df)\n"
     ]
    },
    {
     "name": "stdout",
     "output_type": "stream",
     "text": [
      "158 "
     ]
    },
    {
     "name": "stderr",
     "output_type": "stream",
     "text": [
      "C:\\Users\\Omar\\AppData\\Local\\Temp\\ipykernel_9936\\11057769.py:44: FutureWarning: The frame.append method is deprecated and will be removed from pandas in a future version. Use pandas.concat instead.\n",
      "  self.tick_data = self.tick_data.append(df)\n"
     ]
    },
    {
     "name": "stdout",
     "output_type": "stream",
     "text": [
      "159 "
     ]
    },
    {
     "name": "stderr",
     "output_type": "stream",
     "text": [
      "C:\\Users\\Omar\\AppData\\Local\\Temp\\ipykernel_9936\\11057769.py:44: FutureWarning: The frame.append method is deprecated and will be removed from pandas in a future version. Use pandas.concat instead.\n",
      "  self.tick_data = self.tick_data.append(df)\n"
     ]
    },
    {
     "name": "stdout",
     "output_type": "stream",
     "text": [
      "160 "
     ]
    },
    {
     "name": "stderr",
     "output_type": "stream",
     "text": [
      "C:\\Users\\Omar\\AppData\\Local\\Temp\\ipykernel_9936\\11057769.py:44: FutureWarning: The frame.append method is deprecated and will be removed from pandas in a future version. Use pandas.concat instead.\n",
      "  self.tick_data = self.tick_data.append(df)\n"
     ]
    },
    {
     "name": "stdout",
     "output_type": "stream",
     "text": [
      "161 "
     ]
    },
    {
     "name": "stderr",
     "output_type": "stream",
     "text": [
      "C:\\Users\\Omar\\AppData\\Local\\Temp\\ipykernel_9936\\11057769.py:44: FutureWarning: The frame.append method is deprecated and will be removed from pandas in a future version. Use pandas.concat instead.\n",
      "  self.tick_data = self.tick_data.append(df)\n"
     ]
    },
    {
     "name": "stdout",
     "output_type": "stream",
     "text": [
      "162 "
     ]
    },
    {
     "name": "stderr",
     "output_type": "stream",
     "text": [
      "C:\\Users\\Omar\\AppData\\Local\\Temp\\ipykernel_9936\\11057769.py:44: FutureWarning: The frame.append method is deprecated and will be removed from pandas in a future version. Use pandas.concat instead.\n",
      "  self.tick_data = self.tick_data.append(df)\n"
     ]
    },
    {
     "name": "stdout",
     "output_type": "stream",
     "text": [
      "163 "
     ]
    },
    {
     "name": "stderr",
     "output_type": "stream",
     "text": [
      "C:\\Users\\Omar\\AppData\\Local\\Temp\\ipykernel_9936\\11057769.py:44: FutureWarning: The frame.append method is deprecated and will be removed from pandas in a future version. Use pandas.concat instead.\n",
      "  self.tick_data = self.tick_data.append(df)\n"
     ]
    },
    {
     "name": "stdout",
     "output_type": "stream",
     "text": [
      "164 "
     ]
    },
    {
     "name": "stderr",
     "output_type": "stream",
     "text": [
      "C:\\Users\\Omar\\AppData\\Local\\Temp\\ipykernel_9936\\11057769.py:44: FutureWarning: The frame.append method is deprecated and will be removed from pandas in a future version. Use pandas.concat instead.\n",
      "  self.tick_data = self.tick_data.append(df)\n"
     ]
    },
    {
     "name": "stdout",
     "output_type": "stream",
     "text": [
      "165 "
     ]
    },
    {
     "name": "stderr",
     "output_type": "stream",
     "text": [
      "C:\\Users\\Omar\\AppData\\Local\\Temp\\ipykernel_9936\\11057769.py:44: FutureWarning: The frame.append method is deprecated and will be removed from pandas in a future version. Use pandas.concat instead.\n",
      "  self.tick_data = self.tick_data.append(df)\n"
     ]
    },
    {
     "name": "stdout",
     "output_type": "stream",
     "text": [
      "166 "
     ]
    },
    {
     "name": "stderr",
     "output_type": "stream",
     "text": [
      "C:\\Users\\Omar\\AppData\\Local\\Temp\\ipykernel_9936\\11057769.py:44: FutureWarning: The frame.append method is deprecated and will be removed from pandas in a future version. Use pandas.concat instead.\n",
      "  self.tick_data = self.tick_data.append(df)\n"
     ]
    },
    {
     "name": "stdout",
     "output_type": "stream",
     "text": [
      "167 "
     ]
    },
    {
     "name": "stderr",
     "output_type": "stream",
     "text": [
      "C:\\Users\\Omar\\AppData\\Local\\Temp\\ipykernel_9936\\11057769.py:44: FutureWarning: The frame.append method is deprecated and will be removed from pandas in a future version. Use pandas.concat instead.\n",
      "  self.tick_data = self.tick_data.append(df)\n"
     ]
    },
    {
     "name": "stdout",
     "output_type": "stream",
     "text": [
      "168 "
     ]
    },
    {
     "name": "stderr",
     "output_type": "stream",
     "text": [
      "C:\\Users\\Omar\\AppData\\Local\\Temp\\ipykernel_9936\\11057769.py:44: FutureWarning: The frame.append method is deprecated and will be removed from pandas in a future version. Use pandas.concat instead.\n",
      "  self.tick_data = self.tick_data.append(df)\n"
     ]
    },
    {
     "name": "stdout",
     "output_type": "stream",
     "text": [
      "169 "
     ]
    },
    {
     "name": "stderr",
     "output_type": "stream",
     "text": [
      "C:\\Users\\Omar\\AppData\\Local\\Temp\\ipykernel_9936\\11057769.py:44: FutureWarning: The frame.append method is deprecated and will be removed from pandas in a future version. Use pandas.concat instead.\n",
      "  self.tick_data = self.tick_data.append(df)\n"
     ]
    },
    {
     "name": "stdout",
     "output_type": "stream",
     "text": [
      "170 "
     ]
    },
    {
     "name": "stderr",
     "output_type": "stream",
     "text": [
      "C:\\Users\\Omar\\AppData\\Local\\Temp\\ipykernel_9936\\11057769.py:44: FutureWarning: The frame.append method is deprecated and will be removed from pandas in a future version. Use pandas.concat instead.\n",
      "  self.tick_data = self.tick_data.append(df)\n"
     ]
    },
    {
     "name": "stdout",
     "output_type": "stream",
     "text": [
      "171 "
     ]
    },
    {
     "name": "stderr",
     "output_type": "stream",
     "text": [
      "C:\\Users\\Omar\\AppData\\Local\\Temp\\ipykernel_9936\\11057769.py:44: FutureWarning: The frame.append method is deprecated and will be removed from pandas in a future version. Use pandas.concat instead.\n",
      "  self.tick_data = self.tick_data.append(df)\n"
     ]
    },
    {
     "name": "stdout",
     "output_type": "stream",
     "text": [
      "172 "
     ]
    },
    {
     "name": "stderr",
     "output_type": "stream",
     "text": [
      "C:\\Users\\Omar\\AppData\\Local\\Temp\\ipykernel_9936\\11057769.py:44: FutureWarning: The frame.append method is deprecated and will be removed from pandas in a future version. Use pandas.concat instead.\n",
      "  self.tick_data = self.tick_data.append(df)\n"
     ]
    },
    {
     "name": "stdout",
     "output_type": "stream",
     "text": [
      "173 "
     ]
    },
    {
     "name": "stderr",
     "output_type": "stream",
     "text": [
      "C:\\Users\\Omar\\AppData\\Local\\Temp\\ipykernel_9936\\11057769.py:44: FutureWarning: The frame.append method is deprecated and will be removed from pandas in a future version. Use pandas.concat instead.\n",
      "  self.tick_data = self.tick_data.append(df)\n"
     ]
    },
    {
     "name": "stdout",
     "output_type": "stream",
     "text": [
      "174 "
     ]
    },
    {
     "name": "stderr",
     "output_type": "stream",
     "text": [
      "C:\\Users\\Omar\\AppData\\Local\\Temp\\ipykernel_9936\\11057769.py:44: FutureWarning: The frame.append method is deprecated and will be removed from pandas in a future version. Use pandas.concat instead.\n",
      "  self.tick_data = self.tick_data.append(df)\n"
     ]
    },
    {
     "name": "stdout",
     "output_type": "stream",
     "text": [
      "175 "
     ]
    },
    {
     "name": "stderr",
     "output_type": "stream",
     "text": [
      "C:\\Users\\Omar\\AppData\\Local\\Temp\\ipykernel_9936\\11057769.py:44: FutureWarning: The frame.append method is deprecated and will be removed from pandas in a future version. Use pandas.concat instead.\n",
      "  self.tick_data = self.tick_data.append(df)\n"
     ]
    },
    {
     "name": "stdout",
     "output_type": "stream",
     "text": [
      "176 "
     ]
    },
    {
     "name": "stderr",
     "output_type": "stream",
     "text": [
      "C:\\Users\\Omar\\AppData\\Local\\Temp\\ipykernel_9936\\11057769.py:44: FutureWarning: The frame.append method is deprecated and will be removed from pandas in a future version. Use pandas.concat instead.\n",
      "  self.tick_data = self.tick_data.append(df)\n"
     ]
    },
    {
     "name": "stdout",
     "output_type": "stream",
     "text": [
      "177 "
     ]
    },
    {
     "name": "stderr",
     "output_type": "stream",
     "text": [
      "C:\\Users\\Omar\\AppData\\Local\\Temp\\ipykernel_9936\\11057769.py:44: FutureWarning: The frame.append method is deprecated and will be removed from pandas in a future version. Use pandas.concat instead.\n",
      "  self.tick_data = self.tick_data.append(df)\n"
     ]
    },
    {
     "name": "stdout",
     "output_type": "stream",
     "text": [
      "178 "
     ]
    },
    {
     "name": "stderr",
     "output_type": "stream",
     "text": [
      "C:\\Users\\Omar\\AppData\\Local\\Temp\\ipykernel_9936\\11057769.py:44: FutureWarning: The frame.append method is deprecated and will be removed from pandas in a future version. Use pandas.concat instead.\n",
      "  self.tick_data = self.tick_data.append(df)\n"
     ]
    },
    {
     "name": "stdout",
     "output_type": "stream",
     "text": [
      "179 "
     ]
    },
    {
     "name": "stderr",
     "output_type": "stream",
     "text": [
      "C:\\Users\\Omar\\AppData\\Local\\Temp\\ipykernel_9936\\11057769.py:44: FutureWarning: The frame.append method is deprecated and will be removed from pandas in a future version. Use pandas.concat instead.\n",
      "  self.tick_data = self.tick_data.append(df)\n"
     ]
    },
    {
     "name": "stdout",
     "output_type": "stream",
     "text": [
      "180 "
     ]
    },
    {
     "name": "stderr",
     "output_type": "stream",
     "text": [
      "C:\\Users\\Omar\\AppData\\Local\\Temp\\ipykernel_9936\\11057769.py:44: FutureWarning: The frame.append method is deprecated and will be removed from pandas in a future version. Use pandas.concat instead.\n",
      "  self.tick_data = self.tick_data.append(df)\n"
     ]
    },
    {
     "name": "stdout",
     "output_type": "stream",
     "text": [
      "181 "
     ]
    },
    {
     "name": "stderr",
     "output_type": "stream",
     "text": [
      "C:\\Users\\Omar\\AppData\\Local\\Temp\\ipykernel_9936\\11057769.py:44: FutureWarning: The frame.append method is deprecated and will be removed from pandas in a future version. Use pandas.concat instead.\n",
      "  self.tick_data = self.tick_data.append(df)\n"
     ]
    },
    {
     "name": "stdout",
     "output_type": "stream",
     "text": [
      "182 "
     ]
    },
    {
     "name": "stderr",
     "output_type": "stream",
     "text": [
      "C:\\Users\\Omar\\AppData\\Local\\Temp\\ipykernel_9936\\11057769.py:44: FutureWarning: The frame.append method is deprecated and will be removed from pandas in a future version. Use pandas.concat instead.\n",
      "  self.tick_data = self.tick_data.append(df)\n"
     ]
    },
    {
     "name": "stdout",
     "output_type": "stream",
     "text": [
      "183 "
     ]
    },
    {
     "name": "stderr",
     "output_type": "stream",
     "text": [
      "C:\\Users\\Omar\\AppData\\Local\\Temp\\ipykernel_9936\\11057769.py:44: FutureWarning: The frame.append method is deprecated and will be removed from pandas in a future version. Use pandas.concat instead.\n",
      "  self.tick_data = self.tick_data.append(df)\n"
     ]
    },
    {
     "name": "stdout",
     "output_type": "stream",
     "text": [
      "184 "
     ]
    },
    {
     "name": "stderr",
     "output_type": "stream",
     "text": [
      "C:\\Users\\Omar\\AppData\\Local\\Temp\\ipykernel_9936\\11057769.py:44: FutureWarning: The frame.append method is deprecated and will be removed from pandas in a future version. Use pandas.concat instead.\n",
      "  self.tick_data = self.tick_data.append(df)\n"
     ]
    },
    {
     "name": "stdout",
     "output_type": "stream",
     "text": [
      "185 "
     ]
    },
    {
     "name": "stderr",
     "output_type": "stream",
     "text": [
      "C:\\Users\\Omar\\AppData\\Local\\Temp\\ipykernel_9936\\11057769.py:44: FutureWarning: The frame.append method is deprecated and will be removed from pandas in a future version. Use pandas.concat instead.\n",
      "  self.tick_data = self.tick_data.append(df)\n"
     ]
    },
    {
     "name": "stdout",
     "output_type": "stream",
     "text": [
      "186 "
     ]
    },
    {
     "name": "stderr",
     "output_type": "stream",
     "text": [
      "C:\\Users\\Omar\\AppData\\Local\\Temp\\ipykernel_9936\\11057769.py:44: FutureWarning: The frame.append method is deprecated and will be removed from pandas in a future version. Use pandas.concat instead.\n",
      "  self.tick_data = self.tick_data.append(df)\n"
     ]
    },
    {
     "name": "stdout",
     "output_type": "stream",
     "text": [
      "187 "
     ]
    },
    {
     "name": "stderr",
     "output_type": "stream",
     "text": [
      "C:\\Users\\Omar\\AppData\\Local\\Temp\\ipykernel_9936\\11057769.py:44: FutureWarning: The frame.append method is deprecated and will be removed from pandas in a future version. Use pandas.concat instead.\n",
      "  self.tick_data = self.tick_data.append(df)\n"
     ]
    },
    {
     "name": "stdout",
     "output_type": "stream",
     "text": [
      "188 "
     ]
    },
    {
     "name": "stderr",
     "output_type": "stream",
     "text": [
      "C:\\Users\\Omar\\AppData\\Local\\Temp\\ipykernel_9936\\11057769.py:44: FutureWarning: The frame.append method is deprecated and will be removed from pandas in a future version. Use pandas.concat instead.\n",
      "  self.tick_data = self.tick_data.append(df)\n"
     ]
    },
    {
     "name": "stdout",
     "output_type": "stream",
     "text": [
      "189 "
     ]
    },
    {
     "name": "stderr",
     "output_type": "stream",
     "text": [
      "C:\\Users\\Omar\\AppData\\Local\\Temp\\ipykernel_9936\\11057769.py:44: FutureWarning: The frame.append method is deprecated and will be removed from pandas in a future version. Use pandas.concat instead.\n",
      "  self.tick_data = self.tick_data.append(df)\n"
     ]
    },
    {
     "name": "stdout",
     "output_type": "stream",
     "text": [
      "190 "
     ]
    },
    {
     "name": "stderr",
     "output_type": "stream",
     "text": [
      "C:\\Users\\Omar\\AppData\\Local\\Temp\\ipykernel_9936\\11057769.py:44: FutureWarning: The frame.append method is deprecated and will be removed from pandas in a future version. Use pandas.concat instead.\n",
      "  self.tick_data = self.tick_data.append(df)\n"
     ]
    },
    {
     "name": "stdout",
     "output_type": "stream",
     "text": [
      "191 "
     ]
    },
    {
     "name": "stderr",
     "output_type": "stream",
     "text": [
      "C:\\Users\\Omar\\AppData\\Local\\Temp\\ipykernel_9936\\11057769.py:44: FutureWarning: The frame.append method is deprecated and will be removed from pandas in a future version. Use pandas.concat instead.\n",
      "  self.tick_data = self.tick_data.append(df)\n"
     ]
    },
    {
     "name": "stdout",
     "output_type": "stream",
     "text": [
      "192 "
     ]
    },
    {
     "name": "stderr",
     "output_type": "stream",
     "text": [
      "C:\\Users\\Omar\\AppData\\Local\\Temp\\ipykernel_9936\\11057769.py:44: FutureWarning: The frame.append method is deprecated and will be removed from pandas in a future version. Use pandas.concat instead.\n",
      "  self.tick_data = self.tick_data.append(df)\n"
     ]
    },
    {
     "name": "stdout",
     "output_type": "stream",
     "text": [
      "193 "
     ]
    },
    {
     "name": "stderr",
     "output_type": "stream",
     "text": [
      "C:\\Users\\Omar\\AppData\\Local\\Temp\\ipykernel_9936\\11057769.py:44: FutureWarning: The frame.append method is deprecated and will be removed from pandas in a future version. Use pandas.concat instead.\n",
      "  self.tick_data = self.tick_data.append(df)\n"
     ]
    },
    {
     "name": "stdout",
     "output_type": "stream",
     "text": [
      "194 "
     ]
    },
    {
     "name": "stderr",
     "output_type": "stream",
     "text": [
      "C:\\Users\\Omar\\AppData\\Local\\Temp\\ipykernel_9936\\11057769.py:44: FutureWarning: The frame.append method is deprecated and will be removed from pandas in a future version. Use pandas.concat instead.\n",
      "  self.tick_data = self.tick_data.append(df)\n"
     ]
    },
    {
     "name": "stdout",
     "output_type": "stream",
     "text": [
      "195 "
     ]
    },
    {
     "name": "stderr",
     "output_type": "stream",
     "text": [
      "C:\\Users\\Omar\\AppData\\Local\\Temp\\ipykernel_9936\\11057769.py:44: FutureWarning: The frame.append method is deprecated and will be removed from pandas in a future version. Use pandas.concat instead.\n",
      "  self.tick_data = self.tick_data.append(df)\n"
     ]
    },
    {
     "name": "stdout",
     "output_type": "stream",
     "text": [
      "196 "
     ]
    },
    {
     "name": "stderr",
     "output_type": "stream",
     "text": [
      "C:\\Users\\Omar\\AppData\\Local\\Temp\\ipykernel_9936\\11057769.py:44: FutureWarning: The frame.append method is deprecated and will be removed from pandas in a future version. Use pandas.concat instead.\n",
      "  self.tick_data = self.tick_data.append(df)\n"
     ]
    },
    {
     "name": "stdout",
     "output_type": "stream",
     "text": [
      "197 "
     ]
    },
    {
     "name": "stderr",
     "output_type": "stream",
     "text": [
      "C:\\Users\\Omar\\AppData\\Local\\Temp\\ipykernel_9936\\11057769.py:44: FutureWarning: The frame.append method is deprecated and will be removed from pandas in a future version. Use pandas.concat instead.\n",
      "  self.tick_data = self.tick_data.append(df)\n"
     ]
    },
    {
     "name": "stdout",
     "output_type": "stream",
     "text": [
      "198 "
     ]
    },
    {
     "name": "stderr",
     "output_type": "stream",
     "text": [
      "C:\\Users\\Omar\\AppData\\Local\\Temp\\ipykernel_9936\\11057769.py:44: FutureWarning: The frame.append method is deprecated and will be removed from pandas in a future version. Use pandas.concat instead.\n",
      "  self.tick_data = self.tick_data.append(df)\n"
     ]
    },
    {
     "name": "stdout",
     "output_type": "stream",
     "text": [
      "199 "
     ]
    },
    {
     "name": "stderr",
     "output_type": "stream",
     "text": [
      "C:\\Users\\Omar\\AppData\\Local\\Temp\\ipykernel_9936\\11057769.py:44: FutureWarning: The frame.append method is deprecated and will be removed from pandas in a future version. Use pandas.concat instead.\n",
      "  self.tick_data = self.tick_data.append(df)\n"
     ]
    },
    {
     "name": "stdout",
     "output_type": "stream",
     "text": [
      "200 "
     ]
    },
    {
     "name": "stderr",
     "output_type": "stream",
     "text": [
      "C:\\Users\\Omar\\AppData\\Local\\Temp\\ipykernel_9936\\11057769.py:44: FutureWarning: The frame.append method is deprecated and will be removed from pandas in a future version. Use pandas.concat instead.\n",
      "  self.tick_data = self.tick_data.append(df)\n"
     ]
    },
    {
     "name": "stdout",
     "output_type": "stream",
     "text": [
      "201 "
     ]
    },
    {
     "name": "stderr",
     "output_type": "stream",
     "text": [
      "C:\\Users\\Omar\\AppData\\Local\\Temp\\ipykernel_9936\\11057769.py:44: FutureWarning: The frame.append method is deprecated and will be removed from pandas in a future version. Use pandas.concat instead.\n",
      "  self.tick_data = self.tick_data.append(df)\n"
     ]
    },
    {
     "name": "stdout",
     "output_type": "stream",
     "text": [
      "202 "
     ]
    },
    {
     "name": "stderr",
     "output_type": "stream",
     "text": [
      "C:\\Users\\Omar\\AppData\\Local\\Temp\\ipykernel_9936\\11057769.py:44: FutureWarning: The frame.append method is deprecated and will be removed from pandas in a future version. Use pandas.concat instead.\n",
      "  self.tick_data = self.tick_data.append(df)\n"
     ]
    },
    {
     "name": "stdout",
     "output_type": "stream",
     "text": [
      "203 "
     ]
    },
    {
     "name": "stderr",
     "output_type": "stream",
     "text": [
      "C:\\Users\\Omar\\AppData\\Local\\Temp\\ipykernel_9936\\11057769.py:44: FutureWarning: The frame.append method is deprecated and will be removed from pandas in a future version. Use pandas.concat instead.\n",
      "  self.tick_data = self.tick_data.append(df)\n"
     ]
    },
    {
     "name": "stdout",
     "output_type": "stream",
     "text": [
      "204 "
     ]
    },
    {
     "name": "stderr",
     "output_type": "stream",
     "text": [
      "C:\\Users\\Omar\\AppData\\Local\\Temp\\ipykernel_9936\\11057769.py:44: FutureWarning: The frame.append method is deprecated and will be removed from pandas in a future version. Use pandas.concat instead.\n",
      "  self.tick_data = self.tick_data.append(df)\n"
     ]
    },
    {
     "name": "stdout",
     "output_type": "stream",
     "text": [
      "205 "
     ]
    },
    {
     "name": "stderr",
     "output_type": "stream",
     "text": [
      "C:\\Users\\Omar\\AppData\\Local\\Temp\\ipykernel_9936\\11057769.py:44: FutureWarning: The frame.append method is deprecated and will be removed from pandas in a future version. Use pandas.concat instead.\n",
      "  self.tick_data = self.tick_data.append(df)\n"
     ]
    },
    {
     "name": "stdout",
     "output_type": "stream",
     "text": [
      "206 "
     ]
    },
    {
     "name": "stderr",
     "output_type": "stream",
     "text": [
      "C:\\Users\\Omar\\AppData\\Local\\Temp\\ipykernel_9936\\11057769.py:44: FutureWarning: The frame.append method is deprecated and will be removed from pandas in a future version. Use pandas.concat instead.\n",
      "  self.tick_data = self.tick_data.append(df)\n"
     ]
    },
    {
     "name": "stdout",
     "output_type": "stream",
     "text": [
      "207 "
     ]
    },
    {
     "name": "stderr",
     "output_type": "stream",
     "text": [
      "C:\\Users\\Omar\\AppData\\Local\\Temp\\ipykernel_9936\\11057769.py:44: FutureWarning: The frame.append method is deprecated and will be removed from pandas in a future version. Use pandas.concat instead.\n",
      "  self.tick_data = self.tick_data.append(df)\n"
     ]
    },
    {
     "name": "stdout",
     "output_type": "stream",
     "text": [
      "208 "
     ]
    },
    {
     "name": "stderr",
     "output_type": "stream",
     "text": [
      "C:\\Users\\Omar\\AppData\\Local\\Temp\\ipykernel_9936\\11057769.py:44: FutureWarning: The frame.append method is deprecated and will be removed from pandas in a future version. Use pandas.concat instead.\n",
      "  self.tick_data = self.tick_data.append(df)\n"
     ]
    },
    {
     "name": "stdout",
     "output_type": "stream",
     "text": [
      "209 "
     ]
    },
    {
     "name": "stderr",
     "output_type": "stream",
     "text": [
      "C:\\Users\\Omar\\AppData\\Local\\Temp\\ipykernel_9936\\11057769.py:44: FutureWarning: The frame.append method is deprecated and will be removed from pandas in a future version. Use pandas.concat instead.\n",
      "  self.tick_data = self.tick_data.append(df)\n"
     ]
    },
    {
     "name": "stdout",
     "output_type": "stream",
     "text": [
      "210 "
     ]
    },
    {
     "name": "stderr",
     "output_type": "stream",
     "text": [
      "C:\\Users\\Omar\\AppData\\Local\\Temp\\ipykernel_9936\\11057769.py:44: FutureWarning: The frame.append method is deprecated and will be removed from pandas in a future version. Use pandas.concat instead.\n",
      "  self.tick_data = self.tick_data.append(df)\n"
     ]
    },
    {
     "name": "stdout",
     "output_type": "stream",
     "text": [
      "211 "
     ]
    },
    {
     "name": "stderr",
     "output_type": "stream",
     "text": [
      "C:\\Users\\Omar\\AppData\\Local\\Temp\\ipykernel_9936\\11057769.py:44: FutureWarning: The frame.append method is deprecated and will be removed from pandas in a future version. Use pandas.concat instead.\n",
      "  self.tick_data = self.tick_data.append(df)\n"
     ]
    },
    {
     "name": "stdout",
     "output_type": "stream",
     "text": [
      "212 "
     ]
    },
    {
     "name": "stderr",
     "output_type": "stream",
     "text": [
      "C:\\Users\\Omar\\AppData\\Local\\Temp\\ipykernel_9936\\11057769.py:44: FutureWarning: The frame.append method is deprecated and will be removed from pandas in a future version. Use pandas.concat instead.\n",
      "  self.tick_data = self.tick_data.append(df)\n"
     ]
    },
    {
     "name": "stdout",
     "output_type": "stream",
     "text": [
      "213 "
     ]
    },
    {
     "name": "stderr",
     "output_type": "stream",
     "text": [
      "C:\\Users\\Omar\\AppData\\Local\\Temp\\ipykernel_9936\\11057769.py:44: FutureWarning: The frame.append method is deprecated and will be removed from pandas in a future version. Use pandas.concat instead.\n",
      "  self.tick_data = self.tick_data.append(df)\n"
     ]
    },
    {
     "name": "stdout",
     "output_type": "stream",
     "text": [
      "214 "
     ]
    },
    {
     "name": "stderr",
     "output_type": "stream",
     "text": [
      "C:\\Users\\Omar\\AppData\\Local\\Temp\\ipykernel_9936\\11057769.py:44: FutureWarning: The frame.append method is deprecated and will be removed from pandas in a future version. Use pandas.concat instead.\n",
      "  self.tick_data = self.tick_data.append(df)\n"
     ]
    },
    {
     "name": "stdout",
     "output_type": "stream",
     "text": [
      "215 "
     ]
    },
    {
     "name": "stderr",
     "output_type": "stream",
     "text": [
      "C:\\Users\\Omar\\AppData\\Local\\Temp\\ipykernel_9936\\11057769.py:44: FutureWarning: The frame.append method is deprecated and will be removed from pandas in a future version. Use pandas.concat instead.\n",
      "  self.tick_data = self.tick_data.append(df)\n"
     ]
    },
    {
     "name": "stdout",
     "output_type": "stream",
     "text": [
      "216 "
     ]
    },
    {
     "name": "stderr",
     "output_type": "stream",
     "text": [
      "C:\\Users\\Omar\\AppData\\Local\\Temp\\ipykernel_9936\\11057769.py:44: FutureWarning: The frame.append method is deprecated and will be removed from pandas in a future version. Use pandas.concat instead.\n",
      "  self.tick_data = self.tick_data.append(df)\n"
     ]
    },
    {
     "name": "stdout",
     "output_type": "stream",
     "text": [
      "217 "
     ]
    },
    {
     "name": "stderr",
     "output_type": "stream",
     "text": [
      "C:\\Users\\Omar\\AppData\\Local\\Temp\\ipykernel_9936\\11057769.py:44: FutureWarning: The frame.append method is deprecated and will be removed from pandas in a future version. Use pandas.concat instead.\n",
      "  self.tick_data = self.tick_data.append(df)\n"
     ]
    },
    {
     "name": "stdout",
     "output_type": "stream",
     "text": [
      "218 "
     ]
    },
    {
     "name": "stderr",
     "output_type": "stream",
     "text": [
      "C:\\Users\\Omar\\AppData\\Local\\Temp\\ipykernel_9936\\11057769.py:44: FutureWarning: The frame.append method is deprecated and will be removed from pandas in a future version. Use pandas.concat instead.\n",
      "  self.tick_data = self.tick_data.append(df)\n"
     ]
    },
    {
     "name": "stdout",
     "output_type": "stream",
     "text": [
      "219 "
     ]
    },
    {
     "name": "stderr",
     "output_type": "stream",
     "text": [
      "C:\\Users\\Omar\\AppData\\Local\\Temp\\ipykernel_9936\\11057769.py:44: FutureWarning: The frame.append method is deprecated and will be removed from pandas in a future version. Use pandas.concat instead.\n",
      "  self.tick_data = self.tick_data.append(df)\n"
     ]
    },
    {
     "name": "stdout",
     "output_type": "stream",
     "text": [
      "220 "
     ]
    },
    {
     "name": "stderr",
     "output_type": "stream",
     "text": [
      "C:\\Users\\Omar\\AppData\\Local\\Temp\\ipykernel_9936\\11057769.py:44: FutureWarning: The frame.append method is deprecated and will be removed from pandas in a future version. Use pandas.concat instead.\n",
      "  self.tick_data = self.tick_data.append(df)\n"
     ]
    },
    {
     "name": "stdout",
     "output_type": "stream",
     "text": [
      "221 "
     ]
    },
    {
     "name": "stderr",
     "output_type": "stream",
     "text": [
      "C:\\Users\\Omar\\AppData\\Local\\Temp\\ipykernel_9936\\11057769.py:44: FutureWarning: The frame.append method is deprecated and will be removed from pandas in a future version. Use pandas.concat instead.\n",
      "  self.tick_data = self.tick_data.append(df)\n"
     ]
    },
    {
     "name": "stdout",
     "output_type": "stream",
     "text": [
      "222 "
     ]
    },
    {
     "name": "stderr",
     "output_type": "stream",
     "text": [
      "C:\\Users\\Omar\\AppData\\Local\\Temp\\ipykernel_9936\\11057769.py:44: FutureWarning: The frame.append method is deprecated and will be removed from pandas in a future version. Use pandas.concat instead.\n",
      "  self.tick_data = self.tick_data.append(df)\n"
     ]
    },
    {
     "name": "stdout",
     "output_type": "stream",
     "text": [
      "223 "
     ]
    },
    {
     "name": "stderr",
     "output_type": "stream",
     "text": [
      "C:\\Users\\Omar\\AppData\\Local\\Temp\\ipykernel_9936\\11057769.py:44: FutureWarning: The frame.append method is deprecated and will be removed from pandas in a future version. Use pandas.concat instead.\n",
      "  self.tick_data = self.tick_data.append(df)\n"
     ]
    },
    {
     "name": "stdout",
     "output_type": "stream",
     "text": [
      "224 "
     ]
    },
    {
     "name": "stderr",
     "output_type": "stream",
     "text": [
      "C:\\Users\\Omar\\AppData\\Local\\Temp\\ipykernel_9936\\11057769.py:44: FutureWarning: The frame.append method is deprecated and will be removed from pandas in a future version. Use pandas.concat instead.\n",
      "  self.tick_data = self.tick_data.append(df)\n"
     ]
    },
    {
     "name": "stdout",
     "output_type": "stream",
     "text": [
      "225 "
     ]
    },
    {
     "name": "stderr",
     "output_type": "stream",
     "text": [
      "C:\\Users\\Omar\\AppData\\Local\\Temp\\ipykernel_9936\\11057769.py:44: FutureWarning: The frame.append method is deprecated and will be removed from pandas in a future version. Use pandas.concat instead.\n",
      "  self.tick_data = self.tick_data.append(df)\n"
     ]
    },
    {
     "name": "stdout",
     "output_type": "stream",
     "text": [
      "226 "
     ]
    },
    {
     "name": "stderr",
     "output_type": "stream",
     "text": [
      "C:\\Users\\Omar\\AppData\\Local\\Temp\\ipykernel_9936\\11057769.py:44: FutureWarning: The frame.append method is deprecated and will be removed from pandas in a future version. Use pandas.concat instead.\n",
      "  self.tick_data = self.tick_data.append(df)\n"
     ]
    },
    {
     "name": "stdout",
     "output_type": "stream",
     "text": [
      "227 "
     ]
    },
    {
     "name": "stderr",
     "output_type": "stream",
     "text": [
      "C:\\Users\\Omar\\AppData\\Local\\Temp\\ipykernel_9936\\11057769.py:44: FutureWarning: The frame.append method is deprecated and will be removed from pandas in a future version. Use pandas.concat instead.\n",
      "  self.tick_data = self.tick_data.append(df)\n"
     ]
    },
    {
     "name": "stdout",
     "output_type": "stream",
     "text": [
      "228 "
     ]
    },
    {
     "name": "stderr",
     "output_type": "stream",
     "text": [
      "C:\\Users\\Omar\\AppData\\Local\\Temp\\ipykernel_9936\\11057769.py:44: FutureWarning: The frame.append method is deprecated and will be removed from pandas in a future version. Use pandas.concat instead.\n",
      "  self.tick_data = self.tick_data.append(df)\n"
     ]
    },
    {
     "name": "stdout",
     "output_type": "stream",
     "text": [
      "229 "
     ]
    },
    {
     "name": "stderr",
     "output_type": "stream",
     "text": [
      "C:\\Users\\Omar\\AppData\\Local\\Temp\\ipykernel_9936\\11057769.py:44: FutureWarning: The frame.append method is deprecated and will be removed from pandas in a future version. Use pandas.concat instead.\n",
      "  self.tick_data = self.tick_data.append(df)\n"
     ]
    },
    {
     "name": "stdout",
     "output_type": "stream",
     "text": [
      "230 "
     ]
    },
    {
     "name": "stderr",
     "output_type": "stream",
     "text": [
      "C:\\Users\\Omar\\AppData\\Local\\Temp\\ipykernel_9936\\11057769.py:44: FutureWarning: The frame.append method is deprecated and will be removed from pandas in a future version. Use pandas.concat instead.\n",
      "  self.tick_data = self.tick_data.append(df)\n"
     ]
    },
    {
     "name": "stdout",
     "output_type": "stream",
     "text": [
      "231 "
     ]
    },
    {
     "name": "stderr",
     "output_type": "stream",
     "text": [
      "C:\\Users\\Omar\\AppData\\Local\\Temp\\ipykernel_9936\\11057769.py:44: FutureWarning: The frame.append method is deprecated and will be removed from pandas in a future version. Use pandas.concat instead.\n",
      "  self.tick_data = self.tick_data.append(df)\n"
     ]
    },
    {
     "name": "stdout",
     "output_type": "stream",
     "text": [
      "232 "
     ]
    },
    {
     "name": "stderr",
     "output_type": "stream",
     "text": [
      "C:\\Users\\Omar\\AppData\\Local\\Temp\\ipykernel_9936\\11057769.py:44: FutureWarning: The frame.append method is deprecated and will be removed from pandas in a future version. Use pandas.concat instead.\n",
      "  self.tick_data = self.tick_data.append(df)\n"
     ]
    },
    {
     "name": "stdout",
     "output_type": "stream",
     "text": [
      "233 "
     ]
    },
    {
     "name": "stderr",
     "output_type": "stream",
     "text": [
      "C:\\Users\\Omar\\AppData\\Local\\Temp\\ipykernel_9936\\11057769.py:44: FutureWarning: The frame.append method is deprecated and will be removed from pandas in a future version. Use pandas.concat instead.\n",
      "  self.tick_data = self.tick_data.append(df)\n"
     ]
    },
    {
     "name": "stdout",
     "output_type": "stream",
     "text": [
      "234 "
     ]
    },
    {
     "name": "stderr",
     "output_type": "stream",
     "text": [
      "C:\\Users\\Omar\\AppData\\Local\\Temp\\ipykernel_9936\\11057769.py:44: FutureWarning: The frame.append method is deprecated and will be removed from pandas in a future version. Use pandas.concat instead.\n",
      "  self.tick_data = self.tick_data.append(df)\n"
     ]
    },
    {
     "name": "stdout",
     "output_type": "stream",
     "text": [
      "235 "
     ]
    },
    {
     "name": "stderr",
     "output_type": "stream",
     "text": [
      "C:\\Users\\Omar\\AppData\\Local\\Temp\\ipykernel_9936\\11057769.py:44: FutureWarning: The frame.append method is deprecated and will be removed from pandas in a future version. Use pandas.concat instead.\n",
      "  self.tick_data = self.tick_data.append(df)\n"
     ]
    },
    {
     "name": "stdout",
     "output_type": "stream",
     "text": [
      "236 "
     ]
    },
    {
     "name": "stderr",
     "output_type": "stream",
     "text": [
      "C:\\Users\\Omar\\AppData\\Local\\Temp\\ipykernel_9936\\11057769.py:44: FutureWarning: The frame.append method is deprecated and will be removed from pandas in a future version. Use pandas.concat instead.\n",
      "  self.tick_data = self.tick_data.append(df)\n"
     ]
    },
    {
     "name": "stdout",
     "output_type": "stream",
     "text": [
      "237 "
     ]
    },
    {
     "name": "stderr",
     "output_type": "stream",
     "text": [
      "C:\\Users\\Omar\\AppData\\Local\\Temp\\ipykernel_9936\\11057769.py:44: FutureWarning: The frame.append method is deprecated and will be removed from pandas in a future version. Use pandas.concat instead.\n",
      "  self.tick_data = self.tick_data.append(df)\n"
     ]
    },
    {
     "name": "stdout",
     "output_type": "stream",
     "text": [
      "238 "
     ]
    },
    {
     "name": "stderr",
     "output_type": "stream",
     "text": [
      "C:\\Users\\Omar\\AppData\\Local\\Temp\\ipykernel_9936\\11057769.py:44: FutureWarning: The frame.append method is deprecated and will be removed from pandas in a future version. Use pandas.concat instead.\n",
      "  self.tick_data = self.tick_data.append(df)\n"
     ]
    },
    {
     "name": "stdout",
     "output_type": "stream",
     "text": [
      "239 "
     ]
    },
    {
     "name": "stderr",
     "output_type": "stream",
     "text": [
      "C:\\Users\\Omar\\AppData\\Local\\Temp\\ipykernel_9936\\11057769.py:44: FutureWarning: The frame.append method is deprecated and will be removed from pandas in a future version. Use pandas.concat instead.\n",
      "  self.tick_data = self.tick_data.append(df)\n"
     ]
    },
    {
     "name": "stdout",
     "output_type": "stream",
     "text": [
      "240 "
     ]
    },
    {
     "name": "stderr",
     "output_type": "stream",
     "text": [
      "C:\\Users\\Omar\\AppData\\Local\\Temp\\ipykernel_9936\\11057769.py:44: FutureWarning: The frame.append method is deprecated and will be removed from pandas in a future version. Use pandas.concat instead.\n",
      "  self.tick_data = self.tick_data.append(df)\n"
     ]
    },
    {
     "name": "stdout",
     "output_type": "stream",
     "text": [
      "241 "
     ]
    },
    {
     "name": "stderr",
     "output_type": "stream",
     "text": [
      "C:\\Users\\Omar\\AppData\\Local\\Temp\\ipykernel_9936\\11057769.py:44: FutureWarning: The frame.append method is deprecated and will be removed from pandas in a future version. Use pandas.concat instead.\n",
      "  self.tick_data = self.tick_data.append(df)\n"
     ]
    },
    {
     "name": "stdout",
     "output_type": "stream",
     "text": [
      "242 "
     ]
    },
    {
     "name": "stderr",
     "output_type": "stream",
     "text": [
      "C:\\Users\\Omar\\AppData\\Local\\Temp\\ipykernel_9936\\11057769.py:44: FutureWarning: The frame.append method is deprecated and will be removed from pandas in a future version. Use pandas.concat instead.\n",
      "  self.tick_data = self.tick_data.append(df)\n"
     ]
    },
    {
     "name": "stdout",
     "output_type": "stream",
     "text": [
      "243 "
     ]
    },
    {
     "name": "stderr",
     "output_type": "stream",
     "text": [
      "C:\\Users\\Omar\\AppData\\Local\\Temp\\ipykernel_9936\\11057769.py:44: FutureWarning: The frame.append method is deprecated and will be removed from pandas in a future version. Use pandas.concat instead.\n",
      "  self.tick_data = self.tick_data.append(df)\n"
     ]
    },
    {
     "name": "stdout",
     "output_type": "stream",
     "text": [
      "244 "
     ]
    },
    {
     "name": "stderr",
     "output_type": "stream",
     "text": [
      "C:\\Users\\Omar\\AppData\\Local\\Temp\\ipykernel_9936\\11057769.py:44: FutureWarning: The frame.append method is deprecated and will be removed from pandas in a future version. Use pandas.concat instead.\n",
      "  self.tick_data = self.tick_data.append(df)\n"
     ]
    },
    {
     "name": "stdout",
     "output_type": "stream",
     "text": [
      "245 "
     ]
    },
    {
     "name": "stderr",
     "output_type": "stream",
     "text": [
      "C:\\Users\\Omar\\AppData\\Local\\Temp\\ipykernel_9936\\11057769.py:44: FutureWarning: The frame.append method is deprecated and will be removed from pandas in a future version. Use pandas.concat instead.\n",
      "  self.tick_data = self.tick_data.append(df)\n"
     ]
    },
    {
     "name": "stdout",
     "output_type": "stream",
     "text": [
      "246 "
     ]
    },
    {
     "name": "stderr",
     "output_type": "stream",
     "text": [
      "C:\\Users\\Omar\\AppData\\Local\\Temp\\ipykernel_9936\\11057769.py:44: FutureWarning: The frame.append method is deprecated and will be removed from pandas in a future version. Use pandas.concat instead.\n",
      "  self.tick_data = self.tick_data.append(df)\n"
     ]
    },
    {
     "name": "stdout",
     "output_type": "stream",
     "text": [
      "247 "
     ]
    },
    {
     "name": "stderr",
     "output_type": "stream",
     "text": [
      "C:\\Users\\Omar\\AppData\\Local\\Temp\\ipykernel_9936\\11057769.py:44: FutureWarning: The frame.append method is deprecated and will be removed from pandas in a future version. Use pandas.concat instead.\n",
      "  self.tick_data = self.tick_data.append(df)\n"
     ]
    },
    {
     "name": "stdout",
     "output_type": "stream",
     "text": [
      "248 "
     ]
    },
    {
     "name": "stderr",
     "output_type": "stream",
     "text": [
      "C:\\Users\\Omar\\AppData\\Local\\Temp\\ipykernel_9936\\11057769.py:44: FutureWarning: The frame.append method is deprecated and will be removed from pandas in a future version. Use pandas.concat instead.\n",
      "  self.tick_data = self.tick_data.append(df)\n"
     ]
    },
    {
     "name": "stdout",
     "output_type": "stream",
     "text": [
      "249 "
     ]
    },
    {
     "name": "stderr",
     "output_type": "stream",
     "text": [
      "C:\\Users\\Omar\\AppData\\Local\\Temp\\ipykernel_9936\\11057769.py:44: FutureWarning: The frame.append method is deprecated and will be removed from pandas in a future version. Use pandas.concat instead.\n",
      "  self.tick_data = self.tick_data.append(df)\n"
     ]
    },
    {
     "name": "stdout",
     "output_type": "stream",
     "text": [
      "250 "
     ]
    },
    {
     "name": "stderr",
     "output_type": "stream",
     "text": [
      "C:\\Users\\Omar\\AppData\\Local\\Temp\\ipykernel_9936\\11057769.py:44: FutureWarning: The frame.append method is deprecated and will be removed from pandas in a future version. Use pandas.concat instead.\n",
      "  self.tick_data = self.tick_data.append(df)\n"
     ]
    },
    {
     "name": "stdout",
     "output_type": "stream",
     "text": [
      "251 "
     ]
    },
    {
     "name": "stderr",
     "output_type": "stream",
     "text": [
      "C:\\Users\\Omar\\AppData\\Local\\Temp\\ipykernel_9936\\11057769.py:44: FutureWarning: The frame.append method is deprecated and will be removed from pandas in a future version. Use pandas.concat instead.\n",
      "  self.tick_data = self.tick_data.append(df)\n"
     ]
    },
    {
     "name": "stdout",
     "output_type": "stream",
     "text": [
      "252 "
     ]
    },
    {
     "name": "stderr",
     "output_type": "stream",
     "text": [
      "C:\\Users\\Omar\\AppData\\Local\\Temp\\ipykernel_9936\\11057769.py:44: FutureWarning: The frame.append method is deprecated and will be removed from pandas in a future version. Use pandas.concat instead.\n",
      "  self.tick_data = self.tick_data.append(df)\n"
     ]
    },
    {
     "name": "stdout",
     "output_type": "stream",
     "text": [
      "253 "
     ]
    },
    {
     "name": "stderr",
     "output_type": "stream",
     "text": [
      "C:\\Users\\Omar\\AppData\\Local\\Temp\\ipykernel_9936\\11057769.py:44: FutureWarning: The frame.append method is deprecated and will be removed from pandas in a future version. Use pandas.concat instead.\n",
      "  self.tick_data = self.tick_data.append(df)\n"
     ]
    },
    {
     "name": "stdout",
     "output_type": "stream",
     "text": [
      "254 "
     ]
    },
    {
     "name": "stderr",
     "output_type": "stream",
     "text": [
      "C:\\Users\\Omar\\AppData\\Local\\Temp\\ipykernel_9936\\11057769.py:44: FutureWarning: The frame.append method is deprecated and will be removed from pandas in a future version. Use pandas.concat instead.\n",
      "  self.tick_data = self.tick_data.append(df)\n"
     ]
    },
    {
     "name": "stdout",
     "output_type": "stream",
     "text": [
      "255 "
     ]
    },
    {
     "name": "stderr",
     "output_type": "stream",
     "text": [
      "C:\\Users\\Omar\\AppData\\Local\\Temp\\ipykernel_9936\\11057769.py:44: FutureWarning: The frame.append method is deprecated and will be removed from pandas in a future version. Use pandas.concat instead.\n",
      "  self.tick_data = self.tick_data.append(df)\n"
     ]
    },
    {
     "name": "stdout",
     "output_type": "stream",
     "text": [
      "256 "
     ]
    },
    {
     "name": "stderr",
     "output_type": "stream",
     "text": [
      "C:\\Users\\Omar\\AppData\\Local\\Temp\\ipykernel_9936\\11057769.py:44: FutureWarning: The frame.append method is deprecated and will be removed from pandas in a future version. Use pandas.concat instead.\n",
      "  self.tick_data = self.tick_data.append(df)\n"
     ]
    },
    {
     "name": "stdout",
     "output_type": "stream",
     "text": [
      "257 "
     ]
    },
    {
     "name": "stderr",
     "output_type": "stream",
     "text": [
      "C:\\Users\\Omar\\AppData\\Local\\Temp\\ipykernel_9936\\11057769.py:44: FutureWarning: The frame.append method is deprecated and will be removed from pandas in a future version. Use pandas.concat instead.\n",
      "  self.tick_data = self.tick_data.append(df)\n"
     ]
    },
    {
     "name": "stdout",
     "output_type": "stream",
     "text": [
      "258 259 "
     ]
    },
    {
     "name": "stderr",
     "output_type": "stream",
     "text": [
      "C:\\Users\\Omar\\AppData\\Local\\Temp\\ipykernel_9936\\11057769.py:44: FutureWarning: The frame.append method is deprecated and will be removed from pandas in a future version. Use pandas.concat instead.\n",
      "  self.tick_data = self.tick_data.append(df)\n",
      "C:\\Users\\Omar\\AppData\\Local\\Temp\\ipykernel_9936\\11057769.py:44: FutureWarning: The frame.append method is deprecated and will be removed from pandas in a future version. Use pandas.concat instead.\n",
      "  self.tick_data = self.tick_data.append(df)\n"
     ]
    },
    {
     "name": "stdout",
     "output_type": "stream",
     "text": [
      "260 "
     ]
    },
    {
     "name": "stderr",
     "output_type": "stream",
     "text": [
      "C:\\Users\\Omar\\AppData\\Local\\Temp\\ipykernel_9936\\11057769.py:44: FutureWarning: The frame.append method is deprecated and will be removed from pandas in a future version. Use pandas.concat instead.\n",
      "  self.tick_data = self.tick_data.append(df)\n"
     ]
    },
    {
     "name": "stdout",
     "output_type": "stream",
     "text": [
      "261 "
     ]
    },
    {
     "name": "stderr",
     "output_type": "stream",
     "text": [
      "C:\\Users\\Omar\\AppData\\Local\\Temp\\ipykernel_9936\\11057769.py:44: FutureWarning: The frame.append method is deprecated and will be removed from pandas in a future version. Use pandas.concat instead.\n",
      "  self.tick_data = self.tick_data.append(df)\n"
     ]
    },
    {
     "name": "stdout",
     "output_type": "stream",
     "text": [
      "262 "
     ]
    },
    {
     "name": "stderr",
     "output_type": "stream",
     "text": [
      "C:\\Users\\Omar\\AppData\\Local\\Temp\\ipykernel_9936\\11057769.py:44: FutureWarning: The frame.append method is deprecated and will be removed from pandas in a future version. Use pandas.concat instead.\n",
      "  self.tick_data = self.tick_data.append(df)\n"
     ]
    },
    {
     "name": "stdout",
     "output_type": "stream",
     "text": [
      "263 "
     ]
    },
    {
     "name": "stderr",
     "output_type": "stream",
     "text": [
      "C:\\Users\\Omar\\AppData\\Local\\Temp\\ipykernel_9936\\11057769.py:44: FutureWarning: The frame.append method is deprecated and will be removed from pandas in a future version. Use pandas.concat instead.\n",
      "  self.tick_data = self.tick_data.append(df)\n"
     ]
    },
    {
     "name": "stdout",
     "output_type": "stream",
     "text": [
      "264 "
     ]
    },
    {
     "name": "stderr",
     "output_type": "stream",
     "text": [
      "C:\\Users\\Omar\\AppData\\Local\\Temp\\ipykernel_9936\\11057769.py:44: FutureWarning: The frame.append method is deprecated and will be removed from pandas in a future version. Use pandas.concat instead.\n",
      "  self.tick_data = self.tick_data.append(df)\n"
     ]
    },
    {
     "name": "stdout",
     "output_type": "stream",
     "text": [
      "265 "
     ]
    },
    {
     "name": "stderr",
     "output_type": "stream",
     "text": [
      "C:\\Users\\Omar\\AppData\\Local\\Temp\\ipykernel_9936\\11057769.py:44: FutureWarning: The frame.append method is deprecated and will be removed from pandas in a future version. Use pandas.concat instead.\n",
      "  self.tick_data = self.tick_data.append(df)\n"
     ]
    },
    {
     "name": "stdout",
     "output_type": "stream",
     "text": [
      "266 "
     ]
    },
    {
     "name": "stderr",
     "output_type": "stream",
     "text": [
      "C:\\Users\\Omar\\AppData\\Local\\Temp\\ipykernel_9936\\11057769.py:44: FutureWarning: The frame.append method is deprecated and will be removed from pandas in a future version. Use pandas.concat instead.\n",
      "  self.tick_data = self.tick_data.append(df)\n"
     ]
    },
    {
     "name": "stdout",
     "output_type": "stream",
     "text": [
      "267 "
     ]
    },
    {
     "name": "stderr",
     "output_type": "stream",
     "text": [
      "C:\\Users\\Omar\\AppData\\Local\\Temp\\ipykernel_9936\\11057769.py:44: FutureWarning: The frame.append method is deprecated and will be removed from pandas in a future version. Use pandas.concat instead.\n",
      "  self.tick_data = self.tick_data.append(df)\n"
     ]
    },
    {
     "name": "stdout",
     "output_type": "stream",
     "text": [
      "268 "
     ]
    },
    {
     "name": "stderr",
     "output_type": "stream",
     "text": [
      "C:\\Users\\Omar\\AppData\\Local\\Temp\\ipykernel_9936\\11057769.py:44: FutureWarning: The frame.append method is deprecated and will be removed from pandas in a future version. Use pandas.concat instead.\n",
      "  self.tick_data = self.tick_data.append(df)\n"
     ]
    },
    {
     "name": "stdout",
     "output_type": "stream",
     "text": [
      "269 "
     ]
    },
    {
     "name": "stderr",
     "output_type": "stream",
     "text": [
      "C:\\Users\\Omar\\AppData\\Local\\Temp\\ipykernel_9936\\11057769.py:44: FutureWarning: The frame.append method is deprecated and will be removed from pandas in a future version. Use pandas.concat instead.\n",
      "  self.tick_data = self.tick_data.append(df)\n"
     ]
    },
    {
     "name": "stdout",
     "output_type": "stream",
     "text": [
      "270 "
     ]
    },
    {
     "name": "stderr",
     "output_type": "stream",
     "text": [
      "C:\\Users\\Omar\\AppData\\Local\\Temp\\ipykernel_9936\\11057769.py:44: FutureWarning: The frame.append method is deprecated and will be removed from pandas in a future version. Use pandas.concat instead.\n",
      "  self.tick_data = self.tick_data.append(df)\n"
     ]
    },
    {
     "name": "stdout",
     "output_type": "stream",
     "text": [
      "271 "
     ]
    },
    {
     "name": "stderr",
     "output_type": "stream",
     "text": [
      "C:\\Users\\Omar\\AppData\\Local\\Temp\\ipykernel_9936\\11057769.py:44: FutureWarning: The frame.append method is deprecated and will be removed from pandas in a future version. Use pandas.concat instead.\n",
      "  self.tick_data = self.tick_data.append(df)\n"
     ]
    },
    {
     "name": "stdout",
     "output_type": "stream",
     "text": [
      "272 "
     ]
    },
    {
     "name": "stderr",
     "output_type": "stream",
     "text": [
      "C:\\Users\\Omar\\AppData\\Local\\Temp\\ipykernel_9936\\11057769.py:44: FutureWarning: The frame.append method is deprecated and will be removed from pandas in a future version. Use pandas.concat instead.\n",
      "  self.tick_data = self.tick_data.append(df)\n"
     ]
    },
    {
     "name": "stdout",
     "output_type": "stream",
     "text": [
      "273 "
     ]
    },
    {
     "name": "stderr",
     "output_type": "stream",
     "text": [
      "C:\\Users\\Omar\\AppData\\Local\\Temp\\ipykernel_9936\\11057769.py:44: FutureWarning: The frame.append method is deprecated and will be removed from pandas in a future version. Use pandas.concat instead.\n",
      "  self.tick_data = self.tick_data.append(df)\n"
     ]
    },
    {
     "name": "stdout",
     "output_type": "stream",
     "text": [
      "274 "
     ]
    },
    {
     "name": "stderr",
     "output_type": "stream",
     "text": [
      "C:\\Users\\Omar\\AppData\\Local\\Temp\\ipykernel_9936\\11057769.py:44: FutureWarning: The frame.append method is deprecated and will be removed from pandas in a future version. Use pandas.concat instead.\n",
      "  self.tick_data = self.tick_data.append(df)\n"
     ]
    },
    {
     "name": "stdout",
     "output_type": "stream",
     "text": [
      "275 "
     ]
    },
    {
     "name": "stderr",
     "output_type": "stream",
     "text": [
      "C:\\Users\\Omar\\AppData\\Local\\Temp\\ipykernel_9936\\11057769.py:44: FutureWarning: The frame.append method is deprecated and will be removed from pandas in a future version. Use pandas.concat instead.\n",
      "  self.tick_data = self.tick_data.append(df)\n"
     ]
    },
    {
     "name": "stdout",
     "output_type": "stream",
     "text": [
      "276 "
     ]
    },
    {
     "name": "stderr",
     "output_type": "stream",
     "text": [
      "C:\\Users\\Omar\\AppData\\Local\\Temp\\ipykernel_9936\\11057769.py:44: FutureWarning: The frame.append method is deprecated and will be removed from pandas in a future version. Use pandas.concat instead.\n",
      "  self.tick_data = self.tick_data.append(df)\n"
     ]
    },
    {
     "name": "stdout",
     "output_type": "stream",
     "text": [
      "277 "
     ]
    },
    {
     "name": "stderr",
     "output_type": "stream",
     "text": [
      "C:\\Users\\Omar\\AppData\\Local\\Temp\\ipykernel_9936\\11057769.py:44: FutureWarning: The frame.append method is deprecated and will be removed from pandas in a future version. Use pandas.concat instead.\n",
      "  self.tick_data = self.tick_data.append(df)\n"
     ]
    }
   ],
   "source": [
    "trader.get_most_recent()\n",
    "trader.stream_data(trader.instrument, stop = 1000)\n",
    "if trader.position != 0:\n",
    "    close_order = trader.create_order(trader.instrument, units = -trader.position * trader.units,\n",
    "                                      suppress = True, ret = True) \n",
    "    trader.report_trade(close_order, \"GOING NEUTRAL\")\n",
    "    trader.position = 0"
   ]
  },
  {
   "cell_type": "code",
   "execution_count": null,
   "metadata": {
    "scrolled": true
   },
   "outputs": [],
   "source": [
    "trader.data"
   ]
  },
  {
   "cell_type": "code",
   "execution_count": null,
   "metadata": {},
   "outputs": [],
   "source": []
  },
  {
   "cell_type": "markdown",
   "metadata": {},
   "source": [
    "__[FXCM] Implementation__"
   ]
  },
  {
   "cell_type": "code",
   "execution_count": null,
   "metadata": {},
   "outputs": [],
   "source": [
    "api = fxcmpy.fxcmpy(config_file= \"fxcm.cfg\")"
   ]
  },
  {
   "cell_type": "code",
   "execution_count": null,
   "metadata": {},
   "outputs": [],
   "source": [
    "col = [\"tradeId\", \"amountK\", \"currency\", \"grossPL\", \"isBuy\"]"
   ]
  },
  {
   "cell_type": "code",
   "execution_count": null,
   "metadata": {},
   "outputs": [],
   "source": [
    "class DNNTrader():\n",
    "    \n",
    "    def __init__(self, instrument, bar_length, window, lags, model, mu, std, units):\n",
    "        self.instrument = instrument\n",
    "        self.bar_length = pd.to_timedelta(bar_length) \n",
    "        self.tick_data = None\n",
    "        self.raw_data = None\n",
    "        self.data = None \n",
    "        self.ticks = 0\n",
    "        self.last_bar = None  \n",
    "        self.units = units\n",
    "        self.position = 0\n",
    "        \n",
    "        #*****************add strategy-specific attributes here******************\n",
    "        self.window = window\n",
    "        self.lags = lags\n",
    "        self.model = model\n",
    "        self.mu = mu\n",
    "        self.std = std\n",
    "        #************************************************************************        \n",
    "    \n",
    "    def get_most_recent(self, period = \"m1\", number = 10000):\n",
    "        while True:  \n",
    "            time.sleep(5)\n",
    "            df = api.get_candles(self.instrument, number = number, period = period, columns = [\"bidclose\", \"askclose\"])\n",
    "            df[self.instrument] = (df.bidclose + df.askclose) / 2\n",
    "            df = df[self.instrument].to_frame()\n",
    "            df = df.resample(self.bar_length, label = \"right\").last().dropna().iloc[:-1]\n",
    "            self.raw_data = df.copy()\n",
    "            self.last_bar = self.raw_data.index[-1]\n",
    "            if pd.to_datetime(datetime.utcnow()) - self.last_bar < self.bar_length:\n",
    "                self.start_time = pd.to_datetime(datetime.utcnow()) # NEW -> Start Time of Trading Session\n",
    "                break\n",
    "    \n",
    "    def get_tick_data(self, data, dataframe):\n",
    "        \n",
    "        self.ticks += 1\n",
    "        print(self.ticks, end = \" \", flush = True)\n",
    "        \n",
    "        recent_tick = pd.to_datetime(data[\"Updated\"], unit = \"ms\")\n",
    "        \n",
    "        if recent_tick - self.last_bar > self.bar_length:\n",
    "            self.tick_data = dataframe.loc[self.last_bar:, [\"Bid\", \"Ask\"]]\n",
    "            self.tick_data[self.instrument] = (self.tick_data.Ask + self.tick_data.Bid)/2\n",
    "            self.tick_data = self.tick_data[self.instrument].to_frame()\n",
    "            self.resample_and_join()\n",
    "            self.define_strategy() \n",
    "            self.execute_trades()\n",
    "            \n",
    "    def resample_and_join(self):\n",
    "        self.raw_data = self.raw_data.append(self.tick_data.resample(self.bar_length, \n",
    "                                                             label=\"right\").last().ffill().iloc[:-1])\n",
    "        self.last_bar = self.raw_data.index[-1]  \n",
    "        \n",
    "    def define_strategy(self): # \"strategy-specific\"\n",
    "        df = self.raw_data.copy()\n",
    "        \n",
    "        #******************** define your strategy here ************************\n",
    "        df = df.append(self.tick_data.iloc[-1]) # append latest tick (== open price of current bar)\n",
    "        df[\"returns\"] = np.log(df[self.instrument] / df[self.instrument].shift())\n",
    "        df[\"dir\"] = np.where(df[\"returns\"] > 0, 1, 0)\n",
    "        df[\"sma\"] = df[self.instrument].rolling(self.window).mean() - df[self.instrument].rolling(150).mean()\n",
    "        df[\"boll\"] = (df[self.instrument] - df[self.instrument].rolling(self.window).mean()) / df[self.instrument].rolling(self.window).std()\n",
    "        df[\"min\"] = df[self.instrument].rolling(self.window).min() / df[self.instrument] - 1\n",
    "        df[\"max\"] = df[self.instrument].rolling(self.window).max() / df[self.instrument] - 1\n",
    "        df[\"mom\"] = df[\"returns\"].rolling(3).mean()\n",
    "        df[\"vol\"] = df[\"returns\"].rolling(self.window).std()\n",
    "        df.dropna(inplace = True)\n",
    "        \n",
    "        # create lags\n",
    "        self.cols = []\n",
    "        features = [\"dir\", \"sma\", \"boll\", \"min\", \"max\", \"mom\", \"vol\"]\n",
    "\n",
    "        for f in features:\n",
    "            for lag in range(1, self.lags + 1):\n",
    "                col = \"{}_lag_{}\".format(f, lag)\n",
    "                df[col] = df[f].shift(lag)\n",
    "                self.cols.append(col)\n",
    "        df.dropna(inplace = True)\n",
    "        \n",
    "        # standardization\n",
    "        df_s = (df - self.mu) / self.std\n",
    "        # predict\n",
    "        df[\"proba\"] = self.model.predict(df_s[self.cols])\n",
    "        \n",
    "        #determine positions\n",
    "        df = df.loc[self.start_time:].copy() # starting with first live_stream bar (removing historical bars)\n",
    "        df[\"position\"] = np.where(df.proba < 0.47, -1, np.nan)\n",
    "        df[\"position\"] = np.where(df.proba > 0.53, 1, df.position)\n",
    "        df[\"position\"] = df.position.ffill().fillna(0) # start with neutral position if no strong signal\n",
    "        #***********************************************************************\n",
    "        \n",
    "        self.data = df.copy()\n",
    "    \n",
    "    def execute_trades(self):\n",
    "        if self.data[\"position\"].iloc[-1] == 1:\n",
    "            if self.position == 0:\n",
    "                order = api.create_market_buy_order(self.instrument, self.units)\n",
    "                self.report_trade(order, \"GOING LONG\")  \n",
    "            elif self.position == -1:\n",
    "                order = api.create_market_buy_order(self.instrument, self.units * 2)\n",
    "                self.report_trade(order, \"GOING LONG\")  \n",
    "            self.position = 1\n",
    "        elif self.data[\"position\"].iloc[-1] == -1: \n",
    "            if self.position == 0:\n",
    "                order = api.create_market_sell_order(self.instrument, self.units)\n",
    "                self.report_trade(order, \"GOING SHORT\")  \n",
    "            elif self.position == 1:\n",
    "                order = api.create_market_sell_order(self.instrument, self.units * 2)\n",
    "                self.report_trade(order, \"GOING SHORT\")  \n",
    "            self.position = -1\n",
    "        elif self.data[\"position\"].iloc[-1] == 0: \n",
    "            if self.position == -1:\n",
    "                order = api.create_market_buy_order(self.instrument, self.units)\n",
    "                self.report_trade(order, \"GOING NEUTRAL\") \n",
    "            elif self.position == 1:\n",
    "                order = api.create_market_sell_order(self.instrument, self.units)\n",
    "                self.report_trade(order, \"GOING NEUTRAL\")  \n",
    "            self.position = 0\n",
    "\n",
    "    def report_trade(self, order, going):\n",
    "        time = order.get_time()\n",
    "        units = api.get_open_positions().amountK.iloc[-1]\n",
    "        price = api.get_open_positions().open.iloc[-1]\n",
    "        unreal_pl = api.get_open_positions().grossPL.sum()\n",
    "        print(\"\\n\" + 100* \"-\")\n",
    "        print(\"{} | {}\".format(time, going))\n",
    "        print(\"{} | units = {} | price = {} | Unreal. P&L = {}\".format(time, units, price, unreal_pl))\n",
    "        print(100 * \"-\" + \"\\n\")"
   ]
  },
  {
   "cell_type": "code",
   "execution_count": null,
   "metadata": {},
   "outputs": [],
   "source": [
    "trader = DNNTrader(\"EUR/USD\", bar_length = \"20min\", \n",
    "                   window = 50, lags = 5, model = model, mu = mu, std = std, units = 100)"
   ]
  },
  {
   "cell_type": "code",
   "execution_count": null,
   "metadata": {
    "scrolled": true
   },
   "outputs": [],
   "source": [
    "trader.get_most_recent()\n",
    "api.subscribe_market_data(trader.instrument, (trader.get_tick_data, ))"
   ]
  },
  {
   "cell_type": "code",
   "execution_count": null,
   "metadata": {},
   "outputs": [],
   "source": [
    "api.unsubscribe_market_data(trader.instrument)\n",
    "if len(api.get_open_positions()) != 0: # if we have final open position(s) (netting and hedging)\n",
    "    api.close_all_for_symbol(trader.instrument)\n",
    "    print(2*\"\\n\" + \"{} | GOING NEUTRAL\".format(str(datetime.utcnow())) + \"\\n\")\n",
    "    time.sleep(20)\n",
    "    print(api.get_closed_positions_summary()[col])\n",
    "    trader.position = 0"
   ]
  },
  {
   "cell_type": "code",
   "execution_count": null,
   "metadata": {},
   "outputs": [],
   "source": [
    "trader.data"
   ]
  },
  {
   "cell_type": "code",
   "execution_count": null,
   "metadata": {},
   "outputs": [],
   "source": [
    "api.close()"
   ]
  },
  {
   "cell_type": "code",
   "execution_count": null,
   "metadata": {},
   "outputs": [],
   "source": []
  }
 ],
 "metadata": {
  "kernelspec": {
   "display_name": "Python 3 (ipykernel)",
   "language": "python",
   "name": "python3"
  },
  "language_info": {
   "codemirror_mode": {
    "name": "ipython",
    "version": 3
   },
   "file_extension": ".py",
   "mimetype": "text/x-python",
   "name": "python",
   "nbconvert_exporter": "python",
   "pygments_lexer": "ipython3",
   "version": "3.10.4"
  }
 },
 "nbformat": 4,
 "nbformat_minor": 4
}
